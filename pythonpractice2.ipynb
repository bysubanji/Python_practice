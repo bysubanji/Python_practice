{
  "nbformat": 4,
  "nbformat_minor": 0,
  "metadata": {
    "colab": {
      "name": "pythonpractice2.ipynb",
      "provenance": [],
      "authorship_tag": "ABX9TyMZM/cCJya0z4TWpwzBXg5s",
      "include_colab_link": true
    },
    "kernelspec": {
      "name": "python3",
      "display_name": "Python 3"
    },
    "language_info": {
      "name": "python"
    }
  },
  "cells": [
    {
      "cell_type": "markdown",
      "metadata": {
        "id": "view-in-github",
        "colab_type": "text"
      },
      "source": [
        "<a href=\"https://colab.research.google.com/github/bysubanji/Python_practice/blob/main/pythonpractice2.ipynb\" target=\"_parent\"><img src=\"https://colab.research.google.com/assets/colab-badge.svg\" alt=\"Open In Colab\"/></a>"
      ]
    },
    {
      "cell_type": "code",
      "source": [
        "#LISTS\n",
        "my_lst= [1,3,4,5,7]\n",
        "print(my_lst)"
      ],
      "metadata": {
        "colab": {
          "base_uri": "https://localhost:8080/"
        },
        "id": "zEO8RUSGM4Jg",
        "outputId": "a4dd517b-3b71-4550-d0e8-81429ae9c6e1"
      },
      "execution_count": 1,
      "outputs": [
        {
          "output_type": "stream",
          "name": "stdout",
          "text": [
            "[1, 3, 4, 5, 7]\n"
          ]
        }
      ]
    },
    {
      "cell_type": "code",
      "source": [
        "lst= ['my_lst','4','8','hulk']\n",
        "len(lst)"
      ],
      "metadata": {
        "colab": {
          "base_uri": "https://localhost:8080/"
        },
        "id": "_z9TvAmeNPWF",
        "outputId": "55ec7e0a-b57f-4bd4-f89e-3b5842cee44b"
      },
      "execution_count": 4,
      "outputs": [
        {
          "output_type": "execute_result",
          "data": {
            "text/plain": [
              "4"
            ]
          },
          "metadata": {},
          "execution_count": 4
        }
      ]
    },
    {
      "cell_type": "code",
      "source": [
        "print(lst)"
      ],
      "metadata": {
        "colab": {
          "base_uri": "https://localhost:8080/"
        },
        "id": "g9XAjvO6Nl-D",
        "outputId": "50938094-35e4-42b1-a10c-ef832d88d5bc"
      },
      "execution_count": 5,
      "outputs": [
        {
          "output_type": "stream",
          "name": "stdout",
          "text": [
            "['my_lst', '4', '8', 'hulk']\n"
          ]
        }
      ]
    },
    {
      "cell_type": "code",
      "source": [
        "loss_functions=['mean absolute error','mean squared error','huber loss','log loss','hinge loss']\n"
      ],
      "metadata": {
        "id": "16aTRdtnNqwX"
      },
      "execution_count": 6,
      "outputs": []
    },
    {
      "cell_type": "code",
      "source": [
        "print(loss_functions[:-3])"
      ],
      "metadata": {
        "colab": {
          "base_uri": "https://localhost:8080/"
        },
        "id": "Py6PvIC-PsYx",
        "outputId": "870b5786-ed95-4b2a-8b89-450f9e39d70d"
      },
      "execution_count": 15,
      "outputs": [
        {
          "output_type": "stream",
          "name": "stdout",
          "text": [
            "['mean absolute error', 'mean squared error']\n"
          ]
        }
      ]
    },
    {
      "cell_type": "code",
      "source": [
        "# Grab the LAST FOUR elements of the list\n",
        "print(loss_functions[-4:])"
      ],
      "metadata": {
        "colab": {
          "base_uri": "https://localhost:8080/"
        },
        "id": "Gf3jF55pQLUk",
        "outputId": "321de357-28b5-4053-9a90-10343958469c"
      },
      "execution_count": 19,
      "outputs": [
        {
          "output_type": "stream",
          "name": "stdout",
          "text": [
            "['mean squared error', 'huber loss', 'log loss', 'hinge loss']\n"
          ]
        }
      ]
    },
    {
      "cell_type": "code",
      "source": [
        "print(loss_functions[-1:])"
      ],
      "metadata": {
        "colab": {
          "base_uri": "https://localhost:8080/"
        },
        "id": "hKMu4RqAQvMU",
        "outputId": "d05d9331-5246-46b8-b78f-181e4b458984"
      },
      "execution_count": 20,
      "outputs": [
        {
          "output_type": "stream",
          "name": "stdout",
          "text": [
            "['hinge loss']\n"
          ]
        }
      ]
    },
    {
      "cell_type": "code",
      "source": [
        "loss_functions+[\"wishing\"]"
      ],
      "metadata": {
        "colab": {
          "base_uri": "https://localhost:8080/"
        },
        "id": "dYEd2oAyQ0B6",
        "outputId": "64cbb894-4c9d-477f-f7c8-a565c14152e5"
      },
      "execution_count": 22,
      "outputs": [
        {
          "output_type": "execute_result",
          "data": {
            "text/plain": [
              "['mean absolute error',\n",
              " 'mean squared error',\n",
              " 'huber loss',\n",
              " 'log loss',\n",
              " 'hinge loss',\n",
              " 'wishing']"
            ]
          },
          "metadata": {},
          "execution_count": 22
        }
      ]
    },
    {
      "cell_type": "code",
      "source": [
        "loss_functions"
      ],
      "metadata": {
        "colab": {
          "base_uri": "https://localhost:8080/"
        },
        "id": "JOmclGh9RShH",
        "outputId": "5f976c6b-e9be-4d30-b25c-8e15b8d2ab56"
      },
      "execution_count": 23,
      "outputs": [
        {
          "output_type": "execute_result",
          "data": {
            "text/plain": [
              "['mean absolute error',\n",
              " 'mean squared error',\n",
              " 'huber loss',\n",
              " 'log loss',\n",
              " 'hinge loss']"
            ]
          },
          "metadata": {},
          "execution_count": 23
        }
      ]
    },
    {
      "cell_type": "code",
      "source": [
        "## so to make permanent changes we need to re-assign\n",
        "loss_functions=loss_functions+['something']"
      ],
      "metadata": {
        "id": "eDlmXE84RWFK"
      },
      "execution_count": 24,
      "outputs": []
    },
    {
      "cell_type": "code",
      "source": [
        "##Its done now\n",
        "loss_functions"
      ],
      "metadata": {
        "colab": {
          "base_uri": "https://localhost:8080/"
        },
        "id": "nQEq1av9Qz_g",
        "outputId": "09e22772-d370-42f9-b3c5-c846285ef045"
      },
      "execution_count": 25,
      "outputs": [
        {
          "output_type": "execute_result",
          "data": {
            "text/plain": [
              "['mean absolute error',\n",
              " 'mean squared error',\n",
              " 'huber loss',\n",
              " 'log loss',\n",
              " 'hinge loss',\n",
              " 'something']"
            ]
          },
          "metadata": {},
          "execution_count": 25
        }
      ]
    },
    {
      "cell_type": "code",
      "source": [
        "loss_functions=loss_functions*2"
      ],
      "metadata": {
        "id": "uSaUkNtpQz8F"
      },
      "execution_count": 30,
      "outputs": []
    },
    {
      "cell_type": "code",
      "source": [
        "loss_functions"
      ],
      "metadata": {
        "colab": {
          "base_uri": "https://localhost:8080/"
        },
        "id": "eo2iat1SQz5B",
        "outputId": "c1f9d11b-c5b8-4ea1-bbbc-4659eb938bb8"
      },
      "execution_count": 31,
      "outputs": [
        {
          "output_type": "execute_result",
          "data": {
            "text/plain": [
              "['mean absolute error',\n",
              " 'mean squared error',\n",
              " 'huber loss',\n",
              " 'log loss',\n",
              " 'hinge loss',\n",
              " 'something',\n",
              " 'mean absolute error',\n",
              " 'mean squared error',\n",
              " 'huber loss',\n",
              " 'log loss',\n",
              " 'hinge loss',\n",
              " 'something',\n",
              " 'mean absolute error',\n",
              " 'mean squared error',\n",
              " 'huber loss',\n",
              " 'log loss',\n",
              " 'hinge loss',\n",
              " 'something',\n",
              " 'mean absolute error',\n",
              " 'mean squared error',\n",
              " 'huber loss',\n",
              " 'log loss',\n",
              " 'hinge loss',\n",
              " 'something']"
            ]
          },
          "metadata": {},
          "execution_count": 31
        }
      ]
    },
    {
      "cell_type": "code",
      "source": [
        "len(loss_functions)"
      ],
      "metadata": {
        "colab": {
          "base_uri": "https://localhost:8080/"
        },
        "id": "7W0nPDR7Qz2H",
        "outputId": "0670c2e1-d40e-4668-dfbc-c85b27220c78"
      },
      "execution_count": 32,
      "outputs": [
        {
          "output_type": "execute_result",
          "data": {
            "text/plain": [
              "24"
            ]
          },
          "metadata": {},
          "execution_count": 32
        }
      ]
    },
    {
      "cell_type": "code",
      "source": [
        "print(min(loss_functions))"
      ],
      "metadata": {
        "colab": {
          "base_uri": "https://localhost:8080/"
        },
        "id": "gOXqT0cSQzxV",
        "outputId": "0ecd522b-b32b-4532-9080-208e8756f949"
      },
      "execution_count": 33,
      "outputs": [
        {
          "output_type": "stream",
          "name": "stdout",
          "text": [
            "hinge loss\n"
          ]
        }
      ]
    },
    {
      "cell_type": "code",
      "source": [
        "print(max(loss_functions))"
      ],
      "metadata": {
        "colab": {
          "base_uri": "https://localhost:8080/"
        },
        "id": "sOIF_XO8SWwb",
        "outputId": "ff8d9757-bd42-40a1-ee65-4cab601691ed"
      },
      "execution_count": 34,
      "outputs": [
        {
          "output_type": "stream",
          "name": "stdout",
          "text": [
            "something\n"
          ]
        }
      ]
    },
    {
      "cell_type": "code",
      "source": [
        "new_list = [6, 9, 1, 3, 5.5]\n",
        "print(sum(new_list))"
      ],
      "metadata": {
        "colab": {
          "base_uri": "https://localhost:8080/"
        },
        "id": "oqHHxI8OQzid",
        "outputId": "86d916ca-6293-45e1-a91b-1eaa8737b3d9"
      },
      "execution_count": 38,
      "outputs": [
        {
          "output_type": "stream",
          "name": "stdout",
          "text": [
            "24.5\n"
          ]
        }
      ]
    },
    {
      "cell_type": "code",
      "source": [
        "new_list = [6, 9, 1, 3, 5.5]\n",
        "print(sorted(new_list))"
      ],
      "metadata": {
        "colab": {
          "base_uri": "https://localhost:8080/"
        },
        "id": "tw5sG-9yQzft",
        "outputId": "750a688f-7334-44d8-ba4a-0176963dbe13"
      },
      "execution_count": 39,
      "outputs": [
        {
          "output_type": "stream",
          "name": "stdout",
          "text": [
            "[1, 3, 5.5, 6, 9]\n"
          ]
        }
      ]
    },
    {
      "cell_type": "code",
      "execution_count": 41,
      "metadata": {
        "id": "Nbvv_w1-_ee5",
        "colab": {
          "base_uri": "https://localhost:8080/"
        },
        "outputId": "41fb606e-9b03-4cc2-d544-996cd41e1835"
      },
      "outputs": [
        {
          "output_type": "stream",
          "name": "stdout",
          "text": [
            "[9, 6, 5.5, 3, 1]\n"
          ]
        }
      ],
      "source": [
        "new_list = [6, 9, 1, 3, 5.5]\n",
        "print(sorted(new_list,reverse=True))"
      ]
    },
    {
      "cell_type": "code",
      "source": [
        "new_list.append('2r3')"
      ],
      "metadata": {
        "id": "JsV_-e0oS6Mv"
      },
      "execution_count": 43,
      "outputs": []
    },
    {
      "cell_type": "code",
      "source": [
        "#### Appned method changes the list\n",
        "print(new_list)"
      ],
      "metadata": {
        "colab": {
          "base_uri": "https://localhost:8080/"
        },
        "id": "hYF7Rz5ZS6JM",
        "outputId": "88e3121a-5ed4-46d8-8da9-219d5b7e8f5e"
      },
      "execution_count": 45,
      "outputs": [
        {
          "output_type": "stream",
          "name": "stdout",
          "text": [
            "[6, 9, 1, 3, 5.5, '2r3']\n"
          ]
        }
      ]
    },
    {
      "cell_type": "code",
      "source": [
        "new_list.append([1,2,3,4,5])"
      ],
      "metadata": {
        "id": "vrP5WsBfS6B9"
      },
      "execution_count": 46,
      "outputs": []
    },
    {
      "cell_type": "code",
      "source": [
        "print(new_list)"
      ],
      "metadata": {
        "colab": {
          "base_uri": "https://localhost:8080/"
        },
        "id": "NER6goeaS5_D",
        "outputId": "a9ab59cf-7050-4669-9066-d1ddf29a318e"
      },
      "execution_count": 47,
      "outputs": [
        {
          "output_type": "stream",
          "name": "stdout",
          "text": [
            "[6, 9, 1, 3, 5.5, '2r3', [1, 2, 3, 4, 5]]\n"
          ]
        }
      ]
    },
    {
      "cell_type": "code",
      "source": [
        "## Extend \n",
        "new_list.extend(['2','3','wubba','lubba','dubba'])"
      ],
      "metadata": {
        "id": "XUrvu0wkS572"
      },
      "execution_count": 49,
      "outputs": []
    },
    {
      "cell_type": "code",
      "source": [
        "new_list"
      ],
      "metadata": {
        "colab": {
          "base_uri": "https://localhost:8080/"
        },
        "id": "lUFAqNKLS53z",
        "outputId": "b29f11f7-2d13-43f6-9a62-0a28ee23164a"
      },
      "execution_count": 50,
      "outputs": [
        {
          "output_type": "execute_result",
          "data": {
            "text/plain": [
              "[6, 9, 1, 3, 5.5, '2r3', [1, 2, 3, 4, 5], '2', '3', 'wubba', 'lubba', 'dubba']"
            ]
          },
          "metadata": {},
          "execution_count": 50
        }
      ]
    },
    {
      "cell_type": "code",
      "source": [
        "##pop method popping off\n",
        "new_list.pop()"
      ],
      "metadata": {
        "colab": {
          "base_uri": "https://localhost:8080/",
          "height": 35
        },
        "id": "7_bkq6_sS50v",
        "outputId": "1bc69cd7-f861-44dc-8cd1-86cdde31aebb"
      },
      "execution_count": 55,
      "outputs": [
        {
          "output_type": "execute_result",
          "data": {
            "text/plain": [
              "'lubba'"
            ],
            "application/vnd.google.colaboratory.intrinsic+json": {
              "type": "string"
            }
          },
          "metadata": {},
          "execution_count": 55
        }
      ]
    },
    {
      "cell_type": "code",
      "source": [
        "new_list.pop(3)"
      ],
      "metadata": {
        "colab": {
          "base_uri": "https://localhost:8080/"
        },
        "id": "xhDLQXmFS5xt",
        "outputId": "9aa54e49-64ac-4873-cf56-bf3bb05ce5ec"
      },
      "execution_count": 56,
      "outputs": [
        {
          "output_type": "execute_result",
          "data": {
            "text/plain": [
              "5.5"
            ]
          },
          "metadata": {},
          "execution_count": 56
        }
      ]
    },
    {
      "cell_type": "code",
      "source": [
        "print(new_list)"
      ],
      "metadata": {
        "colab": {
          "base_uri": "https://localhost:8080/"
        },
        "id": "8AeXZobWS5uo",
        "outputId": "30408106-4dc3-4620-e910-c6fd661450a5"
      },
      "execution_count": 57,
      "outputs": [
        {
          "output_type": "stream",
          "name": "stdout",
          "text": [
            "[6, 9, 1, '2r3', [1, 2, 3, 4, 5], '2', '3', 'wubba']\n"
          ]
        }
      ]
    },
    {
      "cell_type": "code",
      "source": [
        "new_list.remove(6)"
      ],
      "metadata": {
        "id": "UL53_JtWS5qw"
      },
      "execution_count": 58,
      "outputs": []
    },
    {
      "cell_type": "code",
      "source": [
        "new_list"
      ],
      "metadata": {
        "colab": {
          "base_uri": "https://localhost:8080/"
        },
        "id": "_DREPM_MS5nh",
        "outputId": "7b2d1c59-6a49-4744-e629-420645f026c1"
      },
      "execution_count": 59,
      "outputs": [
        {
          "output_type": "execute_result",
          "data": {
            "text/plain": [
              "[9, 1, '2r3', [1, 2, 3, 4, 5], '2', '3', 'wubba']"
            ]
          },
          "metadata": {},
          "execution_count": 59
        }
      ]
    },
    {
      "cell_type": "code",
      "source": [
        "new_list.clear"
      ],
      "metadata": {
        "colab": {
          "base_uri": "https://localhost:8080/"
        },
        "id": "EWGMSIhzVxRC",
        "outputId": "9b10f544-1b13-49ca-b7b7-43dd2de7753c"
      },
      "execution_count": 60,
      "outputs": [
        {
          "output_type": "execute_result",
          "data": {
            "text/plain": [
              "<function list.clear>"
            ]
          },
          "metadata": {},
          "execution_count": 60
        }
      ]
    },
    {
      "cell_type": "code",
      "source": [
        "new_list"
      ],
      "metadata": {
        "colab": {
          "base_uri": "https://localhost:8080/"
        },
        "id": "SCeK888rVxL0",
        "outputId": "5bdbddbb-a85f-4e1f-a693-86c71218cec0"
      },
      "execution_count": 61,
      "outputs": [
        {
          "output_type": "execute_result",
          "data": {
            "text/plain": [
              "[9, 1, '2r3', [1, 2, 3, 4, 5], '2', '3', 'wubba']"
            ]
          },
          "metadata": {},
          "execution_count": 61
        }
      ]
    },
    {
      "cell_type": "code",
      "source": [
        "new_list.count('wubba')"
      ],
      "metadata": {
        "colab": {
          "base_uri": "https://localhost:8080/"
        },
        "id": "ETdsT_A9VxJD",
        "outputId": "70301c5b-3cdb-4031-8faf-eed2212bc3fe"
      },
      "execution_count": 63,
      "outputs": [
        {
          "output_type": "execute_result",
          "data": {
            "text/plain": [
              "1"
            ]
          },
          "metadata": {},
          "execution_count": 63
        }
      ]
    },
    {
      "cell_type": "code",
      "source": [
        "new_list=new_list+[2,3,3]"
      ],
      "metadata": {
        "id": "LIFmAl0qVxGb"
      },
      "execution_count": 70,
      "outputs": []
    },
    {
      "cell_type": "code",
      "source": [
        "new_list"
      ],
      "metadata": {
        "colab": {
          "base_uri": "https://localhost:8080/"
        },
        "id": "eIn4cHJdVxAS",
        "outputId": "0ce3a53d-09ff-4900-92a2-55dee04c3ca2"
      },
      "execution_count": 71,
      "outputs": [
        {
          "output_type": "execute_result",
          "data": {
            "text/plain": [
              "[9, 1, '2r3', [1, 2, 3, 4, 5], '2', '3', 'wubba', '2,3,3', 2, 3, 3]"
            ]
          },
          "metadata": {},
          "execution_count": 71
        }
      ]
    },
    {
      "cell_type": "code",
      "source": [
        "new_list.count('2,3,3')"
      ],
      "metadata": {
        "colab": {
          "base_uri": "https://localhost:8080/"
        },
        "id": "VhZecK3zVw6n",
        "outputId": "1b379a52-2aa7-4b3e-f419-ff3903f4ca82"
      },
      "execution_count": 80,
      "outputs": [
        {
          "output_type": "execute_result",
          "data": {
            "text/plain": [
              "1"
            ]
          },
          "metadata": {},
          "execution_count": 80
        }
      ]
    },
    {
      "cell_type": "code",
      "source": [
        "line=[1,1,1,1,2,3,4,5,6,7,8,9,12,2,1,3,]"
      ],
      "metadata": {
        "id": "RBlxTJyxWzkA"
      },
      "execution_count": 75,
      "outputs": []
    },
    {
      "cell_type": "code",
      "source": [
        "line.count(1)"
      ],
      "metadata": {
        "colab": {
          "base_uri": "https://localhost:8080/"
        },
        "id": "27ro1QsLW_bd",
        "outputId": "1b6448c7-90ab-4b36-a004-793586ef177f"
      },
      "execution_count": 76,
      "outputs": [
        {
          "output_type": "execute_result",
          "data": {
            "text/plain": [
              "5"
            ]
          },
          "metadata": {},
          "execution_count": 76
        }
      ]
    },
    {
      "cell_type": "code",
      "source": [
        "line.index(9)"
      ],
      "metadata": {
        "colab": {
          "base_uri": "https://localhost:8080/"
        },
        "id": "RBHE9sfZW_XS",
        "outputId": "1d675b92-e555-4706-a5c5-68bb33370d5e"
      },
      "execution_count": 83,
      "outputs": [
        {
          "output_type": "execute_result",
          "data": {
            "text/plain": [
              "11"
            ]
          },
          "metadata": {},
          "execution_count": 83
        }
      ]
    },
    {
      "cell_type": "code",
      "source": [
        "line.sort()\n",
        "print(line)"
      ],
      "metadata": {
        "colab": {
          "base_uri": "https://localhost:8080/"
        },
        "id": "nFwkOzM5XaqH",
        "outputId": "88f50501-3d6d-44cd-b4b0-af30073187e4"
      },
      "execution_count": 85,
      "outputs": [
        {
          "output_type": "stream",
          "name": "stdout",
          "text": [
            "[1, 1, 1, 1, 1, 2, 2, 3, 3, 4, 5, 6, 7, 8, 9, 12]\n"
          ]
        }
      ]
    },
    {
      "cell_type": "code",
      "source": [
        "line.sort(reverse=True)\n",
        "print(line)"
      ],
      "metadata": {
        "colab": {
          "base_uri": "https://localhost:8080/"
        },
        "id": "1MHaA_wHW_UQ",
        "outputId": "7d46140c-e221-409b-9bf1-c77e0fff7728"
      },
      "execution_count": 87,
      "outputs": [
        {
          "output_type": "stream",
          "name": "stdout",
          "text": [
            "[12, 9, 8, 7, 6, 5, 4, 3, 3, 2, 2, 1, 1, 1, 1, 1]\n"
          ]
        }
      ]
    },
    {
      "cell_type": "code",
      "source": [
        "##sort is permanent\n",
        "line"
      ],
      "metadata": {
        "colab": {
          "base_uri": "https://localhost:8080/"
        },
        "id": "kTV2-nu9X1rj",
        "outputId": "476648c1-fc9b-4a4d-aec1-e84a942fe0a0"
      },
      "execution_count": 88,
      "outputs": [
        {
          "output_type": "execute_result",
          "data": {
            "text/plain": [
              "[12, 9, 8, 7, 6, 5, 4, 3, 3, 2, 2, 1, 1, 1, 1, 1]"
            ]
          },
          "metadata": {},
          "execution_count": 88
        }
      ]
    },
    {
      "cell_type": "code",
      "source": [
        "#reverse\n",
        "line.reverse()\n",
        "print(line)"
      ],
      "metadata": {
        "colab": {
          "base_uri": "https://localhost:8080/"
        },
        "id": "FwFwwa9LW_RW",
        "outputId": "11007f58-147b-4816-d959-36d2f37958fa"
      },
      "execution_count": 93,
      "outputs": [
        {
          "output_type": "stream",
          "name": "stdout",
          "text": [
            "[1, 1, 1, 1, 1, 2, 2, 3, 3, 4, 5, 6, 7, 8, 9, 12]\n"
          ]
        }
      ]
    },
    {
      "cell_type": "code",
      "source": [
        "line1=[1,2,3,4]\n",
        "line2=['h','i','j']\n",
        "line=[9,7,5,4]"
      ],
      "metadata": {
        "id": "VkDbdapSW_Nd"
      },
      "execution_count": 94,
      "outputs": []
    },
    {
      "cell_type": "code",
      "source": [
        "lstoflst=[line1,line2,line]\n",
        "print(lstoflst)"
      ],
      "metadata": {
        "colab": {
          "base_uri": "https://localhost:8080/"
        },
        "id": "OWJGv-3mW_J5",
        "outputId": "d726d808-a084-4646-9b18-3a4943aaac29"
      },
      "execution_count": 96,
      "outputs": [
        {
          "output_type": "stream",
          "name": "stdout",
          "text": [
            "[[1, 2, 3, 4], ['h', 'i', 'j'], [9, 7, 5, 4]]\n"
          ]
        }
      ]
    },
    {
      "cell_type": "code",
      "source": [
        "lstoflst[2]"
      ],
      "metadata": {
        "colab": {
          "base_uri": "https://localhost:8080/"
        },
        "id": "vzLDKdc6W_HS",
        "outputId": "703860bb-eb0e-4906-bd23-29a7b503b151"
      },
      "execution_count": 97,
      "outputs": [
        {
          "output_type": "execute_result",
          "data": {
            "text/plain": [
              "[9, 7, 5, 4]"
            ]
          },
          "metadata": {},
          "execution_count": 97
        }
      ]
    },
    {
      "cell_type": "code",
      "source": [
        "lstoflst[1][0]"
      ],
      "metadata": {
        "colab": {
          "base_uri": "https://localhost:8080/",
          "height": 35
        },
        "id": "YO3iZY_IW_EA",
        "outputId": "01af02ab-9056-4f7d-88ca-7f7438398122"
      },
      "execution_count": 98,
      "outputs": [
        {
          "output_type": "execute_result",
          "data": {
            "text/plain": [
              "'h'"
            ],
            "application/vnd.google.colaboratory.intrinsic+json": {
              "type": "string"
            }
          },
          "metadata": {},
          "execution_count": 98
        }
      ]
    },
    {
      "cell_type": "code",
      "source": [
        "lstoflst[2][3]"
      ],
      "metadata": {
        "colab": {
          "base_uri": "https://localhost:8080/"
        },
        "id": "yIgjV4SfW_AG",
        "outputId": "029c97bb-255a-477c-f738-df8e4cac07c9"
      },
      "execution_count": 100,
      "outputs": [
        {
          "output_type": "execute_result",
          "data": {
            "text/plain": [
              "4"
            ]
          },
          "metadata": {},
          "execution_count": 100
        }
      ]
    },
    {
      "cell_type": "code",
      "source": [
        ""
      ],
      "metadata": {
        "id": "xPjfUHorW-6j"
      },
      "execution_count": null,
      "outputs": []
    },
    {
      "cell_type": "code",
      "source": [
        ""
      ],
      "metadata": {
        "id": "Knph65g6Zr9G"
      },
      "execution_count": null,
      "outputs": []
    },
    {
      "cell_type": "code",
      "source": [
        ""
      ],
      "metadata": {
        "id": "diuMbsHAZr6F"
      },
      "execution_count": null,
      "outputs": []
    },
    {
      "cell_type": "code",
      "source": [
        ""
      ],
      "metadata": {
        "id": "ZDcZ4crjZr35"
      },
      "execution_count": null,
      "outputs": []
    },
    {
      "cell_type": "code",
      "source": [
        ""
      ],
      "metadata": {
        "id": "9zGTi7nVZr1j"
      },
      "execution_count": null,
      "outputs": []
    },
    {
      "cell_type": "code",
      "source": [
        ""
      ],
      "metadata": {
        "id": "Bpts39sGZryB"
      },
      "execution_count": null,
      "outputs": []
    },
    {
      "cell_type": "code",
      "source": [
        ""
      ],
      "metadata": {
        "id": "mWFxMOMLZrvQ"
      },
      "execution_count": null,
      "outputs": []
    }
  ]
}