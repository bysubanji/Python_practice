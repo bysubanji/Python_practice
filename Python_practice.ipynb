{
  "nbformat": 4,
  "nbformat_minor": 0,
  "metadata": {
    "colab": {
      "name": "Python practice.ipynb",
      "provenance": [],
      "authorship_tag": "ABX9TyMk8IJcJoxHaZCz2TuPL24C",
      "include_colab_link": true
    },
    "kernelspec": {
      "name": "python3",
      "display_name": "Python 3"
    },
    "language_info": {
      "name": "python"
    }
  },
  "cells": [
    {
      "cell_type": "markdown",
      "metadata": {
        "id": "view-in-github",
        "colab_type": "text"
      },
      "source": [
        "<a href=\"https://colab.research.google.com/github/bysubanji/Python_practice/blob/main/Python_practice.ipynb\" target=\"_parent\"><img src=\"https://colab.research.google.com/assets/colab-badge.svg\" alt=\"Open In Colab\"/></a>"
      ]
    },
    {
      "cell_type": "code",
      "execution_count": null,
      "metadata": {
        "colab": {
          "base_uri": "https://localhost:8080/"
        },
        "id": "PjbWu61nlAWn",
        "outputId": "d68a29c1-0bc5-4132-f100-8bbdec2631af"
      },
      "outputs": [
        {
          "output_type": "stream",
          "name": "stdout",
          "text": [
            "hello, python?\n"
          ]
        }
      ],
      "source": [
        "print(\"hello, python?\")"
      ]
    },
    {
      "cell_type": "code",
      "source": [
        "var1 = 1\n",
        "var2 = 10\n",
        "print (\"var1, var2\")"
      ],
      "metadata": {
        "colab": {
          "base_uri": "https://localhost:8080/"
        },
        "id": "_grITq1Tl1sl",
        "outputId": "3fd3804d-0afb-46a3-fed8-d683c0362824"
      },
      "execution_count": null,
      "outputs": [
        {
          "output_type": "stream",
          "name": "stdout",
          "text": [
            "var1, var2\n"
          ]
        }
      ]
    },
    {
      "cell_type": "code",
      "source": [
        "str = \"hello world\"\n",
        "print(str)\n",
        "print(str[:-4])\n",
        "print(\"str\" + \"fun\") #cncat"
      ],
      "metadata": {
        "colab": {
          "base_uri": "https://localhost:8080/"
        },
        "id": "HF_U7DC4sbWP",
        "outputId": "4df0393e-8f5f-4d90-fa17-533dff9264d7"
      },
      "execution_count": null,
      "outputs": [
        {
          "output_type": "stream",
          "name": "stdout",
          "text": [
            "hello world\n",
            "hello w\n",
            "strfun\n"
          ]
        }
      ]
    },
    {
      "cell_type": "code",
      "source": [
        "dict = {}\n",
        "dict[1] = [\"this is 10\"]\n",
        "dict[2] = [\"this is 2\"]\n",
        "tinydict = {'name': 'Bhaskar' , 'employee':'53', 'dept':'sale'}\n",
        "\n"
      ],
      "metadata": {
        "id": "yG7d2t3VwBuJ"
      },
      "execution_count": 5,
      "outputs": []
    },
    {
      "cell_type": "code",
      "source": [
        "print(tinydict)"
      ],
      "metadata": {
        "id": "oo1BQdY-wBkw",
        "colab": {
          "base_uri": "https://localhost:8080/"
        },
        "outputId": "fced4a02-10a3-4624-853e-8fe625cf6713"
      },
      "execution_count": 6,
      "outputs": [
        {
          "output_type": "stream",
          "name": "stdout",
          "text": [
            "{'name': 'Bhaskar', 'employee': '53', 'dept': 'sale'}\n"
          ]
        }
      ]
    },
    {
      "cell_type": "code",
      "source": [
        "print(tinydict.keys())"
      ],
      "metadata": {
        "colab": {
          "base_uri": "https://localhost:8080/"
        },
        "id": "XPDeY7gXwTT-",
        "outputId": "632594e8-efb5-49ea-cb39-5d0102101cb9"
      },
      "execution_count": 7,
      "outputs": [
        {
          "output_type": "stream",
          "name": "stdout",
          "text": [
            "dict_keys(['name', 'employee', 'dept'])\n"
          ]
        }
      ]
    },
    {
      "cell_type": "code",
      "source": [
        "print(tinydict.values())"
      ],
      "metadata": {
        "colab": {
          "base_uri": "https://localhost:8080/"
        },
        "id": "v1Jhg4RCwXJ0",
        "outputId": "34639030-475a-46aa-bbc4-ecf9da87f1c3"
      },
      "execution_count": 9,
      "outputs": [
        {
          "output_type": "stream",
          "name": "stdout",
          "text": [
            "dict_values(['Bhaskar', '53', 'sale'])\n"
          ]
        }
      ]
    },
    {
      "cell_type": "code",
      "source": [
        "print(dict[1])"
      ],
      "metadata": {
        "colab": {
          "base_uri": "https://localhost:8080/"
        },
        "id": "nvnjqrncwbfY",
        "outputId": "df1c320e-543c-49b8-ce72-6668fcf7c820"
      },
      "execution_count": 10,
      "outputs": [
        {
          "output_type": "stream",
          "name": "stdout",
          "text": [
            "['this is 10']\n"
          ]
        }
      ]
    },
    {
      "cell_type": "code",
      "source": [
        ""
      ],
      "metadata": {
        "id": "JHnOitnkwhpx"
      },
      "execution_count": null,
      "outputs": []
    },
    {
      "cell_type": "markdown",
      "source": [
        "## Operators"
      ],
      "metadata": {
        "id": "BPH0d4qn9BZn"
      }
    },
    {
      "cell_type": "markdown",
      "source": [
        "Operators are the constructs, which can manipulate the value of operands. Consider the\n",
        "expression 4 + 5 = 9. Here, 4 and 5 are called operands and + is called the operator.\n",
        "\n",
        "\n",
        "Python language supports the following types of operators-\n",
        "\n",
        " Arithmetic Operators\n",
        "\n",
        " Comparison (Relational) Operators\n",
        "\n",
        " Assignment Operators\n",
        "\n",
        " Logical Operators\n",
        "\n",
        " Bitwise Operators\n",
        "\n",
        " Membership Operators\n",
        "\n",
        " Identity Operators"
      ],
      "metadata": {
        "id": "2Fuc0lV186ge"
      }
    },
    {
      "cell_type": "code",
      "source": [
        "a = 2\n",
        "b =34\n",
        "d = 34\n",
        "print(\"value of d is\" ,d)"
      ],
      "metadata": {
        "colab": {
          "base_uri": "https://localhost:8080/"
        },
        "id": "EynXjF23BVpl",
        "outputId": "5156605d-d9ab-4e48-a50a-95c8c59ef53a"
      },
      "execution_count": 12,
      "outputs": [
        {
          "output_type": "stream",
          "name": "stdout",
          "text": [
            "value of d is 34\n"
          ]
        }
      ]
    },
    {
      "cell_type": "code",
      "source": [
        "d = a+d\n",
        "print(\"value of d is\" ,d)"
      ],
      "metadata": {
        "colab": {
          "base_uri": "https://localhost:8080/"
        },
        "id": "2_pDotlEBuTH",
        "outputId": "f7635357-1d01-449d-beec-82cd61fccde9"
      },
      "execution_count": 13,
      "outputs": [
        {
          "output_type": "stream",
          "name": "stdout",
          "text": [
            "value of d is 36\n"
          ]
        }
      ]
    },
    {
      "cell_type": "code",
      "source": [
        "d = b*a\n",
        "print(\"value of d is\" ,d)"
      ],
      "metadata": {
        "colab": {
          "base_uri": "https://localhost:8080/"
        },
        "id": "7A0eTKScB3pD",
        "outputId": "b3ad9858-cb64-465f-ff56-836ec2284141"
      },
      "execution_count": 14,
      "outputs": [
        {
          "output_type": "stream",
          "name": "stdout",
          "text": [
            "value of d is 68\n"
          ]
        }
      ]
    },
    {
      "cell_type": "code",
      "source": [
        "d = b % a\n",
        "print(\"value of d is\" ,d)"
      ],
      "metadata": {
        "colab": {
          "base_uri": "https://localhost:8080/"
        },
        "id": "ZyqUioUhB9xn",
        "outputId": "d4cf05b5-3da3-474f-827d-726e5e458fee"
      },
      "execution_count": 16,
      "outputs": [
        {
          "output_type": "stream",
          "name": "stdout",
          "text": [
            "value of d is 0\n"
          ]
        }
      ]
    },
    {
      "cell_type": "code",
      "source": [
        "d = a-b\n",
        "print(\"value of d is\" ,d)"
      ],
      "metadata": {
        "colab": {
          "base_uri": "https://localhost:8080/"
        },
        "id": "mEQT__AxCO79",
        "outputId": "4d6ee992-7069-4548-dda4-9c2fb10e3823"
      },
      "execution_count": 17,
      "outputs": [
        {
          "output_type": "stream",
          "name": "stdout",
          "text": [
            "value of d is -32\n"
          ]
        }
      ]
    },
    {
      "cell_type": "code",
      "source": [
        "a=3\n",
        "b=3\n",
        "a==b"
      ],
      "metadata": {
        "colab": {
          "base_uri": "https://localhost:8080/"
        },
        "id": "C8ti43O2CBCu",
        "outputId": "0e47d6ac-78e7-4916-e897-c082b42ec7b7"
      },
      "execution_count": 18,
      "outputs": [
        {
          "output_type": "execute_result",
          "data": {
            "text/plain": [
              "True"
            ]
          },
          "metadata": {},
          "execution_count": 18
        }
      ]
    },
    {
      "cell_type": "code",
      "source": [
        "a=4\n",
        "b=5\n",
        "a==b"
      ],
      "metadata": {
        "colab": {
          "base_uri": "https://localhost:8080/"
        },
        "id": "HI4qRtQtFSCf",
        "outputId": "82a2194f-8413-4493-a595-ff653208b32c"
      },
      "execution_count": 19,
      "outputs": [
        {
          "output_type": "execute_result",
          "data": {
            "text/plain": [
              "False"
            ]
          },
          "metadata": {},
          "execution_count": 19
        }
      ]
    },
    {
      "cell_type": "code",
      "source": [
        "a=3\n",
        "b=4\n",
        "a!=b"
      ],
      "metadata": {
        "colab": {
          "base_uri": "https://localhost:8080/"
        },
        "id": "GrAG06pAFVi2",
        "outputId": "ef1503ce-7e28-4407-da31-f035844d1bfd"
      },
      "execution_count": 20,
      "outputs": [
        {
          "output_type": "execute_result",
          "data": {
            "text/plain": [
              "True"
            ]
          },
          "metadata": {},
          "execution_count": 20
        }
      ]
    },
    {
      "cell_type": "code",
      "source": [
        "a=3\n",
        "b=3\n",
        "a!=b"
      ],
      "metadata": {
        "colab": {
          "base_uri": "https://localhost:8080/"
        },
        "id": "HA86nwlfFc7h",
        "outputId": "ebd3a4d5-e341-4c85-803d-5ddeb93e581b"
      },
      "execution_count": 21,
      "outputs": [
        {
          "output_type": "execute_result",
          "data": {
            "text/plain": [
              "False"
            ]
          },
          "metadata": {},
          "execution_count": 21
        }
      ]
    }
  ]
}