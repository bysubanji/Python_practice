{
  "nbformat": 4,
  "nbformat_minor": 0,
  "metadata": {
    "colab": {
      "name": "pythonpractice2.ipynb",
      "provenance": [],
      "collapsed_sections": [],
      "authorship_tag": "ABX9TyM67+XNTXDXBTaQ/AHnsRlF",
      "include_colab_link": true
    },
    "kernelspec": {
      "name": "python3",
      "display_name": "Python 3"
    },
    "language_info": {
      "name": "python"
    }
  },
  "cells": [
    {
      "cell_type": "markdown",
      "metadata": {
        "id": "view-in-github",
        "colab_type": "text"
      },
      "source": [
        "<a href=\"https://colab.research.google.com/github/bysubanji/Python_practice/blob/main/pythonpractice2.ipynb\" target=\"_parent\"><img src=\"https://colab.research.google.com/assets/colab-badge.svg\" alt=\"Open In Colab\"/></a>"
      ]
    },
    {
      "cell_type": "code",
      "source": [
        "#LISTS\n",
        "my_lst= [1,3,4,5,7]\n",
        "print(my_lst)"
      ],
      "metadata": {
        "colab": {
          "base_uri": "https://localhost:8080/"
        },
        "id": "zEO8RUSGM4Jg",
        "outputId": "a4dd517b-3b71-4550-d0e8-81429ae9c6e1"
      },
      "execution_count": null,
      "outputs": [
        {
          "output_type": "stream",
          "name": "stdout",
          "text": [
            "[1, 3, 4, 5, 7]\n"
          ]
        }
      ]
    },
    {
      "cell_type": "code",
      "source": [
        "lst= ['my_lst','4','8','hulk']\n",
        "len(lst)"
      ],
      "metadata": {
        "colab": {
          "base_uri": "https://localhost:8080/"
        },
        "id": "_z9TvAmeNPWF",
        "outputId": "55ec7e0a-b57f-4bd4-f89e-3b5842cee44b"
      },
      "execution_count": null,
      "outputs": [
        {
          "output_type": "execute_result",
          "data": {
            "text/plain": [
              "4"
            ]
          },
          "metadata": {},
          "execution_count": 4
        }
      ]
    },
    {
      "cell_type": "code",
      "source": [
        "print(lst)"
      ],
      "metadata": {
        "colab": {
          "base_uri": "https://localhost:8080/"
        },
        "id": "g9XAjvO6Nl-D",
        "outputId": "50938094-35e4-42b1-a10c-ef832d88d5bc"
      },
      "execution_count": null,
      "outputs": [
        {
          "output_type": "stream",
          "name": "stdout",
          "text": [
            "['my_lst', '4', '8', 'hulk']\n"
          ]
        }
      ]
    },
    {
      "cell_type": "code",
      "source": [
        "loss_functions=['mean absolute error','mean squared error','huber loss','log loss','hinge loss']\n"
      ],
      "metadata": {
        "id": "16aTRdtnNqwX"
      },
      "execution_count": null,
      "outputs": []
    },
    {
      "cell_type": "code",
      "source": [
        "print(loss_functions[:-3])"
      ],
      "metadata": {
        "colab": {
          "base_uri": "https://localhost:8080/"
        },
        "id": "Py6PvIC-PsYx",
        "outputId": "870b5786-ed95-4b2a-8b89-450f9e39d70d"
      },
      "execution_count": null,
      "outputs": [
        {
          "output_type": "stream",
          "name": "stdout",
          "text": [
            "['mean absolute error', 'mean squared error']\n"
          ]
        }
      ]
    },
    {
      "cell_type": "code",
      "source": [
        "# Grab the LAST FOUR elements of the list\n",
        "print(loss_functions[-4:])"
      ],
      "metadata": {
        "colab": {
          "base_uri": "https://localhost:8080/"
        },
        "id": "Gf3jF55pQLUk",
        "outputId": "321de357-28b5-4053-9a90-10343958469c"
      },
      "execution_count": null,
      "outputs": [
        {
          "output_type": "stream",
          "name": "stdout",
          "text": [
            "['mean squared error', 'huber loss', 'log loss', 'hinge loss']\n"
          ]
        }
      ]
    },
    {
      "cell_type": "code",
      "source": [
        "print(loss_functions[-1:])"
      ],
      "metadata": {
        "colab": {
          "base_uri": "https://localhost:8080/"
        },
        "id": "hKMu4RqAQvMU",
        "outputId": "d05d9331-5246-46b8-b78f-181e4b458984"
      },
      "execution_count": null,
      "outputs": [
        {
          "output_type": "stream",
          "name": "stdout",
          "text": [
            "['hinge loss']\n"
          ]
        }
      ]
    },
    {
      "cell_type": "code",
      "source": [
        "loss_functions+[\"wishing\"]"
      ],
      "metadata": {
        "colab": {
          "base_uri": "https://localhost:8080/"
        },
        "id": "dYEd2oAyQ0B6",
        "outputId": "64cbb894-4c9d-477f-f7c8-a565c14152e5"
      },
      "execution_count": null,
      "outputs": [
        {
          "output_type": "execute_result",
          "data": {
            "text/plain": [
              "['mean absolute error',\n",
              " 'mean squared error',\n",
              " 'huber loss',\n",
              " 'log loss',\n",
              " 'hinge loss',\n",
              " 'wishing']"
            ]
          },
          "metadata": {},
          "execution_count": 22
        }
      ]
    },
    {
      "cell_type": "code",
      "source": [
        "loss_functions"
      ],
      "metadata": {
        "colab": {
          "base_uri": "https://localhost:8080/"
        },
        "id": "JOmclGh9RShH",
        "outputId": "5f976c6b-e9be-4d30-b25c-8e15b8d2ab56"
      },
      "execution_count": null,
      "outputs": [
        {
          "output_type": "execute_result",
          "data": {
            "text/plain": [
              "['mean absolute error',\n",
              " 'mean squared error',\n",
              " 'huber loss',\n",
              " 'log loss',\n",
              " 'hinge loss']"
            ]
          },
          "metadata": {},
          "execution_count": 23
        }
      ]
    },
    {
      "cell_type": "code",
      "source": [
        "## so to make permanent changes we need to re-assign\n",
        "loss_functions=loss_functions+['something']"
      ],
      "metadata": {
        "id": "eDlmXE84RWFK"
      },
      "execution_count": null,
      "outputs": []
    },
    {
      "cell_type": "code",
      "source": [
        "##Its done now\n",
        "loss_functions"
      ],
      "metadata": {
        "colab": {
          "base_uri": "https://localhost:8080/"
        },
        "id": "nQEq1av9Qz_g",
        "outputId": "09e22772-d370-42f9-b3c5-c846285ef045"
      },
      "execution_count": null,
      "outputs": [
        {
          "output_type": "execute_result",
          "data": {
            "text/plain": [
              "['mean absolute error',\n",
              " 'mean squared error',\n",
              " 'huber loss',\n",
              " 'log loss',\n",
              " 'hinge loss',\n",
              " 'something']"
            ]
          },
          "metadata": {},
          "execution_count": 25
        }
      ]
    },
    {
      "cell_type": "code",
      "source": [
        "loss_functions=loss_functions*2"
      ],
      "metadata": {
        "id": "uSaUkNtpQz8F"
      },
      "execution_count": null,
      "outputs": []
    },
    {
      "cell_type": "code",
      "source": [
        "loss_functions"
      ],
      "metadata": {
        "colab": {
          "base_uri": "https://localhost:8080/"
        },
        "id": "eo2iat1SQz5B",
        "outputId": "c1f9d11b-c5b8-4ea1-bbbc-4659eb938bb8"
      },
      "execution_count": null,
      "outputs": [
        {
          "output_type": "execute_result",
          "data": {
            "text/plain": [
              "['mean absolute error',\n",
              " 'mean squared error',\n",
              " 'huber loss',\n",
              " 'log loss',\n",
              " 'hinge loss',\n",
              " 'something',\n",
              " 'mean absolute error',\n",
              " 'mean squared error',\n",
              " 'huber loss',\n",
              " 'log loss',\n",
              " 'hinge loss',\n",
              " 'something',\n",
              " 'mean absolute error',\n",
              " 'mean squared error',\n",
              " 'huber loss',\n",
              " 'log loss',\n",
              " 'hinge loss',\n",
              " 'something',\n",
              " 'mean absolute error',\n",
              " 'mean squared error',\n",
              " 'huber loss',\n",
              " 'log loss',\n",
              " 'hinge loss',\n",
              " 'something']"
            ]
          },
          "metadata": {},
          "execution_count": 31
        }
      ]
    },
    {
      "cell_type": "code",
      "source": [
        "len(loss_functions)"
      ],
      "metadata": {
        "colab": {
          "base_uri": "https://localhost:8080/"
        },
        "id": "7W0nPDR7Qz2H",
        "outputId": "0670c2e1-d40e-4668-dfbc-c85b27220c78"
      },
      "execution_count": null,
      "outputs": [
        {
          "output_type": "execute_result",
          "data": {
            "text/plain": [
              "24"
            ]
          },
          "metadata": {},
          "execution_count": 32
        }
      ]
    },
    {
      "cell_type": "code",
      "source": [
        "print(min(loss_functions))"
      ],
      "metadata": {
        "colab": {
          "base_uri": "https://localhost:8080/"
        },
        "id": "gOXqT0cSQzxV",
        "outputId": "0ecd522b-b32b-4532-9080-208e8756f949"
      },
      "execution_count": null,
      "outputs": [
        {
          "output_type": "stream",
          "name": "stdout",
          "text": [
            "hinge loss\n"
          ]
        }
      ]
    },
    {
      "cell_type": "code",
      "source": [
        "print(max(loss_functions))"
      ],
      "metadata": {
        "colab": {
          "base_uri": "https://localhost:8080/"
        },
        "id": "sOIF_XO8SWwb",
        "outputId": "ff8d9757-bd42-40a1-ee65-4cab601691ed"
      },
      "execution_count": null,
      "outputs": [
        {
          "output_type": "stream",
          "name": "stdout",
          "text": [
            "something\n"
          ]
        }
      ]
    },
    {
      "cell_type": "code",
      "source": [
        "new_list = [6, 9, 1, 3, 5.5]\n",
        "print(sum(new_list))"
      ],
      "metadata": {
        "colab": {
          "base_uri": "https://localhost:8080/"
        },
        "id": "oqHHxI8OQzid",
        "outputId": "86d916ca-6293-45e1-a91b-1eaa8737b3d9"
      },
      "execution_count": null,
      "outputs": [
        {
          "output_type": "stream",
          "name": "stdout",
          "text": [
            "24.5\n"
          ]
        }
      ]
    },
    {
      "cell_type": "code",
      "source": [
        "new_list = [6, 9, 1, 3, 5.5]\n",
        "print(sorted(new_list))"
      ],
      "metadata": {
        "colab": {
          "base_uri": "https://localhost:8080/"
        },
        "id": "tw5sG-9yQzft",
        "outputId": "750a688f-7334-44d8-ba4a-0176963dbe13"
      },
      "execution_count": null,
      "outputs": [
        {
          "output_type": "stream",
          "name": "stdout",
          "text": [
            "[1, 3, 5.5, 6, 9]\n"
          ]
        }
      ]
    },
    {
      "cell_type": "code",
      "execution_count": null,
      "metadata": {
        "id": "Nbvv_w1-_ee5",
        "colab": {
          "base_uri": "https://localhost:8080/"
        },
        "outputId": "41fb606e-9b03-4cc2-d544-996cd41e1835"
      },
      "outputs": [
        {
          "output_type": "stream",
          "name": "stdout",
          "text": [
            "[9, 6, 5.5, 3, 1]\n"
          ]
        }
      ],
      "source": [
        "new_list = [6, 9, 1, 3, 5.5]\n",
        "print(sorted(new_list,reverse=True))"
      ]
    },
    {
      "cell_type": "code",
      "source": [
        "new_list.append('2r3')"
      ],
      "metadata": {
        "id": "JsV_-e0oS6Mv"
      },
      "execution_count": null,
      "outputs": []
    },
    {
      "cell_type": "code",
      "source": [
        "#### Appned method changes the list\n",
        "print(new_list)"
      ],
      "metadata": {
        "colab": {
          "base_uri": "https://localhost:8080/"
        },
        "id": "hYF7Rz5ZS6JM",
        "outputId": "88e3121a-5ed4-46d8-8da9-219d5b7e8f5e"
      },
      "execution_count": null,
      "outputs": [
        {
          "output_type": "stream",
          "name": "stdout",
          "text": [
            "[6, 9, 1, 3, 5.5, '2r3']\n"
          ]
        }
      ]
    },
    {
      "cell_type": "code",
      "source": [
        "new_list.append([1,2,3,4,5])"
      ],
      "metadata": {
        "id": "vrP5WsBfS6B9"
      },
      "execution_count": null,
      "outputs": []
    },
    {
      "cell_type": "code",
      "source": [
        "print(new_list)"
      ],
      "metadata": {
        "colab": {
          "base_uri": "https://localhost:8080/"
        },
        "id": "NER6goeaS5_D",
        "outputId": "a9ab59cf-7050-4669-9066-d1ddf29a318e"
      },
      "execution_count": null,
      "outputs": [
        {
          "output_type": "stream",
          "name": "stdout",
          "text": [
            "[6, 9, 1, 3, 5.5, '2r3', [1, 2, 3, 4, 5]]\n"
          ]
        }
      ]
    },
    {
      "cell_type": "code",
      "source": [
        "## Extend \n",
        "new_list.extend(['2','3','wubba','lubba','dubba'])"
      ],
      "metadata": {
        "id": "XUrvu0wkS572"
      },
      "execution_count": null,
      "outputs": []
    },
    {
      "cell_type": "code",
      "source": [
        "new_list"
      ],
      "metadata": {
        "colab": {
          "base_uri": "https://localhost:8080/"
        },
        "id": "lUFAqNKLS53z",
        "outputId": "b29f11f7-2d13-43f6-9a62-0a28ee23164a"
      },
      "execution_count": null,
      "outputs": [
        {
          "output_type": "execute_result",
          "data": {
            "text/plain": [
              "[6, 9, 1, 3, 5.5, '2r3', [1, 2, 3, 4, 5], '2', '3', 'wubba', 'lubba', 'dubba']"
            ]
          },
          "metadata": {},
          "execution_count": 50
        }
      ]
    },
    {
      "cell_type": "code",
      "source": [
        "##pop method popping off\n",
        "new_list.pop()"
      ],
      "metadata": {
        "colab": {
          "base_uri": "https://localhost:8080/",
          "height": 35
        },
        "id": "7_bkq6_sS50v",
        "outputId": "1bc69cd7-f861-44dc-8cd1-86cdde31aebb"
      },
      "execution_count": null,
      "outputs": [
        {
          "output_type": "execute_result",
          "data": {
            "text/plain": [
              "'lubba'"
            ],
            "application/vnd.google.colaboratory.intrinsic+json": {
              "type": "string"
            }
          },
          "metadata": {},
          "execution_count": 55
        }
      ]
    },
    {
      "cell_type": "code",
      "source": [
        "new_list.pop(3)"
      ],
      "metadata": {
        "colab": {
          "base_uri": "https://localhost:8080/"
        },
        "id": "xhDLQXmFS5xt",
        "outputId": "9aa54e49-64ac-4873-cf56-bf3bb05ce5ec"
      },
      "execution_count": null,
      "outputs": [
        {
          "output_type": "execute_result",
          "data": {
            "text/plain": [
              "5.5"
            ]
          },
          "metadata": {},
          "execution_count": 56
        }
      ]
    },
    {
      "cell_type": "code",
      "source": [
        "print(new_list)"
      ],
      "metadata": {
        "colab": {
          "base_uri": "https://localhost:8080/"
        },
        "id": "8AeXZobWS5uo",
        "outputId": "30408106-4dc3-4620-e910-c6fd661450a5"
      },
      "execution_count": null,
      "outputs": [
        {
          "output_type": "stream",
          "name": "stdout",
          "text": [
            "[6, 9, 1, '2r3', [1, 2, 3, 4, 5], '2', '3', 'wubba']\n"
          ]
        }
      ]
    },
    {
      "cell_type": "code",
      "source": [
        "new_list.remove(6)"
      ],
      "metadata": {
        "id": "UL53_JtWS5qw"
      },
      "execution_count": null,
      "outputs": []
    },
    {
      "cell_type": "code",
      "source": [
        "new_list"
      ],
      "metadata": {
        "colab": {
          "base_uri": "https://localhost:8080/"
        },
        "id": "_DREPM_MS5nh",
        "outputId": "7b2d1c59-6a49-4744-e629-420645f026c1"
      },
      "execution_count": null,
      "outputs": [
        {
          "output_type": "execute_result",
          "data": {
            "text/plain": [
              "[9, 1, '2r3', [1, 2, 3, 4, 5], '2', '3', 'wubba']"
            ]
          },
          "metadata": {},
          "execution_count": 59
        }
      ]
    },
    {
      "cell_type": "code",
      "source": [
        "new_list.clear"
      ],
      "metadata": {
        "colab": {
          "base_uri": "https://localhost:8080/"
        },
        "id": "EWGMSIhzVxRC",
        "outputId": "9b10f544-1b13-49ca-b7b7-43dd2de7753c"
      },
      "execution_count": null,
      "outputs": [
        {
          "output_type": "execute_result",
          "data": {
            "text/plain": [
              "<function list.clear>"
            ]
          },
          "metadata": {},
          "execution_count": 60
        }
      ]
    },
    {
      "cell_type": "code",
      "source": [
        "new_list"
      ],
      "metadata": {
        "colab": {
          "base_uri": "https://localhost:8080/"
        },
        "id": "SCeK888rVxL0",
        "outputId": "5bdbddbb-a85f-4e1f-a693-86c71218cec0"
      },
      "execution_count": null,
      "outputs": [
        {
          "output_type": "execute_result",
          "data": {
            "text/plain": [
              "[9, 1, '2r3', [1, 2, 3, 4, 5], '2', '3', 'wubba']"
            ]
          },
          "metadata": {},
          "execution_count": 61
        }
      ]
    },
    {
      "cell_type": "code",
      "source": [
        "new_list.count('wubba')"
      ],
      "metadata": {
        "colab": {
          "base_uri": "https://localhost:8080/"
        },
        "id": "ETdsT_A9VxJD",
        "outputId": "70301c5b-3cdb-4031-8faf-eed2212bc3fe"
      },
      "execution_count": null,
      "outputs": [
        {
          "output_type": "execute_result",
          "data": {
            "text/plain": [
              "1"
            ]
          },
          "metadata": {},
          "execution_count": 63
        }
      ]
    },
    {
      "cell_type": "code",
      "source": [
        "new_list=new_list+[2,3,3]"
      ],
      "metadata": {
        "id": "LIFmAl0qVxGb"
      },
      "execution_count": null,
      "outputs": []
    },
    {
      "cell_type": "code",
      "source": [
        "new_list"
      ],
      "metadata": {
        "colab": {
          "base_uri": "https://localhost:8080/"
        },
        "id": "eIn4cHJdVxAS",
        "outputId": "0ce3a53d-09ff-4900-92a2-55dee04c3ca2"
      },
      "execution_count": null,
      "outputs": [
        {
          "output_type": "execute_result",
          "data": {
            "text/plain": [
              "[9, 1, '2r3', [1, 2, 3, 4, 5], '2', '3', 'wubba', '2,3,3', 2, 3, 3]"
            ]
          },
          "metadata": {},
          "execution_count": 71
        }
      ]
    },
    {
      "cell_type": "code",
      "source": [
        "new_list.count('2,3,3')"
      ],
      "metadata": {
        "colab": {
          "base_uri": "https://localhost:8080/"
        },
        "id": "VhZecK3zVw6n",
        "outputId": "1b379a52-2aa7-4b3e-f419-ff3903f4ca82"
      },
      "execution_count": null,
      "outputs": [
        {
          "output_type": "execute_result",
          "data": {
            "text/plain": [
              "1"
            ]
          },
          "metadata": {},
          "execution_count": 80
        }
      ]
    },
    {
      "cell_type": "code",
      "source": [
        "line=[1,1,1,1,2,3,4,5,6,7,8,9,12,2,1,3,]"
      ],
      "metadata": {
        "id": "RBlxTJyxWzkA"
      },
      "execution_count": null,
      "outputs": []
    },
    {
      "cell_type": "code",
      "source": [
        "line.count(1)"
      ],
      "metadata": {
        "colab": {
          "base_uri": "https://localhost:8080/"
        },
        "id": "27ro1QsLW_bd",
        "outputId": "1b6448c7-90ab-4b36-a004-793586ef177f"
      },
      "execution_count": null,
      "outputs": [
        {
          "output_type": "execute_result",
          "data": {
            "text/plain": [
              "5"
            ]
          },
          "metadata": {},
          "execution_count": 76
        }
      ]
    },
    {
      "cell_type": "code",
      "source": [
        "line.index(9)"
      ],
      "metadata": {
        "colab": {
          "base_uri": "https://localhost:8080/"
        },
        "id": "RBHE9sfZW_XS",
        "outputId": "1d675b92-e555-4706-a5c5-68bb33370d5e"
      },
      "execution_count": null,
      "outputs": [
        {
          "output_type": "execute_result",
          "data": {
            "text/plain": [
              "11"
            ]
          },
          "metadata": {},
          "execution_count": 83
        }
      ]
    },
    {
      "cell_type": "code",
      "source": [
        "line.sort()\n",
        "print(line)"
      ],
      "metadata": {
        "colab": {
          "base_uri": "https://localhost:8080/"
        },
        "id": "nFwkOzM5XaqH",
        "outputId": "88f50501-3d6d-44cd-b4b0-af30073187e4"
      },
      "execution_count": null,
      "outputs": [
        {
          "output_type": "stream",
          "name": "stdout",
          "text": [
            "[1, 1, 1, 1, 1, 2, 2, 3, 3, 4, 5, 6, 7, 8, 9, 12]\n"
          ]
        }
      ]
    },
    {
      "cell_type": "code",
      "source": [
        "line.sort(reverse=True)\n",
        "print(line)"
      ],
      "metadata": {
        "colab": {
          "base_uri": "https://localhost:8080/"
        },
        "id": "1MHaA_wHW_UQ",
        "outputId": "7d46140c-e221-409b-9bf1-c77e0fff7728"
      },
      "execution_count": null,
      "outputs": [
        {
          "output_type": "stream",
          "name": "stdout",
          "text": [
            "[12, 9, 8, 7, 6, 5, 4, 3, 3, 2, 2, 1, 1, 1, 1, 1]\n"
          ]
        }
      ]
    },
    {
      "cell_type": "code",
      "source": [
        "##sort is permanent\n",
        "line"
      ],
      "metadata": {
        "colab": {
          "base_uri": "https://localhost:8080/"
        },
        "id": "kTV2-nu9X1rj",
        "outputId": "476648c1-fc9b-4a4d-aec1-e84a942fe0a0"
      },
      "execution_count": null,
      "outputs": [
        {
          "output_type": "execute_result",
          "data": {
            "text/plain": [
              "[12, 9, 8, 7, 6, 5, 4, 3, 3, 2, 2, 1, 1, 1, 1, 1]"
            ]
          },
          "metadata": {},
          "execution_count": 88
        }
      ]
    },
    {
      "cell_type": "code",
      "source": [
        "#reverse\n",
        "line.reverse()\n",
        "print(line)"
      ],
      "metadata": {
        "colab": {
          "base_uri": "https://localhost:8080/"
        },
        "id": "FwFwwa9LW_RW",
        "outputId": "11007f58-147b-4816-d959-36d2f37958fa"
      },
      "execution_count": null,
      "outputs": [
        {
          "output_type": "stream",
          "name": "stdout",
          "text": [
            "[1, 1, 1, 1, 1, 2, 2, 3, 3, 4, 5, 6, 7, 8, 9, 12]\n"
          ]
        }
      ]
    },
    {
      "cell_type": "code",
      "source": [
        "line1=[1,2,3,4]\n",
        "line2=['h','i','j']\n",
        "line=[9,7,5,4]"
      ],
      "metadata": {
        "id": "VkDbdapSW_Nd"
      },
      "execution_count": null,
      "outputs": []
    },
    {
      "cell_type": "code",
      "source": [
        "lstoflst=[line1,line2,line]\n",
        "print(lstoflst)"
      ],
      "metadata": {
        "colab": {
          "base_uri": "https://localhost:8080/"
        },
        "id": "OWJGv-3mW_J5",
        "outputId": "d726d808-a084-4646-9b18-3a4943aaac29"
      },
      "execution_count": null,
      "outputs": [
        {
          "output_type": "stream",
          "name": "stdout",
          "text": [
            "[[1, 2, 3, 4], ['h', 'i', 'j'], [9, 7, 5, 4]]\n"
          ]
        }
      ]
    },
    {
      "cell_type": "code",
      "source": [
        "lstoflst[2]"
      ],
      "metadata": {
        "colab": {
          "base_uri": "https://localhost:8080/"
        },
        "id": "vzLDKdc6W_HS",
        "outputId": "703860bb-eb0e-4906-bd23-29a7b503b151"
      },
      "execution_count": null,
      "outputs": [
        {
          "output_type": "execute_result",
          "data": {
            "text/plain": [
              "[9, 7, 5, 4]"
            ]
          },
          "metadata": {},
          "execution_count": 97
        }
      ]
    },
    {
      "cell_type": "code",
      "source": [
        "lstoflst[1][0]"
      ],
      "metadata": {
        "colab": {
          "base_uri": "https://localhost:8080/",
          "height": 35
        },
        "id": "YO3iZY_IW_EA",
        "outputId": "01af02ab-9056-4f7d-88ca-7f7438398122"
      },
      "execution_count": null,
      "outputs": [
        {
          "output_type": "execute_result",
          "data": {
            "text/plain": [
              "'h'"
            ],
            "application/vnd.google.colaboratory.intrinsic+json": {
              "type": "string"
            }
          },
          "metadata": {},
          "execution_count": 98
        }
      ]
    },
    {
      "cell_type": "code",
      "source": [
        "lstoflst[2][3]"
      ],
      "metadata": {
        "colab": {
          "base_uri": "https://localhost:8080/"
        },
        "id": "yIgjV4SfW_AG",
        "outputId": "029c97bb-255a-477c-f738-df8e4cac07c9"
      },
      "execution_count": null,
      "outputs": [
        {
          "output_type": "execute_result",
          "data": {
            "text/plain": [
              "4"
            ]
          },
          "metadata": {},
          "execution_count": 100
        }
      ]
    },
    {
      "cell_type": "code",
      "source": [
        "# Write a Python program to sum all the items in a list.\n",
        "def sum_list(items):\n",
        "  sum_numbers=0\n",
        "  for x in items:\n",
        "    sum_numbers += x\n",
        "  return sum_numbers\n",
        "print(sum_list([2,4,5,6,6]))"
      ],
      "metadata": {
        "colab": {
          "base_uri": "https://localhost:8080/"
        },
        "id": "xPjfUHorW-6j",
        "outputId": "bdb128ec-471f-47f0-d01c-6079d319861e"
      },
      "execution_count": null,
      "outputs": [
        {
          "output_type": "stream",
          "name": "stdout",
          "text": [
            "23\n"
          ]
        }
      ]
    },
    {
      "cell_type": "code",
      "source": [
        "##Code to remove duplicate from list using List comprehension \n",
        "lstnum = [12, 36, 56, 36, 36, 50, 56, 12]\n",
        "  \n",
        "unique_lst = []\n",
        "[unique_lst.append(ele) for ele in lstnum if ele not in unique_lst]\n",
        "    \n",
        "print (\"unique elements list  : \" ,unique_lst)\n"
      ],
      "metadata": {
        "colab": {
          "base_uri": "https://localhost:8080/"
        },
        "id": "Knph65g6Zr9G",
        "outputId": "8c2bc733-b97a-4b1b-86e9-52fce0b32279"
      },
      "execution_count": null,
      "outputs": [
        {
          "output_type": "stream",
          "name": "stdout",
          "text": [
            "unique elements list  :  [12, 36, 56, 50]\n"
          ]
        }
      ]
    },
    {
      "cell_type": "code",
      "source": [
        "#1\n",
        "my_list = []\n",
        "\n",
        "#2\n",
        "count = int(input(\"How many numbers you want to add : \"))\n",
        "\n",
        "#3\n",
        "for i in range(1,count+1):\n",
        "  my_list.append(int(input(\"Enter number {} : \".format(i))))\n",
        "\n",
        "#4\n",
        "print(\"Input Numbers : \")\n",
        "print(my_list)\n",
        "#5\n",
        "min = my_list[0]\n",
        "max = my_list[0]\n",
        "\n",
        "#6\n",
        "for no in my_list:\n",
        "    if no < min :\n",
        "        min = no\n",
        "    elif no > max :\n",
        "        max = no\n",
        "\n",
        "#7\n",
        "print(\"Minimum number : {}, Maximum number : {}\".format(min,max))"
      ],
      "metadata": {
        "colab": {
          "base_uri": "https://localhost:8080/"
        },
        "id": "diuMbsHAZr6F",
        "outputId": "b7d847df-9716-4b64-f136-4b4350bb906b"
      },
      "execution_count": null,
      "outputs": [
        {
          "output_type": "stream",
          "name": "stdout",
          "text": [
            "How many numbers you want to add : 3\n",
            "Enter number 1 : 1\n",
            "Enter number 2 : 2\n",
            "Enter number 3 : 3\n",
            "Input Numbers : \n",
            "[1, 2, 3]\n",
            "Minimum number : 1, Maximum number : 3\n"
          ]
        }
      ]
    },
    {
      "cell_type": "code",
      "source": [
        "## Tuples\n",
        "my_tuple = (3,4,56,'h')"
      ],
      "metadata": {
        "id": "ZDcZ4crjZr35"
      },
      "execution_count": null,
      "outputs": []
    },
    {
      "cell_type": "code",
      "source": [
        "print(my_tuple)"
      ],
      "metadata": {
        "colab": {
          "base_uri": "https://localhost:8080/"
        },
        "id": "yiIlGWE8iBJM",
        "outputId": "e5a02f54-7606-47ae-e5ff-08ce321198c6"
      },
      "execution_count": null,
      "outputs": [
        {
          "output_type": "stream",
          "name": "stdout",
          "text": [
            "(3, 4, 56, 'h')\n"
          ]
        }
      ]
    },
    {
      "cell_type": "code",
      "source": [
        "print(my_tuple[3])"
      ],
      "metadata": {
        "colab": {
          "base_uri": "https://localhost:8080/"
        },
        "id": "TigbTCsYiBmc",
        "outputId": "ec14daa6-16a2-45b6-e968-1aa6fd90960f"
      },
      "execution_count": null,
      "outputs": [
        {
          "output_type": "stream",
          "name": "stdout",
          "text": [
            "h\n"
          ]
        }
      ]
    },
    {
      "cell_type": "code",
      "source": [
        "print(my_tuple[1:-1])"
      ],
      "metadata": {
        "id": "9zGTi7nVZr1j",
        "colab": {
          "base_uri": "https://localhost:8080/"
        },
        "outputId": "bb8da1f3-4a09-4a52-92ce-90d183bf614f"
      },
      "execution_count": null,
      "outputs": [
        {
          "output_type": "stream",
          "name": "stdout",
          "text": [
            "(4, 56)\n"
          ]
        }
      ]
    },
    {
      "cell_type": "code",
      "source": [
        "print(my_tuple.index(3))"
      ],
      "metadata": {
        "colab": {
          "base_uri": "https://localhost:8080/"
        },
        "id": "InDF5U6Ikdf2",
        "outputId": "d9f02ece-f603-4849-8975-ebf9aea42de9"
      },
      "execution_count": null,
      "outputs": [
        {
          "output_type": "stream",
          "name": "stdout",
          "text": [
            "0\n"
          ]
        }
      ]
    },
    {
      "cell_type": "code",
      "source": [
        "print(my_tuple.count(3))"
      ],
      "metadata": {
        "colab": {
          "base_uri": "https://localhost:8080/"
        },
        "id": "GLAZ7PZBkdUF",
        "outputId": "87306153-ae8f-43b2-90c7-f9f1dd68c633"
      },
      "execution_count": null,
      "outputs": [
        {
          "output_type": "stream",
          "name": "stdout",
          "text": [
            "1\n"
          ]
        }
      ]
    },
    {
      "cell_type": "code",
      "source": [
        "city_list = ['Delhi','Patna','Cuttack','Guwahati']\n",
        "river_list = ['Yamuna','Ganga','Mahanadi','Brahmaputra']"
      ],
      "metadata": {
        "id": "aOfBEVIDkdQr"
      },
      "execution_count": null,
      "outputs": []
    },
    {
      "cell_type": "code",
      "source": [
        "city_river_lists= list(zip(city_list,river_list))"
      ],
      "metadata": {
        "id": "e_JN1xb3qq4J"
      },
      "execution_count": null,
      "outputs": []
    },
    {
      "cell_type": "code",
      "source": [
        "city_river_lists"
      ],
      "metadata": {
        "colab": {
          "base_uri": "https://localhost:8080/"
        },
        "id": "zulfN6ZlkdKb",
        "outputId": "78950403-ba18-4705-9e12-ab46582020ff"
      },
      "execution_count": null,
      "outputs": [
        {
          "output_type": "execute_result",
          "data": {
            "text/plain": [
              "[('Delhi', 'Yamuna'),\n",
              " ('Patna', 'Ganga'),\n",
              " ('Cuttack', 'Mahanadi'),\n",
              " ('Guwahati', 'Brahmaputra')]"
            ]
          },
          "metadata": {},
          "execution_count": 20
        }
      ]
    },
    {
      "cell_type": "code",
      "source": [
        "list(zip(city_list,river_list))\n"
      ],
      "metadata": {
        "id": "Bpts39sGZryB",
        "colab": {
          "base_uri": "https://localhost:8080/"
        },
        "outputId": "3571d07b-adfb-4fd8-dfbf-e2c0223841d0"
      },
      "execution_count": null,
      "outputs": [
        {
          "output_type": "execute_result",
          "data": {
            "text/plain": [
              "[('Delhi', 'Yamuna'),\n",
              " ('Patna', 'Ganga'),\n",
              " ('Cuttack', 'Mahanadi'),\n",
              " ('Guwahati', 'Brahmaputra')]"
            ]
          },
          "metadata": {},
          "execution_count": 21
        }
      ]
    },
    {
      "cell_type": "code",
      "source": [
        "empty_set = set()"
      ],
      "metadata": {
        "id": "mWFxMOMLZrvQ"
      },
      "execution_count": null,
      "outputs": []
    },
    {
      "cell_type": "code",
      "source": [
        "type(empty_set)"
      ],
      "metadata": {
        "colab": {
          "base_uri": "https://localhost:8080/"
        },
        "id": "_K37jlcwr4AU",
        "outputId": "3e25fe59-79d1-4daa-a102-9216f9046499"
      },
      "execution_count": null,
      "outputs": [
        {
          "output_type": "execute_result",
          "data": {
            "text/plain": [
              "set"
            ]
          },
          "metadata": {},
          "execution_count": 23
        }
      ]
    },
    {
      "cell_type": "code",
      "source": [
        "# Create a list with repeats\n",
        "my_list = [1,1,2,2,3,4,5,6,1,1]"
      ],
      "metadata": {
        "id": "PdDvY0M9r36R"
      },
      "execution_count": null,
      "outputs": []
    },
    {
      "cell_type": "code",
      "source": [
        "my_uni_list=set(my_list)\n",
        "\n",
        "\n",
        "##uniques\n",
        "my_uni_list"
      ],
      "metadata": {
        "colab": {
          "base_uri": "https://localhost:8080/"
        },
        "id": "yYU_oFgmr34W",
        "outputId": "bf47ef14-922b-4c5f-ddb5-c9b6f085188e"
      },
      "execution_count": null,
      "outputs": [
        {
          "output_type": "execute_result",
          "data": {
            "text/plain": [
              "{1, 2, 3, 4, 5, 6}"
            ]
          },
          "metadata": {},
          "execution_count": 30
        }
      ]
    },
    {
      "cell_type": "code",
      "source": [
        "my_set = {5,7,9,3}"
      ],
      "metadata": {
        "id": "Iz75Y3fpr32L"
      },
      "execution_count": null,
      "outputs": []
    },
    {
      "cell_type": "code",
      "source": [
        "# add multiple elements\n",
        "my_set.update([2, 3, 4])\n",
        "print(my_set)"
      ],
      "metadata": {
        "colab": {
          "base_uri": "https://localhost:8080/"
        },
        "id": "PthdUJbt0Cc8",
        "outputId": "60987926-b66d-4c4a-d373-27c480cf5803"
      },
      "execution_count": null,
      "outputs": [
        {
          "output_type": "stream",
          "name": "stdout",
          "text": [
            "{2, 3, 4, 5, 7, 9}\n"
          ]
        }
      ]
    },
    {
      "cell_type": "code",
      "source": [
        "# Make a dictionary with {} and : to signify a key and a value\n",
        "marvel_dict = {'Name':'Thor','Place':'Asgard','Weapon' : 'Hammer', 1:2, 3 : 'power', 'alibies' : ['Ironman','Captain America'], 'abc' : {1:2, 4:5}}"
      ],
      "metadata": {
        "id": "XlzEJ0S3r3z1"
      },
      "execution_count": null,
      "outputs": []
    },
    {
      "cell_type": "code",
      "source": [
        "print(marvel_dict['Place'])"
      ],
      "metadata": {
        "colab": {
          "base_uri": "https://localhost:8080/"
        },
        "id": "3PWMl0Ibr3yM",
        "outputId": "682c7f80-df77-41cd-af32-5177def31899"
      },
      "execution_count": null,
      "outputs": [
        {
          "output_type": "stream",
          "name": "stdout",
          "text": [
            "Asgard\n"
          ]
        }
      ]
    },
    {
      "cell_type": "code",
      "source": [
        "marvel_dict.keys()"
      ],
      "metadata": {
        "colab": {
          "base_uri": "https://localhost:8080/"
        },
        "id": "cCKotIdmr3v5",
        "outputId": "1a16620c-a3d7-41f7-a5f6-8577a98def1e"
      },
      "execution_count": null,
      "outputs": [
        {
          "output_type": "execute_result",
          "data": {
            "text/plain": [
              "dict_keys(['Name', 'Place', 'Weapon', 1, 3, 'alibies', 'abc'])"
            ]
          },
          "metadata": {},
          "execution_count": 38
        }
      ]
    },
    {
      "cell_type": "code",
      "source": [
        "list(marvel_dict.keys())"
      ],
      "metadata": {
        "colab": {
          "base_uri": "https://localhost:8080/"
        },
        "id": "62A4eHPer3tH",
        "outputId": "a3044d1e-13fc-4d91-db40-37aa893f8da1"
      },
      "execution_count": null,
      "outputs": [
        {
          "output_type": "execute_result",
          "data": {
            "text/plain": [
              "['Name', 'Place', 'Weapon', 1, 3, 'alibies', 'abc']"
            ]
          },
          "metadata": {},
          "execution_count": 39
        }
      ]
    },
    {
      "cell_type": "code",
      "source": [
        "list(marvel_dict.values())"
      ],
      "metadata": {
        "colab": {
          "base_uri": "https://localhost:8080/"
        },
        "id": "hVT4wqH84ZXs",
        "outputId": "0e55b1f6-821e-4b7c-c84e-a4ff85850844"
      },
      "execution_count": null,
      "outputs": [
        {
          "output_type": "execute_result",
          "data": {
            "text/plain": [
              "['Thor',\n",
              " 'Asgard',\n",
              " 'Hammer',\n",
              " 2,\n",
              " 'power',\n",
              " ['Ironman', 'Captain America'],\n",
              " {1: 2, 4: 5}]"
            ]
          },
          "metadata": {},
          "execution_count": 40
        }
      ]
    },
    {
      "cell_type": "code",
      "source": [
        "list(marvel_dict.items())"
      ],
      "metadata": {
        "colab": {
          "base_uri": "https://localhost:8080/"
        },
        "id": "D2z_3xg24gLG",
        "outputId": "4228e962-28a6-4809-98b6-b97f510080e0"
      },
      "execution_count": null,
      "outputs": [
        {
          "output_type": "execute_result",
          "data": {
            "text/plain": [
              "[('Name', 'Thor'),\n",
              " ('Place', 'Asgard'),\n",
              " ('Weapon', 'Hammer'),\n",
              " (1, 2),\n",
              " (3, 'power'),\n",
              " ('alibies', ['Ironman', 'Captain America']),\n",
              " ('abc', {1: 2, 4: 5})]"
            ]
          },
          "metadata": {},
          "execution_count": 41
        }
      ]
    },
    {
      "cell_type": "code",
      "source": [
        "marvel_dict.get('Weapon')"
      ],
      "metadata": {
        "colab": {
          "base_uri": "https://localhost:8080/",
          "height": 35
        },
        "id": "b7_40rfY4ZU3",
        "outputId": "26057079-e5bf-47a8-ae8d-c2cc8f69a4f9"
      },
      "execution_count": null,
      "outputs": [
        {
          "output_type": "execute_result",
          "data": {
            "text/plain": [
              "'Hammer'"
            ],
            "application/vnd.google.colaboratory.intrinsic+json": {
              "type": "string"
            }
          },
          "metadata": {},
          "execution_count": 42
        }
      ]
    },
    {
      "cell_type": "code",
      "source": [
        "country_list = ['India','Australia','United States','England']\n",
        "city_list = ['New Delhi', 'Canberra' , 'Washington DC','London']"
      ],
      "metadata": {
        "id": "zkskFhbJ4ZOt"
      },
      "execution_count": null,
      "outputs": []
    },
    {
      "cell_type": "code",
      "source": [
        "country_city_list = list(zip(country_list,city_list))"
      ],
      "metadata": {
        "id": "F0TAV17J7Pkh"
      },
      "execution_count": null,
      "outputs": []
    },
    {
      "cell_type": "code",
      "source": [
        "dict(country_city_list)"
      ],
      "metadata": {
        "colab": {
          "base_uri": "https://localhost:8080/"
        },
        "id": "lfGx2XMC7Y7r",
        "outputId": "746f93a8-e449-40ee-9aef-a653ab1f4010"
      },
      "execution_count": null,
      "outputs": [
        {
          "output_type": "execute_result",
          "data": {
            "text/plain": [
              "{'Australia': 'Canberra',\n",
              " 'England': 'London',\n",
              " 'India': 'New Delhi',\n",
              " 'United States': 'Washington DC'}"
            ]
          },
          "metadata": {},
          "execution_count": 46
        }
      ]
    },
    {
      "cell_type": "code",
      "source": [
        "# Let us create a list of paired tuples\n",
        "country_city_tuples = [('India','New Delhi'),('Australia','Canberra'),('United States','Washington DC'),('England','London')]"
      ],
      "metadata": {
        "id": "wwVvxAk_r3qM"
      },
      "execution_count": null,
      "outputs": []
    },
    {
      "cell_type": "code",
      "source": [
        "country_city_dict = dict(country_city_tuples)"
      ],
      "metadata": {
        "id": "mzOebwI48CKF"
      },
      "execution_count": null,
      "outputs": []
    },
    {
      "cell_type": "code",
      "source": [
        "country_city_dict"
      ],
      "metadata": {
        "colab": {
          "base_uri": "https://localhost:8080/"
        },
        "id": "iRPrrdwRr3m_",
        "outputId": "57514456-f0bc-4a72-9f07-87157f806652"
      },
      "execution_count": null,
      "outputs": [
        {
          "output_type": "execute_result",
          "data": {
            "text/plain": [
              "{'Australia': 'Canberra',\n",
              " 'England': 'London',\n",
              " 'India': 'New Delhi',\n",
              " 'United States': 'Washington DC'}"
            ]
          },
          "metadata": {},
          "execution_count": 7
        }
      ]
    },
    {
      "cell_type": "code",
      "source": [
        "def count_string(str,chars):\n",
        "  count=0\n",
        "  for c in str:\n",
        "    count += 1 if c in chars else 0"
      ],
      "metadata": {
        "id": "RQPvukfs8bZP"
      },
      "execution_count": null,
      "outputs": []
    },
    {
      "cell_type": "markdown",
      "source": [
        "Basic programming"
      ],
      "metadata": {
        "id": "A5ioFsExl3r9"
      }
    },
    {
      "cell_type": "code",
      "source": [
        "## Adding two num to get sum\n",
        "num1= 1\n",
        "num2=9\n",
        "sum = num1+num2\n",
        "print(\"sum of num1 {0} and num2 {1} is total {2}\" .format (num1,num2,sum))"
      ],
      "metadata": {
        "id": "x0goxuvY8bSQ",
        "colab": {
          "base_uri": "https://localhost:8080/"
        },
        "outputId": "b7cad76c-d975-4fab-9d99-6268659c8729"
      },
      "execution_count": null,
      "outputs": [
        {
          "output_type": "stream",
          "name": "stdout",
          "text": [
            "sum of num1 1 and num2 9 is total 10\n"
          ]
        }
      ]
    },
    {
      "cell_type": "code",
      "source": [
        "# Adding from two input\n",
        "num1 = input(\"enter first num: \")\n",
        "num2 = input(\"enter second num: \")\n",
        "sum = float(num1)+float(num2)\n",
        "print(\"sum of {0} and {1} is total {2}\" .format (num1,num2,sum))"
      ],
      "metadata": {
        "colab": {
          "base_uri": "https://localhost:8080/"
        },
        "id": "V_3k3HbDlqsy",
        "outputId": "4d06ab55-55f0-4962-f259-bd2a1ec3abfc"
      },
      "execution_count": null,
      "outputs": [
        {
          "output_type": "stream",
          "name": "stdout",
          "text": [
            "enter first num: 68888888888\n",
            "enter second num: 11111111111111111111\n",
            "sum of 68888888888 and 11111111111111111111 is total 1.111111118e+19\n"
          ]
        }
      ]
    },
    {
      "cell_type": "code",
      "source": [
        "#python programm to find the factorial\n",
        "def factorial(n):\n",
        "  return 1 if (n==1 or n==0) else n* factorial(n-1)\n",
        "  "
      ],
      "metadata": {
        "id": "34x9mdEboZlt"
      },
      "execution_count": null,
      "outputs": []
    },
    {
      "cell_type": "code",
      "source": [
        "num = 5\n",
        "print(factorial(num))"
      ],
      "metadata": {
        "colab": {
          "base_uri": "https://localhost:8080/"
        },
        "id": "TQTG3va0rJ3B",
        "outputId": "f24cc208-6f02-4640-f624-003ebd3b752e"
      },
      "execution_count": null,
      "outputs": [
        {
          "output_type": "stream",
          "name": "stdout",
          "text": [
            "120\n"
          ]
        }
      ]
    },
    {
      "cell_type": "code",
      "source": [
        "# find the factorial of n using iterative methods\n",
        "def factorial(n):\n",
        "  if n<0:\n",
        "    return 0\n",
        "  elif n==0 or n==1:\n",
        "    return 1\n",
        "  else:\n",
        "    fact = 1\n",
        "    while(n>1):\n",
        "      fact = n* fact\n",
        "      n = n-1\n",
        "    return fact\n"
      ],
      "metadata": {
        "id": "Zllgh1aErcoM"
      },
      "execution_count": null,
      "outputs": []
    },
    {
      "cell_type": "code",
      "source": [
        "num = 5\n",
        "print(factorial(num))"
      ],
      "metadata": {
        "colab": {
          "base_uri": "https://localhost:8080/"
        },
        "id": "PtaLfznNrcQ5",
        "outputId": "19f92989-a265-4698-e0f1-e8a6b4fde358"
      },
      "execution_count": null,
      "outputs": [
        {
          "output_type": "stream",
          "name": "stdout",
          "text": [
            "120\n"
          ]
        }
      ]
    },
    {
      "cell_type": "code",
      "source": [
        "num = 3\n",
        "print(\"Factorial of\",num,\"is\",\n",
        "factorial(num))"
      ],
      "metadata": {
        "colab": {
          "base_uri": "https://localhost:8080/"
        },
        "id": "QzBSmeLEmsdO",
        "outputId": "157c2000-f858-47ae-a6bf-83f3d7ffa4ee"
      },
      "execution_count": null,
      "outputs": [
        {
          "output_type": "stream",
          "name": "stdout",
          "text": [
            "Factorial of 3 is 6\n"
          ]
        }
      ]
    },
    {
      "cell_type": "code",
      "source": [
        "# Python 3 program to find factorial of given number\n",
        "import math\n",
        "\n",
        "def factorial(n):\n",
        "\treturn(math.factorial(n))\n",
        "\n",
        "\n",
        "# Driver Code\n",
        "num = 5\n",
        "print(\"Factorial of\", num, \"is\",\n",
        "\tfactorial(num))\n",
        "\n",
        "\n"
      ],
      "metadata": {
        "colab": {
          "base_uri": "https://localhost:8080/"
        },
        "id": "2RDOn9V0tTCG",
        "outputId": "cc829002-5480-42e5-ea15-d1160f3f4f88"
      },
      "execution_count": null,
      "outputs": [
        {
          "output_type": "stream",
          "name": "stdout",
          "text": [
            "Factorial of 5 is 120\n"
          ]
        }
      ]
    },
    {
      "cell_type": "code",
      "source": [
        "\n",
        "# Python3 program to find simple interest\n",
        "# for given principal amount, time and\n",
        "# rate of interest.\n",
        "\n",
        "\n",
        "def SIR(p,t,r):\n",
        "  print(\"The principal is\",p)\n",
        "  print(\"The time is\",t)\n",
        "  print(\"The rate of interest is\",r)\n",
        "  si = (p*t*r)/100\n",
        "\n",
        "  print(\"simple interest is\", si)\n",
        "  return si\n",
        "  "
      ],
      "metadata": {
        "id": "b3MsJqBztS9i"
      },
      "execution_count": null,
      "outputs": []
    },
    {
      "cell_type": "code",
      "source": [
        "SIR(2,3,4)"
      ],
      "metadata": {
        "colab": {
          "base_uri": "https://localhost:8080/"
        },
        "id": "VIWEHTMitS75",
        "outputId": "1b732d81-7a73-4b8f-a758-dc8e3a1df2b4"
      },
      "execution_count": null,
      "outputs": [
        {
          "output_type": "stream",
          "name": "stdout",
          "text": [
            "The principal is 2\n",
            "The time is 3\n",
            "The rate of interest is 4\n",
            "simple interest is 0.24\n"
          ]
        },
        {
          "output_type": "execute_result",
          "data": {
            "text/plain": [
              "0.24"
            ]
          },
          "metadata": {},
          "execution_count": 19
        }
      ]
    },
    {
      "cell_type": "code",
      "source": [
        "## Matrix multiplication \n",
        "# Program to multiply two matrices using nested loops\n",
        "\n",
        "# take a 3x3 matrix\n",
        "A = [[2,4,5],\n",
        "     [4,2,1],\n",
        "     [1,2,3]]\n",
        "\n",
        "# take a 3x4 matrix\n",
        "B = [[5, 8, 1, 2],\n",
        "\t[6, 7, 3, 0],\n",
        "\t[4, 5, 9, 1]]\n",
        "\t\n",
        "result = [[0, 0, 0, 0],\n",
        "\t\t[0, 0, 0, 0],\n",
        "\t\t[0, 0, 0, 0]]\n",
        "\n",
        "# iterating by row of A\n",
        "for i in range(len(A)):\n",
        "\n",
        "\t# iterating by column by B\n",
        "\tfor j in range(len(B[0])):\n",
        "\n",
        "\t\t# iterating by rows of B\n",
        "\t\tfor k in range(len(B)):\n",
        "\t\t\tresult[i][j] += A[i][k] * B[k][j]\n",
        "\n",
        "for r in result:\n",
        "\tprint(r)\n"
      ],
      "metadata": {
        "id": "9coGdQpNtSmb",
        "colab": {
          "base_uri": "https://localhost:8080/"
        },
        "outputId": "65253525-36c9-44d6-ff70-b139a37cdb7c"
      },
      "execution_count": null,
      "outputs": [
        {
          "output_type": "stream",
          "name": "stdout",
          "text": [
            "[54, 69, 59, 9]\n",
            "[36, 51, 19, 9]\n",
            "[29, 37, 34, 5]\n"
          ]
        }
      ]
    },
    {
      "cell_type": "code",
      "source": [
        "# Program to multiply two matrices (vectorized implementation)\n",
        "\n",
        "# Program to multiply two matrices (vectorized implementation)\n",
        "\n",
        "import numpy as np\n",
        "\n",
        "# take a 3x3 matrix\n",
        "A = [[2,4,5],\n",
        "     [4,2,1],\n",
        "     [1,2,3]]\n",
        "\n",
        "# take a 3x4 matrix\n",
        "B = [[5, 8, 1, 2],\n",
        "\t[6, 7, 3, 0],\n",
        "\t[4, 5, 9, 1]]\n",
        "\n",
        "# result will be 3x4\n",
        "\n",
        "result= [[0,0,0,0],\n",
        "\t\t[0,0,0,0],\n",
        "\t\t[0,0,0,0]]\n",
        "\n",
        "result = np.dot(A,B)\n",
        "\n",
        "for r in result:\n",
        "\tprint(r)\n"
      ],
      "metadata": {
        "id": "tc-nAVCqtSkm",
        "colab": {
          "base_uri": "https://localhost:8080/"
        },
        "outputId": "eeae0490-946a-4e12-d862-83cec4e3d6e1"
      },
      "execution_count": null,
      "outputs": [
        {
          "output_type": "stream",
          "name": "stdout",
          "text": [
            "[54 69 59  9]\n",
            "[36 51 19  9]\n",
            "[29 37 34  5]\n"
          ]
        }
      ]
    },
    {
      "cell_type": "code",
      "source": [
        "# Max array sum\n",
        "n = int(input())\n",
        "arr = str(map(int(input().split())))\n",
        "v =[0]*n\n",
        "for i in range(n):\n",
        "  if i < 2:\n",
        "    v[i]=max(arr[i], 0)\n",
        "    continue\n",
        "  elif i==2:\n",
        "    v[i]=v[i-2]+max(arr[i],0)\n",
        "    continue\n",
        "  \n",
        "v[i] = max(v[i-2], v[i-3]) + max(arr[i], 0)\n",
        "\n",
        "print(max(v[-1], v[-2]))\n"
      ],
      "metadata": {
        "id": "eeQzeDuUtSd9",
        "colab": {
          "base_uri": "https://localhost:8080/",
          "height": 269
        },
        "outputId": "4d35f0db-1bca-458a-a7cd-7afae861aea6"
      },
      "execution_count": null,
      "outputs": [
        {
          "name": "stdout",
          "output_type": "stream",
          "text": [
            "2\n",
            "6\n"
          ]
        },
        {
          "output_type": "error",
          "ename": "TypeError",
          "evalue": "ignored",
          "traceback": [
            "\u001b[0;31m---------------------------------------------------------------------------\u001b[0m",
            "\u001b[0;31mTypeError\u001b[0m                                 Traceback (most recent call last)",
            "\u001b[0;32m<ipython-input-9-5008617587d8>\u001b[0m in \u001b[0;36m<module>\u001b[0;34m()\u001b[0m\n\u001b[1;32m      1\u001b[0m \u001b[0;31m# Max array sum\u001b[0m\u001b[0;34m\u001b[0m\u001b[0;34m\u001b[0m\u001b[0;34m\u001b[0m\u001b[0m\n\u001b[1;32m      2\u001b[0m \u001b[0mn\u001b[0m \u001b[0;34m=\u001b[0m \u001b[0mint\u001b[0m\u001b[0;34m(\u001b[0m\u001b[0minput\u001b[0m\u001b[0;34m(\u001b[0m\u001b[0;34m)\u001b[0m\u001b[0;34m)\u001b[0m\u001b[0;34m\u001b[0m\u001b[0;34m\u001b[0m\u001b[0m\n\u001b[0;32m----> 3\u001b[0;31m \u001b[0marr\u001b[0m \u001b[0;34m=\u001b[0m \u001b[0mstr\u001b[0m\u001b[0;34m(\u001b[0m\u001b[0mmap\u001b[0m\u001b[0;34m(\u001b[0m\u001b[0mint\u001b[0m\u001b[0;34m(\u001b[0m\u001b[0minput\u001b[0m\u001b[0;34m(\u001b[0m\u001b[0;34m)\u001b[0m\u001b[0;34m.\u001b[0m\u001b[0msplit\u001b[0m\u001b[0;34m(\u001b[0m\u001b[0;34m)\u001b[0m\u001b[0;34m)\u001b[0m\u001b[0;34m)\u001b[0m\u001b[0;34m)\u001b[0m\u001b[0;34m\u001b[0m\u001b[0;34m\u001b[0m\u001b[0m\n\u001b[0m\u001b[1;32m      4\u001b[0m \u001b[0mv\u001b[0m \u001b[0;34m=\u001b[0m\u001b[0;34m[\u001b[0m\u001b[0;36m0\u001b[0m\u001b[0;34m]\u001b[0m\u001b[0;34m*\u001b[0m\u001b[0mn\u001b[0m\u001b[0;34m\u001b[0m\u001b[0;34m\u001b[0m\u001b[0m\n\u001b[1;32m      5\u001b[0m \u001b[0;32mfor\u001b[0m \u001b[0mi\u001b[0m \u001b[0;32min\u001b[0m \u001b[0mrange\u001b[0m\u001b[0;34m(\u001b[0m\u001b[0mn\u001b[0m\u001b[0;34m)\u001b[0m\u001b[0;34m:\u001b[0m\u001b[0;34m\u001b[0m\u001b[0;34m\u001b[0m\u001b[0m\n",
            "\u001b[0;31mTypeError\u001b[0m: int() argument must be a string, a bytes-like object or a number, not 'list'"
          ]
        }
      ]
    },
    {
      "cell_type": "code",
      "source": [
        "## Print the repeated alphabet\n",
        "import collections\n",
        "the_string=\" I will become a data scientist and earn huge money and skills\"\n",
        "results = collections.Counter(the_string)\n",
        "print(results)"
      ],
      "metadata": {
        "id": "zKHohe3IlqrL",
        "colab": {
          "base_uri": "https://localhost:8080/"
        },
        "outputId": "a7e55a4f-f2ec-49db-f53b-dd5f6c7df85c"
      },
      "execution_count": null,
      "outputs": [
        {
          "output_type": "stream",
          "name": "stdout",
          "text": [
            "Counter({' ': 12, 'e': 6, 'a': 6, 'n': 5, 'i': 4, 'l': 4, 's': 4, 'd': 3, 't': 3, 'c': 2, 'o': 2, 'm': 2, 'I': 1, 'w': 1, 'b': 1, 'r': 1, 'h': 1, 'u': 1, 'g': 1, 'y': 1, 'k': 1})\n"
          ]
        }
      ]
    },
    {
      "cell_type": "code",
      "source": [
        "import collections\n",
        "def string(n):\n",
        "  return(collections.Counter(n))"
      ],
      "metadata": {
        "id": "J0uFET9X1a48"
      },
      "execution_count": null,
      "outputs": []
    },
    {
      "cell_type": "code",
      "source": [
        "num='i will become a datascientist and earn 6LPA'\n",
        "print(string(num))"
      ],
      "metadata": {
        "colab": {
          "base_uri": "https://localhost:8080/"
        },
        "id": "rc9EeitE1shr",
        "outputId": "0d819bdb-e140-4bf9-ee3e-c51f7469bbe8"
      },
      "execution_count": null,
      "outputs": [
        {
          "output_type": "stream",
          "name": "stdout",
          "text": [
            "Counter({' ': 7, 'a': 5, 'i': 4, 'e': 4, 't': 3, 'n': 3, 'l': 2, 'c': 2, 'd': 2, 's': 2, 'w': 1, 'b': 1, 'o': 1, 'm': 1, 'r': 1, '6': 1, 'L': 1, 'P': 1, 'A': 1})\n"
          ]
        }
      ]
    },
    {
      "cell_type": "code",
      "source": [
        "# Fibonacci \n",
        "n = int(input(\"Enter the nth value: \"))\n",
        "a = 0\n",
        "b = 1\n",
        "sum = 0\n",
        "print(\"Fibonacci Series : \", end = \" \")\n",
        "while(sum <= n):\n",
        "     print(sum, end = \" \")\n",
        "     a = b\n",
        "     b = sum\n",
        "     sum = a + b\n"
      ],
      "metadata": {
        "colab": {
          "base_uri": "https://localhost:8080/"
        },
        "id": "xnetnXxZ3lde",
        "outputId": "42b1f41b-8678-476a-c2f3-e1ae85072d01"
      },
      "execution_count": null,
      "outputs": [
        {
          "output_type": "stream",
          "name": "stdout",
          "text": [
            "Enter the nth value: 2\n",
            "Fibonacci Series :  0 1 1 2 "
          ]
        }
      ]
    },
    {
      "cell_type": "code",
      "source": [
        "got_houses = ['Stark', 'Arryn', 'Baratheon', 'Tully', 'Greyjoy', 'Lannister', 'Tyrell', 'Martell', 'Targaryen']"
      ],
      "metadata": {
        "id": "JrXeN2ss3lZ6"
      },
      "execution_count": null,
      "outputs": []
    },
    {
      "cell_type": "code",
      "source": [
        "for house in got_houses[::-1]:\n",
        "  print(f\"house {house}\")\n"
      ],
      "metadata": {
        "id": "sUYau7Vu3lXN",
        "colab": {
          "base_uri": "https://localhost:8080/"
        },
        "outputId": "9a8ff422-e0be-4dda-c8c1-6f91066b9aa8"
      },
      "execution_count": null,
      "outputs": [
        {
          "output_type": "stream",
          "name": "stdout",
          "text": [
            "house Targaryen\n",
            "house Martell\n",
            "house Tyrell\n",
            "house Lannister\n",
            "house Greyjoy\n",
            "house Tully\n",
            "house Baratheon\n",
            "house Arryn\n",
            "house Stark\n"
          ]
        }
      ]
    },
    {
      "cell_type": "code",
      "source": [
        "for number, house in enumerate(got_houses):\n",
        "  print(f'house no is {house} is {number+1}')"
      ],
      "metadata": {
        "id": "YGuAylnk3lVA",
        "colab": {
          "base_uri": "https://localhost:8080/"
        },
        "outputId": "18eb167d-8a6d-480b-8100-bf1ff7cd4e17"
      },
      "execution_count": null,
      "outputs": [
        {
          "output_type": "stream",
          "name": "stdout",
          "text": [
            "house no is Stark is 1\n",
            "house no is Arryn is 2\n",
            "house no is Baratheon is 3\n",
            "house no is Tully is 4\n",
            "house no is Greyjoy is 5\n",
            "house no is Lannister is 6\n",
            "house no is Tyrell is 7\n",
            "house no is Martell is 8\n",
            "house no is Targaryen is 9\n"
          ]
        }
      ]
    },
    {
      "cell_type": "code",
      "source": [
        "# The list of numbers\n",
        "list_of_numbers = [1, 2, 4, 6, 11, 14, 17, 20]"
      ],
      "metadata": {
        "id": "geY9_hwh3lRP"
      },
      "execution_count": null,
      "outputs": []
    },
    {
      "cell_type": "code",
      "source": [
        "for number in list_of_numbers:\n",
        "  sq_num = number**2\n",
        "  print(f'sq of the {number} is {sq_num}')"
      ],
      "metadata": {
        "id": "H9b8yyjw3lIX",
        "colab": {
          "base_uri": "https://localhost:8080/"
        },
        "outputId": "f802ff26-dc40-4f45-ce41-99ecb1ae7e47"
      },
      "execution_count": null,
      "outputs": [
        {
          "output_type": "stream",
          "name": "stdout",
          "text": [
            "sq of the 1 is 1\n",
            "sq of the 2 is 4\n",
            "sq of the 4 is 16\n",
            "sq of the 6 is 36\n",
            "sq of the 11 is 121\n",
            "sq of the 14 is 196\n",
            "sq of the 17 is 289\n",
            "sq of the 20 is 400\n"
          ]
        }
      ]
    },
    {
      "cell_type": "code",
      "source": [
        "list_of_numbers"
      ],
      "metadata": {
        "colab": {
          "base_uri": "https://localhost:8080/"
        },
        "id": "aeyfKiAKxLIr",
        "outputId": "d10c4b5b-0983-4142-a688-6956404d1a03"
      },
      "execution_count": null,
      "outputs": [
        {
          "output_type": "execute_result",
          "data": {
            "text/plain": [
              "[1, 2, 4, 6, 11, 14, 17, 20]"
            ]
          },
          "metadata": {},
          "execution_count": 12
        }
      ]
    },
    {
      "cell_type": "code",
      "source": [
        "sqrnum=[]\n",
        "\n",
        "for number in list_of_numbers:\n",
        "  sq = number**2\n",
        "  sqrnum.append(sq)\n",
        "print(f'list of sq of num is {sqrnum}')"
      ],
      "metadata": {
        "id": "p3rMESuG1sPI",
        "colab": {
          "base_uri": "https://localhost:8080/"
        },
        "outputId": "951d797f-3905-4cd9-c34a-82b6b0fd0220"
      },
      "execution_count": null,
      "outputs": [
        {
          "output_type": "stream",
          "name": "stdout",
          "text": [
            "list of sq of num is [1, 4, 16, 36, 121, 196, 289, 400]\n"
          ]
        }
      ]
    },
    {
      "cell_type": "code",
      "source": [
        "zipdict=dict(zip(list_of_numbers,sqrnum))\n",
        "zipdict"
      ],
      "metadata": {
        "colab": {
          "base_uri": "https://localhost:8080/"
        },
        "id": "Exd-TMAmx48Y",
        "outputId": "e01a2ba0-e05c-4ff7-c39b-3094c81e4a7c"
      },
      "execution_count": null,
      "outputs": [
        {
          "output_type": "execute_result",
          "data": {
            "text/plain": [
              "{1: 1, 2: 4, 4: 16, 6: 36, 11: 121, 14: 196, 17: 289, 20: 400}"
            ]
          },
          "metadata": {},
          "execution_count": 19
        }
      ]
    },
    {
      "cell_type": "code",
      "source": [
        "for number in list_of_numbers:\n",
        "  if number%2==0:\n",
        "    sqr_num = number**2\n",
        "    print(f'the {number} of is {sqr_num}')\n",
        "  else:\n",
        "    print(f'i am an odd {number} ')"
      ],
      "metadata": {
        "colab": {
          "base_uri": "https://localhost:8080/"
        },
        "id": "WsqbaXmlx45x",
        "outputId": "6147640e-113c-42a4-ab68-aff601cbe688"
      },
      "execution_count": null,
      "outputs": [
        {
          "output_type": "stream",
          "name": "stdout",
          "text": [
            "i am an odd 1 \n",
            "the 2 of is 4\n",
            "the 4 of is 16\n",
            "the 6 of is 36\n",
            "i am an odd 11 \n",
            "the 14 of is 196\n",
            "i am an odd 17 \n",
            "the 20 of is 400\n"
          ]
        }
      ]
    },
    {
      "cell_type": "code",
      "source": [
        "list(range(12))"
      ],
      "metadata": {
        "colab": {
          "base_uri": "https://localhost:8080/"
        },
        "id": "gG1ECGSix43T",
        "outputId": "b42a9ae6-424b-4a20-bfae-e5b6031849eb"
      },
      "execution_count": null,
      "outputs": [
        {
          "output_type": "execute_result",
          "data": {
            "text/plain": [
              "[0, 1, 2, 3, 4, 5, 6, 7, 8, 9, 10, 11]"
            ]
          },
          "metadata": {},
          "execution_count": 23
        }
      ]
    },
    {
      "cell_type": "code",
      "source": [
        "for number in range (2,12,3):\n",
        "  sq_numbr=number**2\n",
        "  print(f'sq of {number} is {sq_numbr}')\n"
      ],
      "metadata": {
        "colab": {
          "base_uri": "https://localhost:8080/"
        },
        "id": "ftn8CUCrx4xu",
        "outputId": "aaf17a72-9e97-484b-ed41-7e4b5b776a69"
      },
      "execution_count": null,
      "outputs": [
        {
          "output_type": "stream",
          "name": "stdout",
          "text": [
            "sq of 2 is 4\n",
            "sq of 5 is 25\n",
            "sq of 8 is 64\n",
            "sq of 11 is 121\n"
          ]
        }
      ]
    },
    {
      "cell_type": "code",
      "source": [
        "sum_sq = 0\n",
        "\n",
        "for number in range(0,12):\n",
        "  sum_sq += number**2\n",
        "  print(sum_sq)"
      ],
      "metadata": {
        "colab": {
          "base_uri": "https://localhost:8080/"
        },
        "id": "-vitozg1x4us",
        "outputId": "7643e65b-cfd0-4a95-e6aa-454a6a2d7ba6"
      },
      "execution_count": null,
      "outputs": [
        {
          "output_type": "stream",
          "name": "stdout",
          "text": [
            "0\n",
            "1\n",
            "5\n",
            "14\n",
            "30\n",
            "55\n",
            "91\n",
            "140\n",
            "204\n",
            "285\n",
            "385\n",
            "506\n"
          ]
        }
      ]
    },
    {
      "cell_type": "code",
      "source": [
        "# Let us first store the sentence in a string variable \n",
        "heisenberg_quote =  \"I am the one who knocks!\""
      ],
      "metadata": {
        "id": "tys7Ofbnx4rm"
      },
      "execution_count": null,
      "outputs": []
    },
    {
      "cell_type": "code",
      "source": [
        "for char in heisenberg_quote:\n",
        "  print(f\" The character is {char}\")"
      ],
      "metadata": {
        "colab": {
          "base_uri": "https://localhost:8080/"
        },
        "id": "nO0whoIKx4k1",
        "outputId": "af2c0238-dc7a-43c2-8b6d-9e3056a8cf7a"
      },
      "execution_count": null,
      "outputs": [
        {
          "output_type": "stream",
          "name": "stdout",
          "text": [
            " The character is I\n",
            " The character is  \n",
            " The character is a\n",
            " The character is m\n",
            " The character is  \n",
            " The character is t\n",
            " The character is h\n",
            " The character is e\n",
            " The character is  \n",
            " The character is o\n",
            " The character is n\n",
            " The character is e\n",
            " The character is  \n",
            " The character is w\n",
            " The character is h\n",
            " The character is o\n",
            " The character is  \n",
            " The character is k\n",
            " The character is n\n",
            " The character is o\n",
            " The character is c\n",
            " The character is k\n",
            " The character is s\n",
            " The character is !\n"
          ]
        }
      ]
    },
    {
      "cell_type": "code",
      "source": [
        "# Lets apply a for loop to do the above task\n",
        "\n",
        "for index,char  in enumerate(heisenberg_quote):\n",
        "  print(f\" The index is {index} and the character is {char}\")"
      ],
      "metadata": {
        "colab": {
          "base_uri": "https://localhost:8080/"
        },
        "id": "uFnQiNIJ-uRn",
        "outputId": "fed8d401-d82a-48e4-a7c2-b1269a45ed37"
      },
      "execution_count": null,
      "outputs": [
        {
          "output_type": "stream",
          "name": "stdout",
          "text": [
            " The index is 0 and the character is I\n",
            " The index is 1 and the character is  \n",
            " The index is 2 and the character is a\n",
            " The index is 3 and the character is m\n",
            " The index is 4 and the character is  \n",
            " The index is 5 and the character is t\n",
            " The index is 6 and the character is h\n",
            " The index is 7 and the character is e\n",
            " The index is 8 and the character is  \n",
            " The index is 9 and the character is o\n",
            " The index is 10 and the character is n\n",
            " The index is 11 and the character is e\n",
            " The index is 12 and the character is  \n",
            " The index is 13 and the character is w\n",
            " The index is 14 and the character is h\n",
            " The index is 15 and the character is o\n",
            " The index is 16 and the character is  \n",
            " The index is 17 and the character is k\n",
            " The index is 18 and the character is n\n",
            " The index is 19 and the character is o\n",
            " The index is 20 and the character is c\n",
            " The index is 21 and the character is k\n",
            " The index is 22 and the character is s\n",
            " The index is 23 and the character is !\n"
          ]
        }
      ]
    },
    {
      "cell_type": "code",
      "source": [
        "x = 0\n",
        "while x<10:\n",
        "  print('x is currently: ',x)\n",
        "  print('x is less than 10, adding 1 to x')\n",
        "  x=x+1"
      ],
      "metadata": {
        "colab": {
          "base_uri": "https://localhost:8080/"
        },
        "id": "ZTRYF9ai-uO8",
        "outputId": "7e2d56cb-e557-423b-bfad-705c231f2717"
      },
      "execution_count": null,
      "outputs": [
        {
          "output_type": "stream",
          "name": "stdout",
          "text": [
            "x is currently:  0\n",
            "x is less than 10, adding 1 to x\n",
            "x is currently:  1\n",
            "x is less than 10, adding 1 to x\n",
            "x is currently:  2\n",
            "x is less than 10, adding 1 to x\n",
            "x is currently:  3\n",
            "x is less than 10, adding 1 to x\n",
            "x is currently:  4\n",
            "x is less than 10, adding 1 to x\n",
            "x is currently:  5\n",
            "x is less than 10, adding 1 to x\n",
            "x is currently:  6\n",
            "x is less than 10, adding 1 to x\n",
            "x is currently:  7\n",
            "x is less than 10, adding 1 to x\n",
            "x is currently:  8\n",
            "x is less than 10, adding 1 to x\n",
            "x is currently:  9\n",
            "x is less than 10, adding 1 to x\n"
          ]
        }
      ]
    },
    {
      "cell_type": "code",
      "source": [
        "sq_nu=[number **2 for number in list_of_numbers]\n",
        "sq_nu"
      ],
      "metadata": {
        "id": "rEX6z-rx-uMM",
        "colab": {
          "base_uri": "https://localhost:8080/"
        },
        "outputId": "2e9a5f30-c096-43cf-c145-3a9ddaa263cc"
      },
      "execution_count": null,
      "outputs": [
        {
          "output_type": "execute_result",
          "data": {
            "text/plain": [
              "[1, 4, 16, 36, 121, 196, 289, 400]"
            ]
          },
          "metadata": {},
          "execution_count": 4
        }
      ]
    },
    {
      "cell_type": "code",
      "source": [
        "sq_num = [number**2 for number in list_of_numbers if number%2==0]\n",
        "sq_num"
      ],
      "metadata": {
        "id": "K2ExrpmT-t9r",
        "colab": {
          "base_uri": "https://localhost:8080/"
        },
        "outputId": "32aa6a2e-99c0-42d8-b5f3-07a697cde83b"
      },
      "execution_count": null,
      "outputs": [
        {
          "output_type": "execute_result",
          "data": {
            "text/plain": [
              "[4, 16, 36, 196, 400]"
            ]
          },
          "metadata": {},
          "execution_count": 5
        }
      ]
    },
    {
      "cell_type": "code",
      "source": [
        "lk=[1,2,3,2,1,3,4,5,6,6,6]\n",
        "m=set(lk)\n",
        "m"
      ],
      "metadata": {
        "id": "4baf5Yrhx4IT",
        "colab": {
          "base_uri": "https://localhost:8080/"
        },
        "outputId": "595e4639-29b0-41c2-fa37-1703639f06f7"
      },
      "execution_count": null,
      "outputs": [
        {
          "output_type": "execute_result",
          "data": {
            "text/plain": [
              "{1, 2, 3, 4, 5, 6}"
            ]
          },
          "metadata": {},
          "execution_count": 11
        }
      ]
    },
    {
      "cell_type": "code",
      "source": [
        "od_sq=[number**2 if number%2!=0 else number**3 for number in list_of_numbers]\n",
        "od_sq"
      ],
      "metadata": {
        "colab": {
          "base_uri": "https://localhost:8080/"
        },
        "id": "oOi6EOsHcH-O",
        "outputId": "9bf2f3d8-e23c-4c64-fc37-a029236a5825"
      },
      "execution_count": null,
      "outputs": [
        {
          "output_type": "execute_result",
          "data": {
            "text/plain": [
              "[1, 8, 64, 216, 121, 2744, 289, 8000]"
            ]
          },
          "metadata": {},
          "execution_count": 14
        }
      ]
    },
    {
      "cell_type": "code",
      "source": [
        "heisenberg_quote = \"It ceases to exist without me. No, you clearly don't know who you're talking to, so let me clue you in. I am not in danger, Skyler. I am the danger.\""
      ],
      "metadata": {
        "id": "rksYs8-k74l-"
      },
      "execution_count": null,
      "outputs": []
    },
    {
      "cell_type": "code",
      "source": [
        "words_by_walter = heisenberg_quote.split(' ')\n",
        "first_letter = [word[0] for word in words_by_walter]\n",
        "print(first_letter)"
      ],
      "metadata": {
        "colab": {
          "base_uri": "https://localhost:8080/"
        },
        "id": "37XqXZLE74hn",
        "outputId": "7c0ba523-36e4-4785-dbe2-96099fe18437"
      },
      "execution_count": null,
      "outputs": [
        {
          "output_type": "stream",
          "name": "stdout",
          "text": [
            "['I', 'c', 't', 'e', 'w', 'm', 'N', 'y', 'c', 'd', 'k', 'w', 'y', 't', 't', 's', 'l', 'm', 'c', 'y', 'i', 'I', 'a', 'n', 'i', 'd', 'S', 'I', 'a', 't', 'd']\n"
          ]
        }
      ]
    },
    {
      "cell_type": "code",
      "source": [
        "def extract_first_letters(sentence):\n",
        "  word_in_sentence = sentence.split(' ')\n",
        "  first_letters = [word[0] for word in word_in_sentence]\n",
        "  return first_letters"
      ],
      "metadata": {
        "id": "B4FEjIu674eF"
      },
      "execution_count": null,
      "outputs": []
    },
    {
      "cell_type": "code",
      "source": [
        "extract_first_letters(heisenberg_quote)"
      ],
      "metadata": {
        "colab": {
          "base_uri": "https://localhost:8080/"
        },
        "id": "Y4IV3i7l74bC",
        "outputId": "393f00a1-f689-4d82-fbd4-137ae1bc7836"
      },
      "execution_count": null,
      "outputs": [
        {
          "output_type": "execute_result",
          "data": {
            "text/plain": [
              "['I',\n",
              " 'c',\n",
              " 't',\n",
              " 'e',\n",
              " 'w',\n",
              " 'm',\n",
              " 'N',\n",
              " 'y',\n",
              " 'c',\n",
              " 'd',\n",
              " 'k',\n",
              " 'w',\n",
              " 'y',\n",
              " 't',\n",
              " 't',\n",
              " 's',\n",
              " 'l',\n",
              " 'm',\n",
              " 'c',\n",
              " 'y',\n",
              " 'i',\n",
              " 'I',\n",
              " 'a',\n",
              " 'n',\n",
              " 'i',\n",
              " 'd',\n",
              " 'S',\n",
              " 'I',\n",
              " 'a',\n",
              " 't',\n",
              " 'd']"
            ]
          },
          "metadata": {},
          "execution_count": 5
        }
      ]
    },
    {
      "cell_type": "code",
      "source": [
        "def factorial(num):\n",
        "  if num<0:\n",
        "    print(f'factorial is not defined for zero')\n",
        "  elif num>0:\n",
        "    result=1\n",
        "    for i in range(1,num+1):\n",
        "      result= result*i\n",
        "  else:\n",
        "    print(f'the factoril of 0 is 1')\n",
        "\n",
        "  return result"
      ],
      "metadata": {
        "id": "Z7H6-vo19gpf"
      },
      "execution_count": null,
      "outputs": []
    },
    {
      "cell_type": "code",
      "source": [
        "num =(factorial(9))\n",
        "num"
      ],
      "metadata": {
        "colab": {
          "base_uri": "https://localhost:8080/"
        },
        "id": "9ZgWXN4L9gmo",
        "outputId": "277a28d4-ced2-4cc6-8274-02bb01f5da05"
      },
      "execution_count": null,
      "outputs": [
        {
          "output_type": "execute_result",
          "data": {
            "text/plain": [
              "362880"
            ]
          },
          "metadata": {},
          "execution_count": 22
        }
      ]
    },
    {
      "cell_type": "code",
      "source": [
        "def number_char(string):\n",
        "  total=0\n",
        "  for char in string:\n",
        "    total = total+1\n",
        "  return total"
      ],
      "metadata": {
        "id": "QCK2kJyj9gjf"
      },
      "execution_count": null,
      "outputs": []
    },
    {
      "cell_type": "code",
      "source": [
        "original_string = \"The quick brown rhino jumped over the extremely lazy fox.\"\n",
        "print(number_char(original_string))"
      ],
      "metadata": {
        "colab": {
          "base_uri": "https://localhost:8080/"
        },
        "id": "B_Txyq_29ggn",
        "outputId": "55c134d4-1aa1-4846-f909-19ce330575ab"
      },
      "execution_count": null,
      "outputs": [
        {
          "output_type": "stream",
          "name": "stdout",
          "text": [
            "57\n"
          ]
        }
      ]
    },
    {
      "cell_type": "code",
      "source": [
        "t"
      ],
      "metadata": {
        "id": "q3i1_3UpNjcD"
      },
      "execution_count": null,
      "outputs": []
    },
    {
      "cell_type": "code",
      "source": [
        "def assignQuarter(user_date):\n",
        "  \n",
        "  date_year = user_date[:4]\n",
        "  date_month = user_date[5:7]\n",
        "\n",
        "  # Step 2 : Store the quarter value in a string variable named quarter\n",
        "  if (date_month >= '01') & (date_month <='03'):\n",
        "    quarter = date_year + '-Q1'\n",
        "  elif (date_month >= '04') & (date_month <='06'):\n",
        "    quarter = date_year + '-Q2'\n",
        "  elif (date_month >= '07') & (date_month <='09'):\n",
        "    quarter = date_year + '-Q3'\n",
        "  else:\n",
        "    quarter = date_year + '-Q4'\n",
        "\n",
        "  # Step 3 : Print the message you want to display to the user. Here we are not returning anything  \n",
        "  print(f'The corresponding quarter for the date {user_date} is {quarter}')\n",
        "  # return quarter"
      ],
      "metadata": {
        "id": "-A4E7eMK74Ws"
      },
      "execution_count": null,
      "outputs": []
    },
    {
      "cell_type": "code",
      "source": [
        "smp = '27-09-2021'\n",
        "dq_quarter = assignQuarter(smp)\n",
        "print(dq_quarter)"
      ],
      "metadata": {
        "colab": {
          "base_uri": "https://localhost:8080/"
        },
        "id": "my09ypJC74TU",
        "outputId": "8ef06623-0baf-4111-d0d9-e5c749663be5"
      },
      "execution_count": null,
      "outputs": [
        {
          "output_type": "stream",
          "name": "stdout",
          "text": [
            "The corresponding quarter for the date 27-09-2021 is 27-0-Q4\n",
            "None\n"
          ]
        }
      ]
    },
    {
      "cell_type": "code",
      "source": [
        "def check_even_odd(num):\n",
        "  if num%2==0:\n",
        "    return 'even'\n",
        "  return 'odd'"
      ],
      "metadata": {
        "id": "WT30i1NOQHb2"
      },
      "execution_count": null,
      "outputs": []
    },
    {
      "cell_type": "code",
      "source": [
        "chck = check_even_odd(8)\n",
        "print(chck)"
      ],
      "metadata": {
        "colab": {
          "base_uri": "https://localhost:8080/"
        },
        "id": "YnrANls1SYfJ",
        "outputId": "eb4ed8fd-3f18-4e1d-ea01-d9035547717f"
      },
      "execution_count": null,
      "outputs": [
        {
          "output_type": "stream",
          "name": "stdout",
          "text": [
            "even\n"
          ]
        }
      ]
    },
    {
      "cell_type": "code",
      "source": [
        "heights =  [172,175,170,168,170,200]"
      ],
      "metadata": {
        "id": "CF-PjSmTTE5u"
      },
      "execution_count": null,
      "outputs": []
    },
    {
      "cell_type": "code",
      "source": [
        "def calculate_avg(my_list):\n",
        "  mean = sum(my_list)/len(my_list)\n",
        "  sorted_list= sorted(my_list)\n",
        "  list_length=len(sorted_list)\n",
        "\n",
        "  if list_length%2==0:\n",
        "    median = (sorted_list[int(list_length/2)-1] + sorted_list[int(list_length/2)])/2\n",
        "  else:\n",
        "    median = sorted_list[int((list_length+1)/2)-1]\n",
        "  return mean, median"
      ],
      "metadata": {
        "id": "y_ivq6MeQHU5"
      },
      "execution_count": null,
      "outputs": []
    },
    {
      "cell_type": "code",
      "source": [
        "h=[2,3,4,5]\n",
        "calculate_avg(h)"
      ],
      "metadata": {
        "colab": {
          "base_uri": "https://localhost:8080/"
        },
        "id": "2U5GILWfQHRv",
        "outputId": "f2c7de8d-4c9b-4c7d-b79f-9da17b06a1ef"
      },
      "execution_count": null,
      "outputs": [
        {
          "output_type": "execute_result",
          "data": {
            "text/plain": [
              "(3.5, 3.5)"
            ]
          },
          "metadata": {},
          "execution_count": 51
        }
      ]
    },
    {
      "cell_type": "code",
      "source": [
        "# Python Program to Count Occurrence of a Character in a String\n",
        "\n",
        "def count_Occurrence(ch, str1):\n",
        "    count = 0\n",
        "    for i in range(len(string)):\n",
        "        if(string[i] == char):\n",
        "            count = count + 1\n",
        "    return count\n",
        "\n",
        "string = input(\"Please enter your own String : \")\n",
        "char = input(\"Please enter your own Character : \")\n",
        "\n",
        "cnt = count_Occurrence(char, string)\n",
        "print(\"The total Number of Times \", char, \" has Occurred = \" , cnt)"
      ],
      "metadata": {
        "colab": {
          "base_uri": "https://localhost:8080/"
        },
        "id": "yzweRWkFeby0",
        "outputId": "ff9faf6d-8992-4bc9-f066-f62ee51c7b07"
      },
      "execution_count": null,
      "outputs": [
        {
          "output_type": "stream",
          "name": "stdout",
          "text": [
            "Please enter your own String : hi how are u\n",
            "Please enter your own Character : h\n",
            "The total Number of Times  h  has Occurred =  2\n"
          ]
        }
      ]
    },
    {
      "cell_type": "code",
      "source": [
        "def count_ocr(ch,str2):\n",
        "  count=0\n",
        "  for i in range(len(string)):\n",
        "    if(string[i] == char):\n",
        "      count = count+1\n",
        "  return count\n",
        "\n",
        "string = input('enter your string: ')\n",
        "char = input('enter you character: ')\n",
        "\n",
        "cnt = count_ocr(char, string)\n",
        "print(\"total num of times\" ,char, \"has occrd = \" ,cnt)\n"
      ],
      "metadata": {
        "colab": {
          "base_uri": "https://localhost:8080/"
        },
        "id": "3pqF94bOec7v",
        "outputId": "9d43fa7b-aa7f-4617-fae0-925830744f1d"
      },
      "execution_count": null,
      "outputs": [
        {
          "output_type": "stream",
          "name": "stdout",
          "text": [
            "enter your string: please god this time execute my programme successfully\n",
            "enter you character: s\n",
            "total num of times s has occrd =  5\n"
          ]
        }
      ]
    },
    {
      "cell_type": "code",
      "source": [
        ""
      ],
      "metadata": {
        "id": "0gPmo0mMkGEZ"
      },
      "execution_count": null,
      "outputs": []
    },
    {
      "cell_type": "code",
      "source": [
        "from collections import Counter\n",
        "\n",
        "input_string = \"Data Science will give me success\"\n",
        "\n",
        "frequency_per_char = Counter(input_string)\n",
        "\n",
        "# Show Output\n",
        "print (\"Per char frequency in '{}' is :\\n {}\".format(input_string, str(frequency_per_char)))"
      ],
      "metadata": {
        "colab": {
          "base_uri": "https://localhost:8080/"
        },
        "id": "jqrdu-YnqwRn",
        "outputId": "801c150b-233a-4b09-d960-ba783b81e2f2"
      },
      "execution_count": null,
      "outputs": [
        {
          "output_type": "stream",
          "name": "stdout",
          "text": [
            "Per char frequency in 'Data Science will give me success' is :\n",
            " Counter({' ': 5, 'e': 5, 'c': 4, 'i': 3, 's': 3, 'a': 2, 'l': 2, 'D': 1, 't': 1, 'S': 1, 'n': 1, 'w': 1, 'g': 1, 'v': 1, 'm': 1, 'u': 1})\n",
            "Type of frequency_per_char is:  <class 'collections.Counter'>\n"
          ]
        }
      ]
    },
    {
      "cell_type": "code",
      "source": [
        "print(frequency_per_char)"
      ],
      "metadata": {
        "colab": {
          "base_uri": "https://localhost:8080/"
        },
        "id": "0aoxV_sWqwPP",
        "outputId": "396a875f-1add-4dd5-93c5-0401ff5353ea"
      },
      "execution_count": null,
      "outputs": [
        {
          "output_type": "stream",
          "name": "stdout",
          "text": [
            "Counter({' ': 5, 'e': 5, 'c': 4, 'i': 3, 's': 3, 'a': 2, 'l': 2, 'D': 1, 't': 1, 'S': 1, 'n': 1, 'w': 1, 'g': 1, 'v': 1, 'm': 1, 'u': 1})\n"
          ]
        }
      ]
    },
    {
      "cell_type": "code",
      "source": [
        "def factorial(n):\n",
        "  return 1 if (n==1 or n==0) else n* factorial(n-1)"
      ],
      "metadata": {
        "id": "jph-q0wGqwHv"
      },
      "execution_count": null,
      "outputs": []
    },
    {
      "cell_type": "code",
      "source": [
        "\n",
        "## Define char num in string\n",
        "from collections import Counter\n",
        "def char_count(n):\n",
        "  return (Counter(n))"
      ],
      "metadata": {
        "id": "faI8ioGmx7l2"
      },
      "execution_count": null,
      "outputs": []
    },
    {
      "cell_type": "code",
      "source": [
        "n= 'helo'\n",
        "print(char_count(n))"
      ],
      "metadata": {
        "colab": {
          "base_uri": "https://localhost:8080/"
        },
        "id": "tFTzrfPJkGB0",
        "outputId": "981e5971-0126-41cf-ae6f-8d7d2e43b86f"
      },
      "execution_count": null,
      "outputs": [
        {
          "output_type": "stream",
          "name": "stdout",
          "text": [
            "Counter({'h': 1, 'e': 1, 'l': 1, 'o': 1})\n"
          ]
        }
      ]
    },
    {
      "cell_type": "code",
      "source": [
        "# xercise 1: Print First 10 natural numbers using while loop\n",
        "i =1 \n",
        "while i<=10:\n",
        "  print(i)\n",
        "  i = i+1"
      ],
      "metadata": {
        "id": "csGJzQSRvuxW",
        "colab": {
          "base_uri": "https://localhost:8080/"
        },
        "outputId": "237dec57-9e3f-461d-c804-1d59c410a5a5"
      },
      "execution_count": 3,
      "outputs": [
        {
          "output_type": "stream",
          "name": "stdout",
          "text": [
            "1\n",
            "2\n",
            "3\n",
            "4\n",
            "5\n",
            "6\n",
            "7\n",
            "8\n",
            "9\n",
            "10\n"
          ]
        }
      ]
    },
    {
      "cell_type": "code",
      "source": [
        "print(\"Number Pattern \")\n",
        "\n",
        "# Decide the row count. (above pattern contains 5 rows)\n",
        "row = 5\n",
        "for i in range(1, row + 1, 1):\n",
        "    # Run inner loop i+1 times\n",
        "    for j in range(1, i + 1):\n",
        "        print(j, end=' ')\n",
        "    # empty line after each row\n",
        "    print(\" \")\n"
      ],
      "metadata": {
        "id": "5d7rdXb4vuuc",
        "colab": {
          "base_uri": "https://localhost:8080/"
        },
        "outputId": "97a2635f-9403-4a0d-e753-a5026f157b1d"
      },
      "execution_count": 15,
      "outputs": [
        {
          "output_type": "stream",
          "name": "stdout",
          "text": [
            "Number Pattern \n",
            "1  \n",
            "1 2  \n",
            "1 2 3  \n",
            "1 2 3 4  \n",
            "1 2 3 4 5  \n"
          ]
        }
      ]
    },
    {
      "cell_type": "code",
      "source": [
        "# Python 3 code to find sum\n",
        "# of elements in given array\n",
        "def _sum(arr,n):\n",
        "\t\n",
        "\t# return sum using sum\n",
        "\t# inbuilt sum() function\n",
        "\treturn(sum(arr))\n"
      ],
      "metadata": {
        "id": "QkckFIK6vuqS"
      },
      "execution_count": 23,
      "outputs": []
    },
    {
      "cell_type": "code",
      "source": [
        "num=[1,2,3,4]\n",
        "n=len(num)\n",
        "print(_sum(num,n))"
      ],
      "metadata": {
        "colab": {
          "base_uri": "https://localhost:8080/"
        },
        "id": "l45lAtcNptiu",
        "outputId": "51dbd9ba-52b5-4fda-ccc8-d1d3d2722f09"
      },
      "execution_count": 24,
      "outputs": [
        {
          "output_type": "stream",
          "name": "stdout",
          "text": [
            "10\n"
          ]
        }
      ]
    },
    {
      "cell_type": "code",
      "source": [
        ""
      ],
      "metadata": {
        "id": "N3hLoqhgp-FQ"
      },
      "execution_count": null,
      "outputs": []
    },
    {
      "cell_type": "code",
      "source": [
        ""
      ],
      "metadata": {
        "id": "f1okxsnQp-CU"
      },
      "execution_count": null,
      "outputs": []
    },
    {
      "cell_type": "code",
      "source": [
        ""
      ],
      "metadata": {
        "id": "8p0-5C6jp949"
      },
      "execution_count": null,
      "outputs": []
    }
  ]
}