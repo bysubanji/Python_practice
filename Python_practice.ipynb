{
  "nbformat": 4,
  "nbformat_minor": 0,
  "metadata": {
    "colab": {
      "name": "Python practice.ipynb",
      "provenance": [],
      "collapsed_sections": [],
      "authorship_tag": "ABX9TyMtawEkKSmx8KK7KXCRYYem",
      "include_colab_link": true
    },
    "kernelspec": {
      "name": "python3",
      "display_name": "Python 3"
    },
    "language_info": {
      "name": "python"
    }
  },
  "cells": [
    {
      "cell_type": "markdown",
      "metadata": {
        "id": "view-in-github",
        "colab_type": "text"
      },
      "source": [
        "<a href=\"https://colab.research.google.com/github/bysubanji/Python_practice/blob/main/Python_practice.ipynb\" target=\"_parent\"><img src=\"https://colab.research.google.com/assets/colab-badge.svg\" alt=\"Open In Colab\"/></a>"
      ]
    },
    {
      "cell_type": "code",
      "execution_count": null,
      "metadata": {
        "colab": {
          "base_uri": "https://localhost:8080/"
        },
        "id": "PjbWu61nlAWn",
        "outputId": "d68a29c1-0bc5-4132-f100-8bbdec2631af"
      },
      "outputs": [
        {
          "output_type": "stream",
          "name": "stdout",
          "text": [
            "hello, python?\n"
          ]
        }
      ],
      "source": [
        "print(\"hello, python?\")"
      ]
    },
    {
      "cell_type": "code",
      "source": [
        "var1 = 1\n",
        "var2 = 10\n",
        "print (\"var1, var2\")"
      ],
      "metadata": {
        "colab": {
          "base_uri": "https://localhost:8080/"
        },
        "id": "_grITq1Tl1sl",
        "outputId": "3fd3804d-0afb-46a3-fed8-d683c0362824"
      },
      "execution_count": null,
      "outputs": [
        {
          "output_type": "stream",
          "name": "stdout",
          "text": [
            "var1, var2\n"
          ]
        }
      ]
    },
    {
      "cell_type": "code",
      "source": [
        "str = \"hello world\"\n",
        "print(str)\n",
        "print(str[:-4])\n",
        "print(\"str\" + \"fun\") #cncat"
      ],
      "metadata": {
        "colab": {
          "base_uri": "https://localhost:8080/"
        },
        "id": "HF_U7DC4sbWP",
        "outputId": "4df0393e-8f5f-4d90-fa17-533dff9264d7"
      },
      "execution_count": null,
      "outputs": [
        {
          "output_type": "stream",
          "name": "stdout",
          "text": [
            "hello world\n",
            "hello w\n",
            "strfun\n"
          ]
        }
      ]
    },
    {
      "cell_type": "code",
      "source": [
        "dict = {}\n",
        "dict[1] = [\"this is 10\"]\n",
        "dict[2] = [\"this is 2\"]\n",
        "tinydict = {'name': 'Bhaskar' , 'employee':'53', 'dept':'sale'}\n",
        "\n"
      ],
      "metadata": {
        "id": "yG7d2t3VwBuJ"
      },
      "execution_count": null,
      "outputs": []
    },
    {
      "cell_type": "code",
      "source": [
        "print(tinydict)"
      ],
      "metadata": {
        "id": "oo1BQdY-wBkw",
        "colab": {
          "base_uri": "https://localhost:8080/"
        },
        "outputId": "fced4a02-10a3-4624-853e-8fe625cf6713"
      },
      "execution_count": null,
      "outputs": [
        {
          "output_type": "stream",
          "name": "stdout",
          "text": [
            "{'name': 'Bhaskar', 'employee': '53', 'dept': 'sale'}\n"
          ]
        }
      ]
    },
    {
      "cell_type": "code",
      "source": [
        "print(tinydict.keys())"
      ],
      "metadata": {
        "colab": {
          "base_uri": "https://localhost:8080/"
        },
        "id": "XPDeY7gXwTT-",
        "outputId": "632594e8-efb5-49ea-cb39-5d0102101cb9"
      },
      "execution_count": null,
      "outputs": [
        {
          "output_type": "stream",
          "name": "stdout",
          "text": [
            "dict_keys(['name', 'employee', 'dept'])\n"
          ]
        }
      ]
    },
    {
      "cell_type": "code",
      "source": [
        "print(tinydict.values())"
      ],
      "metadata": {
        "colab": {
          "base_uri": "https://localhost:8080/"
        },
        "id": "v1Jhg4RCwXJ0",
        "outputId": "34639030-475a-46aa-bbc4-ecf9da87f1c3"
      },
      "execution_count": null,
      "outputs": [
        {
          "output_type": "stream",
          "name": "stdout",
          "text": [
            "dict_values(['Bhaskar', '53', 'sale'])\n"
          ]
        }
      ]
    },
    {
      "cell_type": "code",
      "source": [
        "print(dict[1])"
      ],
      "metadata": {
        "colab": {
          "base_uri": "https://localhost:8080/"
        },
        "id": "nvnjqrncwbfY",
        "outputId": "df1c320e-543c-49b8-ce72-6668fcf7c820"
      },
      "execution_count": null,
      "outputs": [
        {
          "output_type": "stream",
          "name": "stdout",
          "text": [
            "['this is 10']\n"
          ]
        }
      ]
    },
    {
      "cell_type": "code",
      "source": [
        ""
      ],
      "metadata": {
        "id": "JHnOitnkwhpx"
      },
      "execution_count": null,
      "outputs": []
    },
    {
      "cell_type": "markdown",
      "source": [
        "## Operators"
      ],
      "metadata": {
        "id": "BPH0d4qn9BZn"
      }
    },
    {
      "cell_type": "markdown",
      "source": [
        "Operators are the constructs, which can manipulate the value of operands. Consider the\n",
        "expression 4 + 5 = 9. Here, 4 and 5 are called operands and + is called the operator.\n",
        "\n",
        "\n",
        "Python language supports the following types of operators-\n",
        "\n",
        " Arithmetic Operators\n",
        "\n",
        " Comparison (Relational) Operators\n",
        "\n",
        " Assignment Operators\n",
        "\n",
        " Logical Operators\n",
        "\n",
        " Bitwise Operators\n",
        "\n",
        " Membership Operators\n",
        "\n",
        " Identity Operators"
      ],
      "metadata": {
        "id": "2Fuc0lV186ge"
      }
    },
    {
      "cell_type": "code",
      "source": [
        "a = 2\n",
        "b =34\n",
        "d = 34\n",
        "print(\"value of d is\" ,d)"
      ],
      "metadata": {
        "colab": {
          "base_uri": "https://localhost:8080/"
        },
        "id": "EynXjF23BVpl",
        "outputId": "5156605d-d9ab-4e48-a50a-95c8c59ef53a"
      },
      "execution_count": null,
      "outputs": [
        {
          "output_type": "stream",
          "name": "stdout",
          "text": [
            "value of d is 34\n"
          ]
        }
      ]
    },
    {
      "cell_type": "code",
      "source": [
        "d = a+d\n",
        "print(\"value of d is\" ,d)"
      ],
      "metadata": {
        "colab": {
          "base_uri": "https://localhost:8080/"
        },
        "id": "2_pDotlEBuTH",
        "outputId": "f7635357-1d01-449d-beec-82cd61fccde9"
      },
      "execution_count": null,
      "outputs": [
        {
          "output_type": "stream",
          "name": "stdout",
          "text": [
            "value of d is 36\n"
          ]
        }
      ]
    },
    {
      "cell_type": "code",
      "source": [
        "d = b*a\n",
        "print(\"value of d is\" ,d)"
      ],
      "metadata": {
        "colab": {
          "base_uri": "https://localhost:8080/"
        },
        "id": "7A0eTKScB3pD",
        "outputId": "b3ad9858-cb64-465f-ff56-836ec2284141"
      },
      "execution_count": null,
      "outputs": [
        {
          "output_type": "stream",
          "name": "stdout",
          "text": [
            "value of d is 68\n"
          ]
        }
      ]
    },
    {
      "cell_type": "code",
      "source": [
        "d = b % a\n",
        "print(\"value of d is\" ,d)"
      ],
      "metadata": {
        "colab": {
          "base_uri": "https://localhost:8080/"
        },
        "id": "ZyqUioUhB9xn",
        "outputId": "d4cf05b5-3da3-474f-827d-726e5e458fee"
      },
      "execution_count": null,
      "outputs": [
        {
          "output_type": "stream",
          "name": "stdout",
          "text": [
            "value of d is 0\n"
          ]
        }
      ]
    },
    {
      "cell_type": "code",
      "source": [
        "d = a-b\n",
        "print(\"value of d is\" ,d)"
      ],
      "metadata": {
        "colab": {
          "base_uri": "https://localhost:8080/"
        },
        "id": "mEQT__AxCO79",
        "outputId": "4d6ee992-7069-4548-dda4-9c2fb10e3823"
      },
      "execution_count": null,
      "outputs": [
        {
          "output_type": "stream",
          "name": "stdout",
          "text": [
            "value of d is -32\n"
          ]
        }
      ]
    },
    {
      "cell_type": "code",
      "source": [
        "a=3\n",
        "b=3\n",
        "a==b"
      ],
      "metadata": {
        "colab": {
          "base_uri": "https://localhost:8080/"
        },
        "id": "C8ti43O2CBCu",
        "outputId": "0e47d6ac-78e7-4916-e897-c082b42ec7b7"
      },
      "execution_count": null,
      "outputs": [
        {
          "output_type": "execute_result",
          "data": {
            "text/plain": [
              "True"
            ]
          },
          "metadata": {},
          "execution_count": 18
        }
      ]
    },
    {
      "cell_type": "code",
      "source": [
        "a=4\n",
        "b=5\n",
        "a==b"
      ],
      "metadata": {
        "colab": {
          "base_uri": "https://localhost:8080/"
        },
        "id": "HI4qRtQtFSCf",
        "outputId": "82a2194f-8413-4493-a595-ff653208b32c"
      },
      "execution_count": null,
      "outputs": [
        {
          "output_type": "execute_result",
          "data": {
            "text/plain": [
              "False"
            ]
          },
          "metadata": {},
          "execution_count": 19
        }
      ]
    },
    {
      "cell_type": "code",
      "source": [
        "a=3\n",
        "b=4\n",
        "a!=b"
      ],
      "metadata": {
        "colab": {
          "base_uri": "https://localhost:8080/"
        },
        "id": "GrAG06pAFVi2",
        "outputId": "ef1503ce-7e28-4407-da31-f035844d1bfd"
      },
      "execution_count": null,
      "outputs": [
        {
          "output_type": "execute_result",
          "data": {
            "text/plain": [
              "True"
            ]
          },
          "metadata": {},
          "execution_count": 20
        }
      ]
    },
    {
      "cell_type": "code",
      "source": [
        "a=3\n",
        "b=3\n",
        "a!=b"
      ],
      "metadata": {
        "colab": {
          "base_uri": "https://localhost:8080/"
        },
        "id": "HA86nwlfFc7h",
        "outputId": "ebd3a4d5-e341-4c85-803d-5ddeb93e581b"
      },
      "execution_count": null,
      "outputs": [
        {
          "output_type": "execute_result",
          "data": {
            "text/plain": [
              "False"
            ]
          },
          "metadata": {},
          "execution_count": 21
        }
      ]
    },
    {
      "cell_type": "code",
      "source": [
        "a=3\n",
        "b=4\n",
        "a<=b"
      ],
      "metadata": {
        "colab": {
          "base_uri": "https://localhost:8080/"
        },
        "id": "-LqaJXlrFxng",
        "outputId": "e109572a-f3b9-4d2a-b7c8-75da14415c38"
      },
      "execution_count": null,
      "outputs": [
        {
          "output_type": "execute_result",
          "data": {
            "text/plain": [
              "True"
            ]
          },
          "metadata": {},
          "execution_count": 22
        }
      ]
    },
    {
      "cell_type": "code",
      "source": [
        "a=3\n",
        "b=4\n",
        "a>=b"
      ],
      "metadata": {
        "colab": {
          "base_uri": "https://localhost:8080/"
        },
        "id": "nnq77T-4F6WN",
        "outputId": "725e0f80-8f36-4c3f-9cc0-78e9fc350800"
      },
      "execution_count": null,
      "outputs": [
        {
          "output_type": "execute_result",
          "data": {
            "text/plain": [
              "False"
            ]
          },
          "metadata": {},
          "execution_count": 24
        }
      ]
    },
    {
      "cell_type": "code",
      "source": [
        "a = 21\n",
        "b = 10\n",
        "if (a==b):\n",
        "  print(\"a is equal to b\")\n",
        "else:\n",
        "  print(\"a is N-equal to b\")"
      ],
      "metadata": {
        "colab": {
          "base_uri": "https://localhost:8080/"
        },
        "id": "19PvGXfqF_0T",
        "outputId": "f946aad7-95c0-442a-9a1e-7a7acbf4494a"
      },
      "execution_count": null,
      "outputs": [
        {
          "output_type": "stream",
          "name": "stdout",
          "text": [
            "a is N-equal to b\n"
          ]
        }
      ]
    },
    {
      "cell_type": "code",
      "source": [
        "c= a+b\n",
        "print(c)"
      ],
      "metadata": {
        "colab": {
          "base_uri": "https://localhost:8080/"
        },
        "id": "6dcgQa1CJhVT",
        "outputId": "307af378-baa3-4863-8c61-0b759b6a05f0"
      },
      "execution_count": null,
      "outputs": [
        {
          "output_type": "stream",
          "name": "stdout",
          "text": [
            "31\n"
          ]
        }
      ]
    },
    {
      "cell_type": "code",
      "source": [
        "print(\"Twinkle, twinkle, little star, \\n\\tHow I wonder what you are! \\n\\t\\tUp above the world so high, \\n\\t\\tLike a diamond in the sky. \\nTwinkle, twinkle, little star, \\n\\tHow I wonder what you are!\")\n"
      ],
      "metadata": {
        "id": "bOKpUxfjKenE",
        "colab": {
          "base_uri": "https://localhost:8080/"
        },
        "outputId": "dcbad403-977b-4c6b-b2c1-e93f0b25af84"
      },
      "execution_count": null,
      "outputs": [
        {
          "output_type": "stream",
          "name": "stdout",
          "text": [
            "Twinkle, twinkle, little star, \n",
            "\tHow I wonder what you are! \n",
            "\t\tUp above the world so high, \n",
            "\t\tLike a diamond in the sky. \n",
            "Twinkle, twinkle, little star, \n",
            "\tHow I wonder what you are!\n"
          ]
        }
      ]
    },
    {
      "cell_type": "code",
      "source": [
        "#Write a Python program to get the Python version you are using\n",
        "import sys\n",
        "print(\"Python version\")\n",
        "print (sys.version)\n",
        "print(\"Version info.\")\n",
        "print (sys.version_info)\n"
      ],
      "metadata": {
        "colab": {
          "base_uri": "https://localhost:8080/"
        },
        "id": "xfiiUei7Pt6A",
        "outputId": "1de41ed1-98b3-4a81-9e47-c6e28bb2d62e"
      },
      "execution_count": null,
      "outputs": [
        {
          "output_type": "stream",
          "name": "stdout",
          "text": [
            "Python version\n",
            "3.7.12 (default, Sep 10 2021, 00:21:48) \n",
            "[GCC 7.5.0]\n",
            "Version info.\n",
            "sys.version_info(major=3, minor=7, micro=12, releaselevel='final', serial=0)\n"
          ]
        }
      ]
    },
    {
      "cell_type": "code",
      "source": [
        "#  Write a Python program to display the current date and time.\n",
        "import datetime\n",
        "now = datetime.datetime.now()\n",
        "print(\"current date and time: \")\n",
        "print(now)\n",
        "print(now.strftime('%y-%d-%m , %H:%M:%S'))"
      ],
      "metadata": {
        "colab": {
          "base_uri": "https://localhost:8080/"
        },
        "id": "qOed-eKcQC45",
        "outputId": "a93143ad-9156-430f-b6bf-6f4d86877158"
      },
      "execution_count": null,
      "outputs": [
        {
          "output_type": "stream",
          "name": "stdout",
          "text": [
            "current date and time: \n",
            "2022-01-09 09:57:01.193546\n",
            "22-09-01 , 09:57:01\n"
          ]
        }
      ]
    },
    {
      "cell_type": "code",
      "source": [
        "# Write a Python program which accepts the radius of a circle from the user and compute the area\n",
        "from math import pi\n",
        "r = float(input(\"input the radius of circle: \"))\n",
        "print (\"The area of the circle with radius \" + str(r) + \" is: \" + str(pi * r**2))"
      ],
      "metadata": {
        "colab": {
          "base_uri": "https://localhost:8080/"
        },
        "id": "xdtqDxsKRT1v",
        "outputId": "2f03f020-0150-4a94-ffb1-0e0c90e38687"
      },
      "execution_count": null,
      "outputs": [
        {
          "output_type": "stream",
          "name": "stdout",
          "text": [
            "input the radius of circle: 2\n",
            "The area of the circle with radius 2.0 is: 12.566370614359172\n"
          ]
        }
      ]
    },
    {
      "cell_type": "code",
      "source": [
        "#  Write a Python program which accepts the user's first and last name and print them in reverse order with a space between them\n",
        "fname = input(\"Input your First Name : \")\n",
        "lname = input(\"Input your Last Name : \")\n",
        "print (\"Hello  \" + lname + \" \" + fname)"
      ],
      "metadata": {
        "id": "YgB7odlFhpbw",
        "colab": {
          "base_uri": "https://localhost:8080/"
        },
        "outputId": "5a1dadc5-672a-48fc-a4a4-d6a2ef09e717"
      },
      "execution_count": null,
      "outputs": [
        {
          "output_type": "stream",
          "name": "stdout",
          "text": [
            "Input your First Name : jhjjh\n",
            "Input your Last Name : lklkl\n",
            "Hello  lklkl jhjjh\n"
          ]
        }
      ]
    },
    {
      "cell_type": "code",
      "source": [
        "# 6 Write a Python program which accepts a sequence of comma-separated numbers from user and generate a list and a tuple with those numbers.\n",
        "value = input(\"Input some comma seperated number: \")\n",
        "list = value.split(\",\")\n",
        "tuple = tuple(list)\n",
        "print(\"List\", list)\n",
        "print(\"Tuple\", tuple)"
      ],
      "metadata": {
        "id": "c1qUKwtcCTMN",
        "colab": {
          "base_uri": "https://localhost:8080/"
        },
        "outputId": "3e9275cb-235e-4d69-a0d4-417accbe7ef2"
      },
      "execution_count": 2,
      "outputs": [
        {
          "output_type": "stream",
          "name": "stdout",
          "text": [
            "Input some comma seperated number: 4,5,6,7,8,9,\n",
            "List ['4', '5', '6', '7', '8', '9', '']\n",
            "Tuple ('4', '5', '6', '7', '8', '9', '')\n"
          ]
        }
      ]
    },
    {
      "cell_type": "code",
      "source": [
        "# 7 Write a Python program to accept a filename from the user and print the extension of that\n",
        "filename = input(\"Filename\")\n",
        "fextn= filename.split(\".\")\n",
        "print('The filename extension is : ' + repr(fextn[-1]))"
      ],
      "metadata": {
        "id": "H_VHn-2XPYET",
        "colab": {
          "base_uri": "https://localhost:8080/"
        },
        "outputId": "d9cc9fa6-9937-4f0c-f057-be46192e2b5b"
      },
      "execution_count": 4,
      "outputs": [
        {
          "output_type": "stream",
          "name": "stdout",
          "text": [
            "Filenameklm.jpg\n",
            "The filename extension is : 'jpg'\n"
          ]
        }
      ]
    },
    {
      "cell_type": "code",
      "source": [
        "# 8. Write a Python program to display the first and last colors from the following list.\n",
        "color_list = [\"Red\",\"Green\",\"White\" ,\"Black\"]\n",
        "print(\"%s,%s\"%(color_list[0],color_list[-1]))"
      ],
      "metadata": {
        "colab": {
          "base_uri": "https://localhost:8080/"
        },
        "id": "MWwThO6_65MV",
        "outputId": "bcf20918-ff0d-47f7-e759-fbfdbe51c615"
      },
      "execution_count": 5,
      "outputs": [
        {
          "output_type": "stream",
          "name": "stdout",
          "text": [
            "Red,Black\n"
          ]
        }
      ]
    },
    {
      "cell_type": "code",
      "source": [
        "# 9 Write a Python program to display the examination schedule. (extract the date from exam_st_date).\n",
        "exam_st_date = (11, 12, 2014)\n",
        "print(\"the exam will start form : %i / %i / %i\"%exam_st_date)"
      ],
      "metadata": {
        "colab": {
          "base_uri": "https://localhost:8080/"
        },
        "id": "37j_iwyu8UvT",
        "outputId": "2edc2eb8-4c40-4bc4-fd82-df3a8334f40a"
      },
      "execution_count": 6,
      "outputs": [
        {
          "output_type": "stream",
          "name": "stdout",
          "text": [
            "the exam will start form : 11 / 12 / 2014\n"
          ]
        }
      ]
    },
    {
      "cell_type": "code",
      "source": [
        "# 10. Write a Python program that accepts an integer (n) and computes the value of n+nn+nnn\n",
        "a = int(input(\"input an integer : \"))\n",
        "n1 = int(\"%s\"% a)\n",
        "n2 = int(\"%s%s\" % (a,a))\n",
        "n3 = int(\"%s%s%s\" % (a,a,a))\n",
        "print(n1+n2+n3)"
      ],
      "metadata": {
        "colab": {
          "base_uri": "https://localhost:8080/"
        },
        "id": "PD-zL9WZAIf3",
        "outputId": "bf109a2d-4ea1-4e94-a976-fde72c8ee7e5"
      },
      "execution_count": 8,
      "outputs": [
        {
          "output_type": "stream",
          "name": "stdout",
          "text": [
            "input an integer : 1\n",
            "123\n"
          ]
        }
      ]
    },
    {
      "cell_type": "code",
      "source": [
        "# 11. Write a Python program to print the documents (syntax, description etc.) of Python built-in function(s).\n",
        "Sample_function : abs(6)\n",
        "print(abs.__doc__)"
      ],
      "metadata": {
        "colab": {
          "base_uri": "https://localhost:8080/"
        },
        "id": "Y3DD21sUBVxS",
        "outputId": "68aad86f-bb82-4b0e-8179-105acc50bbfb"
      },
      "execution_count": 11,
      "outputs": [
        {
          "output_type": "stream",
          "name": "stdout",
          "text": [
            "Return the absolute value of the argument.\n"
          ]
        }
      ]
    },
    {
      "cell_type": "code",
      "source": [
        ""
      ],
      "metadata": {
        "id": "mO-4gyNTFz3N"
      },
      "execution_count": null,
      "outputs": []
    }
  ]
}