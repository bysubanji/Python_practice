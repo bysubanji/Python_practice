{
  "nbformat": 4,
  "nbformat_minor": 0,
  "metadata": {
    "colab": {
      "name": "Python practice.ipynb",
      "provenance": [],
      "collapsed_sections": [],
      "authorship_tag": "ABX9TyNWRZkAq4ngTIwDee0xOT5W",
      "include_colab_link": true
    },
    "kernelspec": {
      "name": "python3",
      "display_name": "Python 3"
    },
    "language_info": {
      "name": "python"
    }
  },
  "cells": [
    {
      "cell_type": "markdown",
      "metadata": {
        "id": "view-in-github",
        "colab_type": "text"
      },
      "source": [
        "<a href=\"https://colab.research.google.com/github/bysubanji/Python_practice/blob/main/Python_practice.ipynb\" target=\"_parent\"><img src=\"https://colab.research.google.com/assets/colab-badge.svg\" alt=\"Open In Colab\"/></a>"
      ]
    },
    {
      "cell_type": "code",
      "execution_count": null,
      "metadata": {
        "colab": {
          "base_uri": "https://localhost:8080/"
        },
        "id": "PjbWu61nlAWn",
        "outputId": "d68a29c1-0bc5-4132-f100-8bbdec2631af"
      },
      "outputs": [
        {
          "output_type": "stream",
          "name": "stdout",
          "text": [
            "hello, python?\n"
          ]
        }
      ],
      "source": [
        "print(\"hello, python?\")"
      ]
    },
    {
      "cell_type": "code",
      "source": [
        "var1 = 1\n",
        "var2 = 10\n",
        "print (\"var1, var2\")"
      ],
      "metadata": {
        "colab": {
          "base_uri": "https://localhost:8080/"
        },
        "id": "_grITq1Tl1sl",
        "outputId": "3fd3804d-0afb-46a3-fed8-d683c0362824"
      },
      "execution_count": null,
      "outputs": [
        {
          "output_type": "stream",
          "name": "stdout",
          "text": [
            "var1, var2\n"
          ]
        }
      ]
    },
    {
      "cell_type": "code",
      "source": [
        "str = \"hello world\"\n",
        "print(str)\n",
        "print(str[:-4])\n",
        "print(\"str\" + \"fun\") #cncat"
      ],
      "metadata": {
        "colab": {
          "base_uri": "https://localhost:8080/"
        },
        "id": "HF_U7DC4sbWP",
        "outputId": "4df0393e-8f5f-4d90-fa17-533dff9264d7"
      },
      "execution_count": null,
      "outputs": [
        {
          "output_type": "stream",
          "name": "stdout",
          "text": [
            "hello world\n",
            "hello w\n",
            "strfun\n"
          ]
        }
      ]
    },
    {
      "cell_type": "code",
      "source": [
        "dict = {}\n",
        "dict[1] = [\"this is 10\"]\n",
        "dict[2] = [\"this is 2\"]\n",
        "tinydict = {'name': 'Bhaskar' , 'employee':'53', 'dept':'sale'}\n",
        "\n"
      ],
      "metadata": {
        "id": "yG7d2t3VwBuJ"
      },
      "execution_count": null,
      "outputs": []
    },
    {
      "cell_type": "code",
      "source": [
        "print(tinydict)"
      ],
      "metadata": {
        "id": "oo1BQdY-wBkw",
        "colab": {
          "base_uri": "https://localhost:8080/"
        },
        "outputId": "fced4a02-10a3-4624-853e-8fe625cf6713"
      },
      "execution_count": null,
      "outputs": [
        {
          "output_type": "stream",
          "name": "stdout",
          "text": [
            "{'name': 'Bhaskar', 'employee': '53', 'dept': 'sale'}\n"
          ]
        }
      ]
    },
    {
      "cell_type": "code",
      "source": [
        "print(tinydict.keys())"
      ],
      "metadata": {
        "colab": {
          "base_uri": "https://localhost:8080/"
        },
        "id": "XPDeY7gXwTT-",
        "outputId": "632594e8-efb5-49ea-cb39-5d0102101cb9"
      },
      "execution_count": null,
      "outputs": [
        {
          "output_type": "stream",
          "name": "stdout",
          "text": [
            "dict_keys(['name', 'employee', 'dept'])\n"
          ]
        }
      ]
    },
    {
      "cell_type": "code",
      "source": [
        "print(tinydict.values())"
      ],
      "metadata": {
        "colab": {
          "base_uri": "https://localhost:8080/"
        },
        "id": "v1Jhg4RCwXJ0",
        "outputId": "34639030-475a-46aa-bbc4-ecf9da87f1c3"
      },
      "execution_count": null,
      "outputs": [
        {
          "output_type": "stream",
          "name": "stdout",
          "text": [
            "dict_values(['Bhaskar', '53', 'sale'])\n"
          ]
        }
      ]
    },
    {
      "cell_type": "code",
      "source": [
        "print(dict[1])"
      ],
      "metadata": {
        "colab": {
          "base_uri": "https://localhost:8080/"
        },
        "id": "nvnjqrncwbfY",
        "outputId": "df1c320e-543c-49b8-ce72-6668fcf7c820"
      },
      "execution_count": null,
      "outputs": [
        {
          "output_type": "stream",
          "name": "stdout",
          "text": [
            "['this is 10']\n"
          ]
        }
      ]
    },
    {
      "cell_type": "code",
      "source": [
        ""
      ],
      "metadata": {
        "id": "JHnOitnkwhpx"
      },
      "execution_count": null,
      "outputs": []
    },
    {
      "cell_type": "markdown",
      "source": [
        "## Operators"
      ],
      "metadata": {
        "id": "BPH0d4qn9BZn"
      }
    },
    {
      "cell_type": "markdown",
      "source": [
        "Operators are the constructs, which can manipulate the value of operands. Consider the\n",
        "expression 4 + 5 = 9. Here, 4 and 5 are called operands and + is called the operator.\n",
        "\n",
        "\n",
        "Python language supports the following types of operators-\n",
        "\n",
        " Arithmetic Operators\n",
        "\n",
        " Comparison (Relational) Operators\n",
        "\n",
        " Assignment Operators\n",
        "\n",
        " Logical Operators\n",
        "\n",
        " Bitwise Operators\n",
        "\n",
        " Membership Operators\n",
        "\n",
        " Identity Operators"
      ],
      "metadata": {
        "id": "2Fuc0lV186ge"
      }
    },
    {
      "cell_type": "code",
      "source": [
        "a = 2\n",
        "b =34\n",
        "d = 34\n",
        "print(\"value of d is\" ,d)"
      ],
      "metadata": {
        "colab": {
          "base_uri": "https://localhost:8080/"
        },
        "id": "EynXjF23BVpl",
        "outputId": "5156605d-d9ab-4e48-a50a-95c8c59ef53a"
      },
      "execution_count": null,
      "outputs": [
        {
          "output_type": "stream",
          "name": "stdout",
          "text": [
            "value of d is 34\n"
          ]
        }
      ]
    },
    {
      "cell_type": "code",
      "source": [
        "d = a+d\n",
        "print(\"value of d is\" ,d)"
      ],
      "metadata": {
        "colab": {
          "base_uri": "https://localhost:8080/"
        },
        "id": "2_pDotlEBuTH",
        "outputId": "f7635357-1d01-449d-beec-82cd61fccde9"
      },
      "execution_count": null,
      "outputs": [
        {
          "output_type": "stream",
          "name": "stdout",
          "text": [
            "value of d is 36\n"
          ]
        }
      ]
    },
    {
      "cell_type": "code",
      "source": [
        "d = b*a\n",
        "print(\"value of d is\" ,d)"
      ],
      "metadata": {
        "colab": {
          "base_uri": "https://localhost:8080/"
        },
        "id": "7A0eTKScB3pD",
        "outputId": "b3ad9858-cb64-465f-ff56-836ec2284141"
      },
      "execution_count": null,
      "outputs": [
        {
          "output_type": "stream",
          "name": "stdout",
          "text": [
            "value of d is 68\n"
          ]
        }
      ]
    },
    {
      "cell_type": "code",
      "source": [
        "d = b % a\n",
        "print(\"value of d is\" ,d)"
      ],
      "metadata": {
        "colab": {
          "base_uri": "https://localhost:8080/"
        },
        "id": "ZyqUioUhB9xn",
        "outputId": "d4cf05b5-3da3-474f-827d-726e5e458fee"
      },
      "execution_count": null,
      "outputs": [
        {
          "output_type": "stream",
          "name": "stdout",
          "text": [
            "value of d is 0\n"
          ]
        }
      ]
    },
    {
      "cell_type": "code",
      "source": [
        "d = a-b\n",
        "print(\"value of d is\" ,d)"
      ],
      "metadata": {
        "colab": {
          "base_uri": "https://localhost:8080/"
        },
        "id": "mEQT__AxCO79",
        "outputId": "4d6ee992-7069-4548-dda4-9c2fb10e3823"
      },
      "execution_count": null,
      "outputs": [
        {
          "output_type": "stream",
          "name": "stdout",
          "text": [
            "value of d is -32\n"
          ]
        }
      ]
    },
    {
      "cell_type": "code",
      "source": [
        "a=3\n",
        "b=3\n",
        "a==b"
      ],
      "metadata": {
        "colab": {
          "base_uri": "https://localhost:8080/"
        },
        "id": "C8ti43O2CBCu",
        "outputId": "0e47d6ac-78e7-4916-e897-c082b42ec7b7"
      },
      "execution_count": null,
      "outputs": [
        {
          "output_type": "execute_result",
          "data": {
            "text/plain": [
              "True"
            ]
          },
          "metadata": {},
          "execution_count": 18
        }
      ]
    },
    {
      "cell_type": "code",
      "source": [
        "a=4\n",
        "b=5\n",
        "a==b"
      ],
      "metadata": {
        "colab": {
          "base_uri": "https://localhost:8080/"
        },
        "id": "HI4qRtQtFSCf",
        "outputId": "82a2194f-8413-4493-a595-ff653208b32c"
      },
      "execution_count": null,
      "outputs": [
        {
          "output_type": "execute_result",
          "data": {
            "text/plain": [
              "False"
            ]
          },
          "metadata": {},
          "execution_count": 19
        }
      ]
    },
    {
      "cell_type": "code",
      "source": [
        "a=3\n",
        "b=4\n",
        "a!=b"
      ],
      "metadata": {
        "colab": {
          "base_uri": "https://localhost:8080/"
        },
        "id": "GrAG06pAFVi2",
        "outputId": "ef1503ce-7e28-4407-da31-f035844d1bfd"
      },
      "execution_count": null,
      "outputs": [
        {
          "output_type": "execute_result",
          "data": {
            "text/plain": [
              "True"
            ]
          },
          "metadata": {},
          "execution_count": 20
        }
      ]
    },
    {
      "cell_type": "code",
      "source": [
        "a=3\n",
        "b=3\n",
        "a!=b"
      ],
      "metadata": {
        "colab": {
          "base_uri": "https://localhost:8080/"
        },
        "id": "HA86nwlfFc7h",
        "outputId": "ebd3a4d5-e341-4c85-803d-5ddeb93e581b"
      },
      "execution_count": null,
      "outputs": [
        {
          "output_type": "execute_result",
          "data": {
            "text/plain": [
              "False"
            ]
          },
          "metadata": {},
          "execution_count": 21
        }
      ]
    },
    {
      "cell_type": "code",
      "source": [
        "a=3\n",
        "b=4\n",
        "a<=b"
      ],
      "metadata": {
        "colab": {
          "base_uri": "https://localhost:8080/"
        },
        "id": "-LqaJXlrFxng",
        "outputId": "e109572a-f3b9-4d2a-b7c8-75da14415c38"
      },
      "execution_count": null,
      "outputs": [
        {
          "output_type": "execute_result",
          "data": {
            "text/plain": [
              "True"
            ]
          },
          "metadata": {},
          "execution_count": 22
        }
      ]
    },
    {
      "cell_type": "code",
      "source": [
        "a=3\n",
        "b=4\n",
        "a>=b"
      ],
      "metadata": {
        "colab": {
          "base_uri": "https://localhost:8080/"
        },
        "id": "nnq77T-4F6WN",
        "outputId": "725e0f80-8f36-4c3f-9cc0-78e9fc350800"
      },
      "execution_count": null,
      "outputs": [
        {
          "output_type": "execute_result",
          "data": {
            "text/plain": [
              "False"
            ]
          },
          "metadata": {},
          "execution_count": 24
        }
      ]
    },
    {
      "cell_type": "code",
      "source": [
        "a = 21\n",
        "b = 10\n",
        "if (a==b):\n",
        "  print(\"a is equal to b\")\n",
        "else:\n",
        "  print(\"a is N-equal to b\")"
      ],
      "metadata": {
        "colab": {
          "base_uri": "https://localhost:8080/"
        },
        "id": "19PvGXfqF_0T",
        "outputId": "f946aad7-95c0-442a-9a1e-7a7acbf4494a"
      },
      "execution_count": null,
      "outputs": [
        {
          "output_type": "stream",
          "name": "stdout",
          "text": [
            "a is N-equal to b\n"
          ]
        }
      ]
    },
    {
      "cell_type": "code",
      "source": [
        "c= a+b\n",
        "print(c)"
      ],
      "metadata": {
        "colab": {
          "base_uri": "https://localhost:8080/"
        },
        "id": "6dcgQa1CJhVT",
        "outputId": "307af378-baa3-4863-8c61-0b759b6a05f0"
      },
      "execution_count": null,
      "outputs": [
        {
          "output_type": "stream",
          "name": "stdout",
          "text": [
            "31\n"
          ]
        }
      ]
    },
    {
      "cell_type": "code",
      "source": [
        "print(\"Twinkle, twinkle, little star, \\n\\tHow I wonder what you are! \\n\\t\\tUp above the world so high, \\n\\t\\tLike a diamond in the sky. \\nTwinkle, twinkle, little star, \\n\\tHow I wonder what you are!\")\n"
      ],
      "metadata": {
        "id": "bOKpUxfjKenE",
        "colab": {
          "base_uri": "https://localhost:8080/"
        },
        "outputId": "dcbad403-977b-4c6b-b2c1-e93f0b25af84"
      },
      "execution_count": null,
      "outputs": [
        {
          "output_type": "stream",
          "name": "stdout",
          "text": [
            "Twinkle, twinkle, little star, \n",
            "\tHow I wonder what you are! \n",
            "\t\tUp above the world so high, \n",
            "\t\tLike a diamond in the sky. \n",
            "Twinkle, twinkle, little star, \n",
            "\tHow I wonder what you are!\n"
          ]
        }
      ]
    },
    {
      "cell_type": "code",
      "source": [
        "#Write a Python program to get the Python version you are using\n",
        "import sys\n",
        "print(\"Python version\")\n",
        "print (sys.version)\n",
        "print(\"Version info.\")\n",
        "print (sys.version_info)\n"
      ],
      "metadata": {
        "colab": {
          "base_uri": "https://localhost:8080/"
        },
        "id": "xfiiUei7Pt6A",
        "outputId": "1de41ed1-98b3-4a81-9e47-c6e28bb2d62e"
      },
      "execution_count": null,
      "outputs": [
        {
          "output_type": "stream",
          "name": "stdout",
          "text": [
            "Python version\n",
            "3.7.12 (default, Sep 10 2021, 00:21:48) \n",
            "[GCC 7.5.0]\n",
            "Version info.\n",
            "sys.version_info(major=3, minor=7, micro=12, releaselevel='final', serial=0)\n"
          ]
        }
      ]
    },
    {
      "cell_type": "code",
      "source": [
        "#  Write a Python program to display the current date and time.\n",
        "import datetime\n",
        "now = datetime.datetime.now()\n",
        "print(\"current date and time: \")\n",
        "print(now)\n",
        "print(now.strftime('%y-%d-%m , %H:%M:%S'))"
      ],
      "metadata": {
        "colab": {
          "base_uri": "https://localhost:8080/"
        },
        "id": "qOed-eKcQC45",
        "outputId": "a93143ad-9156-430f-b6bf-6f4d86877158"
      },
      "execution_count": null,
      "outputs": [
        {
          "output_type": "stream",
          "name": "stdout",
          "text": [
            "current date and time: \n",
            "2022-01-09 09:57:01.193546\n",
            "22-09-01 , 09:57:01\n"
          ]
        }
      ]
    },
    {
      "cell_type": "code",
      "source": [
        "# Write a Python program which accepts the radius of a circle from the user and compute the area\n",
        "from math import pi\n",
        "r = float(input(\"input the radius of circle: \"))\n",
        "print (\"The area of the circle with radius \" + str(r) + \" is: \" + str(pi * r**2))"
      ],
      "metadata": {
        "colab": {
          "base_uri": "https://localhost:8080/"
        },
        "id": "xdtqDxsKRT1v",
        "outputId": "2f03f020-0150-4a94-ffb1-0e0c90e38687"
      },
      "execution_count": null,
      "outputs": [
        {
          "output_type": "stream",
          "name": "stdout",
          "text": [
            "input the radius of circle: 2\n",
            "The area of the circle with radius 2.0 is: 12.566370614359172\n"
          ]
        }
      ]
    },
    {
      "cell_type": "code",
      "source": [
        "#  Write a Python program which accepts the user's first and last name and print them in reverse order with a space between them\n",
        "fname = input(\"Input your First Name : \")\n",
        "lname = input(\"Input your Last Name : \")\n",
        "print (\"Hello  \" + lname + \" \" + fname)"
      ],
      "metadata": {
        "id": "YgB7odlFhpbw",
        "colab": {
          "base_uri": "https://localhost:8080/"
        },
        "outputId": "5a1dadc5-672a-48fc-a4a4-d6a2ef09e717"
      },
      "execution_count": null,
      "outputs": [
        {
          "output_type": "stream",
          "name": "stdout",
          "text": [
            "Input your First Name : jhjjh\n",
            "Input your Last Name : lklkl\n",
            "Hello  lklkl jhjjh\n"
          ]
        }
      ]
    },
    {
      "cell_type": "code",
      "source": [
        "# 6 Write a Python program which accepts a sequence of comma-separated numbers from user and generate a list and a tuple with those numbers.\n",
        "value = input(\"Input some comma seperated number: \")\n",
        "list = value.split(\",\")\n",
        "tuple = tuple(list)\n",
        "print(\"List\", list)\n",
        "print(\"Tuple\", tuple)"
      ],
      "metadata": {
        "id": "c1qUKwtcCTMN",
        "colab": {
          "base_uri": "https://localhost:8080/"
        },
        "outputId": "3e9275cb-235e-4d69-a0d4-417accbe7ef2"
      },
      "execution_count": null,
      "outputs": [
        {
          "output_type": "stream",
          "name": "stdout",
          "text": [
            "Input some comma seperated number: 4,5,6,7,8,9,\n",
            "List ['4', '5', '6', '7', '8', '9', '']\n",
            "Tuple ('4', '5', '6', '7', '8', '9', '')\n"
          ]
        }
      ]
    },
    {
      "cell_type": "code",
      "source": [
        "# 7 Write a Python program to accept a filename from the user and print the extension of that\n",
        "filename = input(\"Filename\")\n",
        "fextn= filename.split(\".\")\n",
        "print('The filename extension is : ' + repr(fextn[-1]))"
      ],
      "metadata": {
        "id": "H_VHn-2XPYET",
        "colab": {
          "base_uri": "https://localhost:8080/"
        },
        "outputId": "d9cc9fa6-9937-4f0c-f057-be46192e2b5b"
      },
      "execution_count": null,
      "outputs": [
        {
          "output_type": "stream",
          "name": "stdout",
          "text": [
            "Filenameklm.jpg\n",
            "The filename extension is : 'jpg'\n"
          ]
        }
      ]
    },
    {
      "cell_type": "code",
      "source": [
        "# 8. Write a Python program to display the first and last colors from the following list.\n",
        "color_list = [\"Red\",\"Green\",\"White\" ,\"Black\"]\n",
        "print(\"%s,%s\"%(color_list[0],color_list[-1]))"
      ],
      "metadata": {
        "colab": {
          "base_uri": "https://localhost:8080/"
        },
        "id": "MWwThO6_65MV",
        "outputId": "bcf20918-ff0d-47f7-e759-fbfdbe51c615"
      },
      "execution_count": null,
      "outputs": [
        {
          "output_type": "stream",
          "name": "stdout",
          "text": [
            "Red,Black\n"
          ]
        }
      ]
    },
    {
      "cell_type": "code",
      "source": [
        "# 9 Write a Python program to display the examination schedule. (extract the date from exam_st_date).\n",
        "exam_st_date = (11, 12, 2014)\n",
        "print(\"the exam will start form : %i / %i / %i\"%exam_st_date)"
      ],
      "metadata": {
        "colab": {
          "base_uri": "https://localhost:8080/"
        },
        "id": "37j_iwyu8UvT",
        "outputId": "2edc2eb8-4c40-4bc4-fd82-df3a8334f40a"
      },
      "execution_count": null,
      "outputs": [
        {
          "output_type": "stream",
          "name": "stdout",
          "text": [
            "the exam will start form : 11 / 12 / 2014\n"
          ]
        }
      ]
    },
    {
      "cell_type": "code",
      "source": [
        "# 10. Write a Python program that accepts an integer (n) and computes the value of n+nn+nnn\n",
        "a = int(input(\"input an integer : \"))\n",
        "n1 = int(\"%s\"% a)\n",
        "n2 = int(\"%s%s\" % (a,a))\n",
        "n3 = int(\"%s%s%s\" % (a,a,a))\n",
        "print(n1+n2+n3)"
      ],
      "metadata": {
        "colab": {
          "base_uri": "https://localhost:8080/"
        },
        "id": "PD-zL9WZAIf3",
        "outputId": "bf109a2d-4ea1-4e94-a976-fde72c8ee7e5"
      },
      "execution_count": null,
      "outputs": [
        {
          "output_type": "stream",
          "name": "stdout",
          "text": [
            "input an integer : 1\n",
            "123\n"
          ]
        }
      ]
    },
    {
      "cell_type": "code",
      "source": [
        "# 11. Write a Python program to print the documents (syntax, description etc.) of Python built-in function(s).\n",
        "\n",
        "print(abs.__doc__)"
      ],
      "metadata": {
        "colab": {
          "base_uri": "https://localhost:8080/"
        },
        "id": "Y3DD21sUBVxS",
        "outputId": "f892aa82-2c00-476b-ec76-3dada8cb0298"
      },
      "execution_count": null,
      "outputs": [
        {
          "output_type": "stream",
          "name": "stdout",
          "text": [
            "Return the absolute value of the argument.\n"
          ]
        }
      ]
    },
    {
      "cell_type": "code",
      "source": [
        "#12. Write a Python program to print the calendar of a given month and year.\n",
        "import calendar\n",
        "y = int(input(\"Input the year : \"))\n",
        "x = int(input(\"input the month: \"))\n",
        "print(calendar.month(y,x))\n"
      ],
      "metadata": {
        "colab": {
          "base_uri": "https://localhost:8080/"
        },
        "id": "mO-4gyNTFz3N",
        "outputId": "ada63e7a-cead-4edd-8214-12ee35a56398"
      },
      "execution_count": null,
      "outputs": [
        {
          "output_type": "stream",
          "name": "stdout",
          "text": [
            "Input the year : 1993\n",
            "input the month: 06\n",
            "     June 1993\n",
            "Mo Tu We Th Fr Sa Su\n",
            "    1  2  3  4  5  6\n",
            " 7  8  9 10 11 12 13\n",
            "14 15 16 17 18 19 20\n",
            "21 22 23 24 25 26 27\n",
            "28 29 30\n",
            "\n"
          ]
        }
      ]
    },
    {
      "cell_type": "code",
      "source": [
        "print(\"\"\"\n",
        "a string that you \"don't\" have to escape\n",
        "This\n",
        "is a  ....... multi-line\n",
        "heredoc string --------> example\n",
        "\"\"\")"
      ],
      "metadata": {
        "colab": {
          "base_uri": "https://localhost:8080/"
        },
        "id": "jVUxcP7VU2mB",
        "outputId": "2e6939ed-44d1-4487-dbd1-cf7d44f22d0d"
      },
      "execution_count": null,
      "outputs": [
        {
          "output_type": "stream",
          "name": "stdout",
          "text": [
            "\n",
            "a string that you \"don't\" have to escape\n",
            "This\n",
            "is a  ....... multi-line\n",
            "heredoc string --------> example\n",
            "\n"
          ]
        }
      ]
    },
    {
      "cell_type": "code",
      "source": [
        "# 14. Write a Python program to calculate number of days between two dates.\n",
        "from datetime import date\n",
        "f_date = date(2014, 7, 2)\n",
        "l_date = date(2014, 7, 11)\n",
        "delta = l_date - f_date\n",
        "print(delta.days)"
      ],
      "metadata": {
        "colab": {
          "base_uri": "https://localhost:8080/"
        },
        "id": "pnS_Yq1hVkg7",
        "outputId": "2504b121-6b57-416b-824a-9aac7a89ab41"
      },
      "execution_count": null,
      "outputs": [
        {
          "output_type": "stream",
          "name": "stdout",
          "text": [
            "9\n"
          ]
        }
      ]
    },
    {
      "cell_type": "code",
      "source": [
        "# 15. Write a Python program to get the volume of a sphere with radius 6.\n",
        "pi = 3.1415926535897931\n",
        "r= 6.0\n",
        "V= 4.0/3.0*pi* r**3\n",
        "print('The volume of the sphere is: ',V)"
      ],
      "metadata": {
        "colab": {
          "base_uri": "https://localhost:8080/"
        },
        "id": "H7R8WDwtWT8l",
        "outputId": "2ad4ce4e-7e9b-4c4f-9617-eb01ab0c47ff"
      },
      "execution_count": null,
      "outputs": [
        {
          "output_type": "stream",
          "name": "stdout",
          "text": [
            "The volume of the sphere is:  904.7786842338603\n"
          ]
        }
      ]
    },
    {
      "cell_type": "code",
      "source": [
        "# 16. Write a Python program to get the difference between a given number and 17, if the number is greater than 17 return double the absolute difference\n",
        "def difference(n):\n",
        "  if n<= 17:\n",
        "    return 17-n\n",
        "  else:\n",
        "    return (n-17)*2\n",
        "\n",
        "print(difference(22))\n",
        "print(difference(14))\n",
        "\n"
      ],
      "metadata": {
        "colab": {
          "base_uri": "https://localhost:8080/"
        },
        "id": "2THRyNsSXcoc",
        "outputId": "fcf28665-e34e-4cdd-be2e-17d4c2844aa2"
      },
      "execution_count": null,
      "outputs": [
        {
          "output_type": "stream",
          "name": "stdout",
          "text": [
            "10\n",
            "3\n"
          ]
        }
      ]
    },
    {
      "cell_type": "code",
      "source": [
        "# Write a Python program to test whether a number is within 100 of 1000 or 2000\n",
        "def near_thousand(n):\n",
        "      return ((abs(1000 - n) <= 100) or (abs(2000 - n) <= 100))\n",
        "print(near_thousand(1000))\n",
        "print(near_thousand(900))\n",
        "print(near_thousand(800))   \n",
        "print(near_thousand(2200))"
      ],
      "metadata": {
        "colab": {
          "base_uri": "https://localhost:8080/"
        },
        "id": "fpPxo_P3aqBv",
        "outputId": "95571b38-39f7-42a4-8c15-d81903e51f02"
      },
      "execution_count": null,
      "outputs": [
        {
          "output_type": "stream",
          "name": "stdout",
          "text": [
            "True\n",
            "True\n",
            "False\n",
            "False\n"
          ]
        }
      ]
    },
    {
      "cell_type": "code",
      "source": [
        "# 18. Write a Python program to calculate the sum of three given numbers, if the values are equal then return three times of their sum\n",
        "def sum_thrice (x,y,z):\n",
        "    sum = x+y+z\n",
        "    if x==y==z:\n",
        "      sum = sum*3\n",
        "      return sum\n",
        "\n",
        "print(sum_thrice(1, 2, 3))\n",
        "print(sum_thrice(3, 3, 3))\n",
        "\n",
        "  \n"
      ],
      "metadata": {
        "id": "FLREaXJXIvsX",
        "colab": {
          "base_uri": "https://localhost:8080/"
        },
        "outputId": "be7ba6cb-92dc-45fc-d976-f6509e8bb095"
      },
      "execution_count": null,
      "outputs": [
        {
          "output_type": "stream",
          "name": "stdout",
          "text": [
            "None\n",
            "27\n"
          ]
        }
      ]
    },
    {
      "cell_type": "code",
      "source": [
        "# . Write a Python program to get a new string from a given string where \"Is\" has been added to the front. If the given string already begins with \"Is\" then return the string unchanged.\n",
        "def new_string(str):\n",
        "  if len(str) >= 2 and str[:2] == \"Is\":\n",
        "    return str\n",
        "  return \"Is\" + str\n",
        "\n",
        "print(new_string(\"Array\"))\n",
        "print(new_string(\"IsEmpty\"))"
      ],
      "metadata": {
        "colab": {
          "base_uri": "https://localhost:8080/"
        },
        "id": "2rgAljpeeYy-",
        "outputId": "dd0ff29f-e281-44e3-9f8f-4670ff39b4e6"
      },
      "execution_count": null,
      "outputs": [
        {
          "output_type": "stream",
          "name": "stdout",
          "text": [
            "IsArray\n",
            "IsEmpty\n"
          ]
        }
      ]
    },
    {
      "cell_type": "code",
      "source": [
        "# 20. Write a Python program to get a string which is n (non-negative integer) copies of a given string\n",
        "def larger_string(str, n):\n",
        "   result = \"\"\n",
        "   for i in range(n):\n",
        "      result = result + str\n",
        "   return result\n",
        "\n",
        "print(larger_string('abc', 2))\n",
        "print(larger_string('.py', 8))"
      ],
      "metadata": {
        "colab": {
          "base_uri": "https://localhost:8080/"
        },
        "id": "L00rKgZDfPRM",
        "outputId": "a52088aa-20f6-45f8-bcd4-beb92b46db3e"
      },
      "execution_count": null,
      "outputs": [
        {
          "output_type": "stream",
          "name": "stdout",
          "text": [
            "abcabc\n",
            ".py.py.py.py.py.py.py.py\n"
          ]
        }
      ]
    },
    {
      "cell_type": "code",
      "source": [
        "#  Write a Python program to find whether a given number (accept from the user) is even or odd, print out an appropriate message to the user\n",
        "\n",
        "num = int(input(\"Enter a Numbr: \"))\n",
        "mod = num % 2\n",
        "if mod >0:\n",
        "  print(\"this is an ODd number \")\n",
        "else :\n",
        "  print(\"this is an Even number \")\n"
      ],
      "metadata": {
        "colab": {
          "base_uri": "https://localhost:8080/"
        },
        "id": "dNOuiv1Z0Cn_",
        "outputId": "75d46187-3c3e-4333-a676-d1315ee266bc"
      },
      "execution_count": null,
      "outputs": [
        {
          "output_type": "stream",
          "name": "stdout",
          "text": [
            "Enter a Numbr: 5\n",
            "this is an ODd number \n"
          ]
        }
      ]
    },
    {
      "cell_type": "code",
      "source": [
        "#  Write a Python program to count the number 4 in a given list.\n",
        "def list_count_4(nums):\n",
        "  count = 0\n",
        "  for num in nums:\n",
        "    if num == 4:\n",
        "      count= count + 1\n",
        "  return count\n",
        "\n",
        "print(list_count_4([1, 3, 6, 7, 5,4,4,4,4,4,4,4,4,4,4,4,4,4,4,4,4,4,]))\n",
        "print(list_count_4([1, 4, 6, 4, 7, 4]))"
      ],
      "metadata": {
        "colab": {
          "base_uri": "https://localhost:8080/"
        },
        "id": "kwEYK4q-0_Fz",
        "outputId": "95e22c31-abc9-4de8-e6ca-d3859d4df1fc"
      },
      "execution_count": null,
      "outputs": [
        {
          "output_type": "stream",
          "name": "stdout",
          "text": [
            "17\n",
            "3\n"
          ]
        }
      ]
    },
    {
      "cell_type": "code",
      "source": [
        "# Write a Python program to get the n (non-negative integer) copies of the first 2 characters of a given string. Return the n copies of the whole string if the length is less than 2.\n",
        "\n",
        "def substring_copy(str, n):\n",
        "  flen = 2\n",
        "  if flen > len(str):\n",
        "    flen = len(str)\n",
        "  substr = str[:flen]\n",
        "  \n",
        "  result = \"\"\n",
        "  for i in range(n):\n",
        "    result = result + substr\n",
        "  return result\n",
        "print(substring_copy('abcdef', 2))\n",
        "print(substring_copy('p', 3));"
      ],
      "metadata": {
        "id": "PEaU3Zcg_qUh",
        "colab": {
          "base_uri": "https://localhost:8080/"
        },
        "outputId": "1f1b1094-b1e1-46a4-c079-ca2f0a8e3b48"
      },
      "execution_count": null,
      "outputs": [
        {
          "output_type": "stream",
          "name": "stdout",
          "text": [
            "abab\n",
            "ppp\n"
          ]
        }
      ]
    },
    {
      "cell_type": "code",
      "source": [
        "# min()\n",
        "#min() function returns the minimum element of the list\n",
        "#min() function only works with lists of similar data types\n",
        "\n",
        "new_list = [6, 9, 1, 3, 5.5]\n",
        "min(new_list)"
      ],
      "metadata": {
        "id": "1JFvz1b9L4jx",
        "colab": {
          "base_uri": "https://localhost:8080/"
        },
        "outputId": "cac6e726-53d9-481b-c99b-a48416329f11"
      },
      "execution_count": null,
      "outputs": [
        {
          "output_type": "execute_result",
          "data": {
            "text/plain": [
              "1"
            ]
          },
          "metadata": {},
          "execution_count": 1
        }
      ]
    },
    {
      "cell_type": "code",
      "source": [
        "my_new_list = ['a','b', 'z' ,'y' , 'm']"
      ],
      "metadata": {
        "id": "BMWpIiomkJ7H"
      },
      "execution_count": null,
      "outputs": []
    },
    {
      "cell_type": "code",
      "source": [
        "min(my_new_list)"
      ],
      "metadata": {
        "colab": {
          "base_uri": "https://localhost:8080/",
          "height": 35
        },
        "id": "OnY0ebdXkLBz",
        "outputId": "dd2c55bc-0a34-49c9-abc9-09d5f0319c55"
      },
      "execution_count": null,
      "outputs": [
        {
          "output_type": "execute_result",
          "data": {
            "application/vnd.google.colaboratory.intrinsic+json": {
              "type": "string"
            },
            "text/plain": [
              "'a'"
            ]
          },
          "metadata": {},
          "execution_count": 3
        }
      ]
    },
    {
      "cell_type": "code",
      "source": [
        "# max()\n",
        "#max() function returns the maximum element of the list\n",
        "#max() function only works with lists of similar data types"
      ],
      "metadata": {
        "id": "RbIbPbwZkQoq"
      },
      "execution_count": null,
      "outputs": []
    },
    {
      "cell_type": "code",
      "source": [
        "new_list = ['Argue','Burglar','Parent','Linear','shape']"
      ],
      "metadata": {
        "id": "PsDeq6AzkUAI"
      },
      "execution_count": null,
      "outputs": []
    },
    {
      "cell_type": "code",
      "source": [
        "max(new_list)"
      ],
      "metadata": {
        "colab": {
          "base_uri": "https://localhost:8080/",
          "height": 35
        },
        "id": "OUmf2j07kX34",
        "outputId": "4d30524a-e4d4-4024-b0e1-a64ee3c61995"
      },
      "execution_count": null,
      "outputs": [
        {
          "output_type": "execute_result",
          "data": {
            "application/vnd.google.colaboratory.intrinsic+json": {
              "type": "string"
            },
            "text/plain": [
              "'shape'"
            ]
          },
          "metadata": {},
          "execution_count": 5
        }
      ]
    },
    {
      "cell_type": "code",
      "source": [
        "# sum()\n",
        "#sum() function returns the sum of the elements of the list\n",
        "#sum() function only works with lists of numeric data types"
      ],
      "metadata": {
        "id": "K0TVdvzDkgqG"
      },
      "execution_count": null,
      "outputs": []
    },
    {
      "cell_type": "code",
      "source": [
        "new_list = [6, 9, 1, 3, 5.5]\n",
        "sum(new_list)"
      ],
      "metadata": {
        "colab": {
          "base_uri": "https://localhost:8080/"
        },
        "id": "UVPbF_wcki0u",
        "outputId": "774887fe-8c28-466d-d32c-8f6807210946"
      },
      "execution_count": null,
      "outputs": [
        {
          "output_type": "execute_result",
          "data": {
            "text/plain": [
              "24.5"
            ]
          },
          "metadata": {},
          "execution_count": 6
        }
      ]
    },
    {
      "cell_type": "code",
      "source": [
        "# sorted()\n",
        "#sorted() function returns the sorted list\n",
        "#sorted() function takes reverse boolean as an argument\n",
        "#sorted() function only works on a list with similar data types"
      ],
      "metadata": {
        "id": "ZL-nveTCksDU"
      },
      "execution_count": null,
      "outputs": []
    },
    {
      "cell_type": "code",
      "source": [
        "new_list"
      ],
      "metadata": {
        "colab": {
          "base_uri": "https://localhost:8080/"
        },
        "id": "lCauvv5Zkv0a",
        "outputId": "6b688e7e-b9db-43f5-a940-b559887d67e3"
      },
      "execution_count": null,
      "outputs": [
        {
          "output_type": "execute_result",
          "data": {
            "text/plain": [
              "[6, 9, 1, 3, 5.5]"
            ]
          },
          "metadata": {},
          "execution_count": 7
        }
      ]
    },
    {
      "cell_type": "code",
      "source": [
        "sorted(new_list)"
      ],
      "metadata": {
        "colab": {
          "base_uri": "https://localhost:8080/"
        },
        "id": "ol5fCTGUk-Xr",
        "outputId": "159f2cce-fddb-45e9-fb7e-3b10f18fdc55"
      },
      "execution_count": null,
      "outputs": [
        {
          "output_type": "execute_result",
          "data": {
            "text/plain": [
              "[1, 3, 5.5, 6, 9]"
            ]
          },
          "metadata": {},
          "execution_count": 8
        }
      ]
    },
    {
      "cell_type": "code",
      "source": [
        "print(new_list)"
      ],
      "metadata": {
        "colab": {
          "base_uri": "https://localhost:8080/"
        },
        "id": "ZgbW8HvdlAxg",
        "outputId": "09b949fd-a45c-4b1f-fa07-d7d7e4ba6319"
      },
      "execution_count": null,
      "outputs": [
        {
          "output_type": "stream",
          "name": "stdout",
          "text": [
            "[6, 9, 1, 3, 5.5]\n"
          ]
        }
      ]
    },
    {
      "cell_type": "code",
      "source": [
        "sorted(new_list,reverse=True)"
      ],
      "metadata": {
        "colab": {
          "base_uri": "https://localhost:8080/"
        },
        "id": "vyssufIWlK55",
        "outputId": "aa0feff4-442b-4cf4-f9de-b9476bc2845d"
      },
      "execution_count": null,
      "outputs": [
        {
          "output_type": "execute_result",
          "data": {
            "text/plain": [
              "[9, 6, 5.5, 3, 1]"
            ]
          },
          "metadata": {},
          "execution_count": 10
        }
      ]
    },
    {
      "cell_type": "markdown",
      "source": [
        "### List Methods"
      ],
      "metadata": {
        "id": "6vEFcyOplqzY"
      }
    },
    {
      "cell_type": "code",
      "source": [
        "# Create a new list\n",
        "my_list = [1,2,3,1,1,1,3,10,5,8]"
      ],
      "metadata": {
        "id": "m5PqVJQElN49"
      },
      "execution_count": null,
      "outputs": []
    },
    {
      "cell_type": "code",
      "source": [
        "# #append()\n",
        "# Use the append() method to permanently add an item to the end of a list.\n",
        "# append() method takes the element which you want to add to the list as an argument"
      ],
      "metadata": {
        "id": "Ez-S3yhslwO_"
      },
      "execution_count": null,
      "outputs": []
    },
    {
      "cell_type": "code",
      "source": [
        "# Print the list\n",
        "my_list"
      ],
      "metadata": {
        "colab": {
          "base_uri": "https://localhost:8080/"
        },
        "id": "vozfb2BHl4d8",
        "outputId": "9089bfad-f89f-4909-87ac-85e2e0afec78"
      },
      "execution_count": null,
      "outputs": [
        {
          "output_type": "execute_result",
          "data": {
            "text/plain": [
              "[1, 2, 3, 1, 1, 1, 3, 10, 5, 8]"
            ]
          },
          "metadata": {},
          "execution_count": 12
        }
      ]
    },
    {
      "cell_type": "code",
      "source": [
        "# Append to the end of the list\n",
        "my_list.append('hit u')"
      ],
      "metadata": {
        "id": "_SHS5gs8l_tN"
      },
      "execution_count": null,
      "outputs": []
    },
    {
      "cell_type": "code",
      "source": [
        "print(my_list)                           #the append() method changes your original list!"
      ],
      "metadata": {
        "colab": {
          "base_uri": "https://localhost:8080/"
        },
        "id": "QGE214fMmN97",
        "outputId": "a1b59053-1866-45ba-b71e-bd00f384580c"
      },
      "execution_count": null,
      "outputs": [
        {
          "output_type": "stream",
          "name": "stdout",
          "text": [
            "[1, 2, 3, 1, 1, 1, 3, 10, 5, 8, 'hit u']\n"
          ]
        }
      ]
    },
    {
      "cell_type": "code",
      "source": [
        "my_list.append([1,2,3])"
      ],
      "metadata": {
        "id": "POZN0p4dmYKR"
      },
      "execution_count": null,
      "outputs": []
    },
    {
      "cell_type": "code",
      "source": [
        "print(my_list) "
      ],
      "metadata": {
        "colab": {
          "base_uri": "https://localhost:8080/"
        },
        "id": "D3XIklAKmhOc",
        "outputId": "70c553df-6c83-4698-b880-7a34585b591b"
      },
      "execution_count": null,
      "outputs": [
        {
          "output_type": "stream",
          "name": "stdout",
          "text": [
            "[1, 2, 3, 1, 1, 1, 3, 10, 5, 8, 'hit u', [1, 2, 3]]\n"
          ]
        }
      ]
    },
    {
      "cell_type": "code",
      "source": [
        "# extend()\n",
        "## Use the extend() method to merge a list to an existing list\n",
        "## extend() method takes a list or any iterable(don't worry about it now) as an argument.\n",
        "## Quite helpful when you have two or more lists and you want to merge them together"
      ],
      "metadata": {
        "id": "qjYs3PORomGk"
      },
      "execution_count": null,
      "outputs": []
    },
    {
      "cell_type": "code",
      "source": [
        "print(my_list)"
      ],
      "metadata": {
        "colab": {
          "base_uri": "https://localhost:8080/"
        },
        "id": "eeX9bvXiorGz",
        "outputId": "1f800be2-ab4b-4489-be8c-c2f6b90df9a0"
      },
      "execution_count": null,
      "outputs": [
        {
          "output_type": "stream",
          "name": "stdout",
          "text": [
            "[1, 2, 3, 1, 1, 1, 3, 10, 5, 8, 'hit u', [1, 2, 3]]\n"
          ]
        }
      ]
    },
    {
      "cell_type": "code",
      "source": [
        "my_list.extend(['Wubba','Lubba','Dub Dub'])"
      ],
      "metadata": {
        "id": "S4ZVeoQuoyT9"
      },
      "execution_count": null,
      "outputs": []
    },
    {
      "cell_type": "code",
      "source": [
        "print(my_list)"
      ],
      "metadata": {
        "colab": {
          "base_uri": "https://localhost:8080/"
        },
        "id": "TD0ZDyTTrTLs",
        "outputId": "ae00902d-781b-44cd-e994-9709714a2e9b"
      },
      "execution_count": null,
      "outputs": [
        {
          "output_type": "stream",
          "name": "stdout",
          "text": [
            "[1, 2, 3, 1, 1, 1, 3, 10, 5, 8, 'hit u', [1, 2, 3], 'Wubba', 'Lubba', 'Dub Dub', 'Wubba', 'Lubba', 'Dub Dub']\n"
          ]
        }
      ]
    },
    {
      "cell_type": "code",
      "source": [
        ""
      ],
      "metadata": {
        "id": "WS1UVqs1rXaQ"
      },
      "execution_count": null,
      "outputs": []
    },
    {
      "cell_type": "code",
      "source": [
        "# pop()\n",
        "# Use pop() to \"pop off\" an item from the list.\n",
        "# By default pop() takes off the element at the last index, but you can also specify which index to pop off.\n",
        "# pop() takes the index as an argument and returns the elenent which was popped off."
      ],
      "metadata": {
        "id": "VkDgT_HdrXR8"
      },
      "execution_count": null,
      "outputs": []
    },
    {
      "cell_type": "code",
      "source": [
        "# Print the list\n",
        "print(my_list)"
      ],
      "metadata": {
        "colab": {
          "base_uri": "https://localhost:8080/"
        },
        "id": "-0IqFjwTrcch",
        "outputId": "6d8ed0f5-ed66-42fd-b18a-51a28d886ecd"
      },
      "execution_count": null,
      "outputs": [
        {
          "output_type": "stream",
          "name": "stdout",
          "text": [
            "[1, 2, 3, 1, 1, 1, 3, 10, 5, 8, 'hit u', [1, 2, 3], 'Wubba', 'Lubba', 'Dub Dub', 'Wubba', 'Lubba', 'Dub Dub']\n"
          ]
        }
      ]
    },
    {
      "cell_type": "code",
      "source": [
        "my_list.pop(2)"
      ],
      "metadata": {
        "colab": {
          "base_uri": "https://localhost:8080/"
        },
        "id": "SYLLQg8BuTmM",
        "outputId": "f7ba03c3-dcd3-45c9-ee70-25fe1fbf5404"
      },
      "execution_count": null,
      "outputs": [
        {
          "output_type": "execute_result",
          "data": {
            "text/plain": [
              "3"
            ]
          },
          "metadata": {},
          "execution_count": 24
        }
      ]
    },
    {
      "cell_type": "code",
      "source": [
        "print(my_list) #pop() method changes the list by popping off the element at the specified index"
      ],
      "metadata": {
        "colab": {
          "base_uri": "https://localhost:8080/"
        },
        "id": "rE9xWPZDubFP",
        "outputId": "85f35a83-ec02-4762-f3fc-1d7338d7de64"
      },
      "execution_count": null,
      "outputs": [
        {
          "output_type": "stream",
          "name": "stdout",
          "text": [
            "[1, 2, 1, 1, 1, 3, 10, 5, 8, 'hit u', [1, 2, 3], 'Wubba', 'Lubba', 'Dub Dub', 'Wubba', 'Lubba', 'Dub Dub']\n"
          ]
        }
      ]
    },
    {
      "cell_type": "code",
      "source": [
        ""
      ],
      "metadata": {
        "id": "Q-CL1F07uovj"
      },
      "execution_count": null,
      "outputs": []
    },
    {
      "cell_type": "code",
      "source": [
        "# Use remove() to remove an item/element from the list.\n",
        "# By default remove() removes the specified element from the list.\n",
        "# remove() takes the element as an argument.\n",
        "# "
      ],
      "metadata": {
        "id": "6EGTwNMsuwcE"
      },
      "execution_count": null,
      "outputs": []
    },
    {
      "cell_type": "code",
      "source": [
        "# Print the list\n",
        "print(my_list)"
      ],
      "metadata": {
        "colab": {
          "base_uri": "https://localhost:8080/"
        },
        "id": "6MBSMtZ4u1Wv",
        "outputId": "e86531f2-bce5-4b3e-adab-f470a37d56e6"
      },
      "execution_count": null,
      "outputs": [
        {
          "output_type": "stream",
          "name": "stdout",
          "text": [
            "[1, 2, 1, 1, 1, 3, 10, 5, 8, 'hit u', [1, 2, 3], 'Wubba', 'Lubba', 'Dub Dub', 'Wubba', 'Lubba', 'Dub Dub']\n"
          ]
        }
      ]
    },
    {
      "cell_type": "code",
      "source": [
        "# Remove the element which you want to \n",
        "my_list.remove('Wubba')"
      ],
      "metadata": {
        "id": "xmci-YTvu_O0"
      },
      "execution_count": null,
      "outputs": []
    },
    {
      "cell_type": "code",
      "source": [
        "print(my_list)"
      ],
      "metadata": {
        "colab": {
          "base_uri": "https://localhost:8080/"
        },
        "id": "nVqFv2m9vRFz",
        "outputId": "e94b29fd-682b-48b1-efdb-13bd867e8a40"
      },
      "execution_count": null,
      "outputs": [
        {
          "output_type": "stream",
          "name": "stdout",
          "text": [
            "[1, 1, 1, 1, 3, 10, 5, 8, 'hit u', [1, 2, 3], 'Lubba', 'Dub Dub', 'Wubba', 'Lubba', 'Dub Dub']\n"
          ]
        }
      ]
    },
    {
      "cell_type": "code",
      "source": [
        "#count()\n",
        "#The count() method returns the total occurrence of a specified element in the list\n",
        "\n",
        "my_list.count('Wubba')"
      ],
      "metadata": {
        "colab": {
          "base_uri": "https://localhost:8080/"
        },
        "id": "7NK9K8MLw41o",
        "outputId": "4174a81f-318e-4f66-b3bd-97014e0476c8"
      },
      "execution_count": null,
      "outputs": [
        {
          "output_type": "execute_result",
          "data": {
            "text/plain": [
              "1"
            ]
          },
          "metadata": {},
          "execution_count": 35
        }
      ]
    },
    {
      "cell_type": "code",
      "source": [
        "#index()\n",
        "#The index() method returns the index of a specified element.\n",
        "\n",
        "my_list.index('Wubba')"
      ],
      "metadata": {
        "colab": {
          "base_uri": "https://localhost:8080/"
        },
        "id": "hA6NAxw2xCOh",
        "outputId": "9042c745-78e8-4b4b-999e-a4bc2a13295a"
      },
      "execution_count": null,
      "outputs": [
        {
          "output_type": "execute_result",
          "data": {
            "text/plain": [
              "12"
            ]
          },
          "metadata": {},
          "execution_count": 36
        }
      ]
    },
    {
      "cell_type": "code",
      "source": [
        ""
      ],
      "metadata": {
        "id": "HqiVwM0kxLuW"
      },
      "execution_count": null,
      "outputs": []
    },
    {
      "cell_type": "markdown",
      "source": [
        "sort()\n",
        "Use sort() to sort the list in either ascending/descending order\n",
        "The sorting is done in ascending order by default\n",
        "sort() method takes the reverse boolean as an argument\n",
        "sort() method only works on a list with elements of same data type"
      ],
      "metadata": {
        "id": "V5Gi0GbXxMhn"
      }
    },
    {
      "cell_type": "code",
      "source": [
        "new_list = [6, 9, 1, 3, 5]"
      ],
      "metadata": {
        "id": "lPGYxDcexLqF"
      },
      "execution_count": null,
      "outputs": []
    },
    {
      "cell_type": "code",
      "source": [
        "# Use sort to sort the list (this is permanent!)\n",
        "new_list.sort()"
      ],
      "metadata": {
        "id": "zDZ746LNxZEh"
      },
      "execution_count": null,
      "outputs": []
    },
    {
      "cell_type": "code",
      "source": [
        "print(new_list)"
      ],
      "metadata": {
        "colab": {
          "base_uri": "https://localhost:8080/"
        },
        "id": "OZSTsWDjxZpN",
        "outputId": "3313c8df-7a5f-4e21-d961-bc139c645ca8"
      },
      "execution_count": null,
      "outputs": [
        {
          "output_type": "stream",
          "name": "stdout",
          "text": [
            "[1, 3, 5, 6, 9]\n"
          ]
        }
      ]
    },
    {
      "cell_type": "code",
      "source": [
        "# Use the reverse boolean to set the ascending or descending order\n",
        "new_list.sort(reverse=True)\n",
        "print(new_list)"
      ],
      "metadata": {
        "colab": {
          "base_uri": "https://localhost:8080/"
        },
        "id": "sOb8-s_Zxm_g",
        "outputId": "43921d58-6371-4a02-f69e-156f6bed66bb"
      },
      "execution_count": null,
      "outputs": [
        {
          "output_type": "stream",
          "name": "stdout",
          "text": [
            "[9, 6, 5, 3, 1]\n"
          ]
        }
      ]
    },
    {
      "cell_type": "code",
      "source": [
        "boolean_list = [True, False]"
      ],
      "metadata": {
        "id": "qWgFBrw1x0uI"
      },
      "execution_count": null,
      "outputs": []
    },
    {
      "cell_type": "code",
      "source": [
        "boolean_list.sort(reverse=True)"
      ],
      "metadata": {
        "id": "YkNYivKlx1Vo"
      },
      "execution_count": null,
      "outputs": []
    },
    {
      "cell_type": "code",
      "source": [
        "print(boolean_list)"
      ],
      "metadata": {
        "colab": {
          "base_uri": "https://localhost:8080/"
        },
        "id": "HGokrSV-x3ml",
        "outputId": "0ad3a354-eddb-4b8d-b861-c8698ced4529"
      },
      "execution_count": null,
      "outputs": [
        {
          "output_type": "stream",
          "name": "stdout",
          "text": [
            "[True, False]\n"
          ]
        }
      ]
    },
    {
      "cell_type": "code",
      "source": [
        ""
      ],
      "metadata": {
        "id": "ddV1K2uDxm8g"
      },
      "execution_count": null,
      "outputs": []
    },
    {
      "cell_type": "code",
      "source": [
        "# reverse()\n",
        "# reverse() method reverses the list \n",
        "\n",
        "my_list.reverse()"
      ],
      "metadata": {
        "id": "9HDFa8CLyAvi"
      },
      "execution_count": null,
      "outputs": []
    },
    {
      "cell_type": "code",
      "source": [
        "print(my_list)"
      ],
      "metadata": {
        "colab": {
          "base_uri": "https://localhost:8080/"
        },
        "id": "STl2J-hkyI6s",
        "outputId": "4a4cffbe-709d-4edc-c719-d92d50976dd9"
      },
      "execution_count": null,
      "outputs": [
        {
          "output_type": "stream",
          "name": "stdout",
          "text": [
            "['Dub Dub', 'Lubba', 'Wubba', 'Dub Dub', 'Lubba', [1, 2, 3], 'hit u', 8, 5, 10, 3, 1, 1, 1, 1]\n"
          ]
        }
      ]
    },
    {
      "cell_type": "markdown",
      "source": [
        "Nested Lists\n",
        "\n",
        "A great feature of of Python data structures is that they support nesting. This means we can have data structures within data structures. For example: A list inside a list."
      ],
      "metadata": {
        "id": "4MLB9fhXyN54"
      }
    },
    {
      "cell_type": "code",
      "source": [
        "# Let's make three lists\n",
        "lst_1=[1,2,3]\n",
        "lst_2=['b','a','d']\n",
        "lst_3=[7,8,9]\n",
        "\n",
        "# Make a list of lists to form a matrix\n",
        "list_of_lists = [lst_1,lst_2,lst_3]"
      ],
      "metadata": {
        "id": "Quq6iC75yKj5"
      },
      "execution_count": null,
      "outputs": []
    },
    {
      "cell_type": "code",
      "source": [
        "print(list_of_lists)"
      ],
      "metadata": {
        "colab": {
          "base_uri": "https://localhost:8080/"
        },
        "id": "y0KS_83hyNiV",
        "outputId": "26a30f5f-b7cd-4bf0-8f39-d6ae4dae4be1"
      },
      "execution_count": null,
      "outputs": [
        {
          "output_type": "stream",
          "name": "stdout",
          "text": [
            "[[1, 2, 3], ['b', 'a', 'd'], [7, 8, 9]]\n"
          ]
        }
      ]
    },
    {
      "cell_type": "code",
      "source": [
        "list_of_lists[1]   # Grab first item in matrix object    #  You can't =  list_of_lists[1][1][][][] "
      ],
      "metadata": {
        "colab": {
          "base_uri": "https://localhost:8080/"
        },
        "id": "2ty4eGGiyrzp",
        "outputId": "8ccdd085-7dc9-4cca-bc73-5a5a8fcb818d"
      },
      "execution_count": null,
      "outputs": [
        {
          "output_type": "execute_result",
          "data": {
            "text/plain": [
              "['b', 'a', 'd']"
            ]
          },
          "metadata": {},
          "execution_count": 49
        }
      ]
    },
    {
      "cell_type": "code",
      "source": [
        ""
      ],
      "metadata": {
        "id": "-UDBjUEty2_c"
      },
      "execution_count": null,
      "outputs": []
    },
    {
      "cell_type": "markdown",
      "source": [
        "\n",
        "Tuples\n",
        "In Python tuples are very similar to lists, however, unlike lists they are immutable meaning they can not be changed.\n",
        "You would use tuples to present things that shouldn't be changed, such as days of the week, or dates on a calendar.\n",
        "You'll have an intuition of how to use tuples based on what you've learned about lists. We can treat them very similarly with the major distinction being that tuples are immutable."
      ],
      "metadata": {
        "id": "JVlsMB2p18LB"
      }
    },
    {
      "cell_type": "code",
      "source": [
        "## Constructing Tuples\n",
        "## The construction of a tuples use () with elements separated by commas.\n",
        "\n",
        "# Create a tuple\n",
        "my_tuple = (1,'a',3)\n",
        "\n"
      ],
      "metadata": {
        "id": "ha_zDEPZy28Z"
      },
      "execution_count": null,
      "outputs": []
    },
    {
      "cell_type": "code",
      "source": [
        "# Can also mix object types \n",
        "another_tuple = ('one',2, 4.53, 'asbc')\n",
        "\n",
        "# Show\n",
        "another_tuple\n"
      ],
      "metadata": {
        "colab": {
          "base_uri": "https://localhost:8080/"
        },
        "id": "TgEVeY6V2Ot8",
        "outputId": "bfdce426-b2d4-4608-bb26-757b379b792f"
      },
      "execution_count": null,
      "outputs": [
        {
          "output_type": "execute_result",
          "data": {
            "text/plain": [
              "('one', 2, 4.53, 'asbc')"
            ]
          },
          "metadata": {},
          "execution_count": 50
        }
      ]
    },
    {
      "cell_type": "code",
      "source": [
        "# Tuple Indexing\n",
        "# Indexing work just like in lists"
      ],
      "metadata": {
        "id": "tlle-SFU2mea"
      },
      "execution_count": null,
      "outputs": []
    },
    {
      "cell_type": "code",
      "source": [
        "# Grab the element at index 0, which is the FIRST element\n",
        "another_tuple[0] "
      ],
      "metadata": {
        "colab": {
          "base_uri": "https://localhost:8080/",
          "height": 35
        },
        "id": "jDC4Rc7A2ojm",
        "outputId": "6662b97d-bf8a-4e07-86be-d3e586aa9e74"
      },
      "execution_count": null,
      "outputs": [
        {
          "output_type": "execute_result",
          "data": {
            "application/vnd.google.colaboratory.intrinsic+json": {
              "type": "string"
            },
            "text/plain": [
              "'one'"
            ]
          },
          "metadata": {},
          "execution_count": 51
        }
      ]
    },
    {
      "cell_type": "code",
      "source": [
        "# Grab the element at the index -3, which is the THIRD LAST element\n",
        "another_tuple[-3]"
      ],
      "metadata": {
        "colab": {
          "base_uri": "https://localhost:8080/"
        },
        "id": "2fXKEZGJ2yuV",
        "outputId": "9f522a7a-05c0-485f-9881-d43385fafe98"
      },
      "execution_count": null,
      "outputs": [
        {
          "output_type": "execute_result",
          "data": {
            "text/plain": [
              "2"
            ]
          },
          "metadata": {},
          "execution_count": 53
        }
      ]
    },
    {
      "cell_type": "code",
      "source": [
        "# Tuple Slicing\n",
        "\n",
        "# Grab the elements starting from index 1 and everything past it\n",
        "another_tuple[1:3] "
      ],
      "metadata": {
        "colab": {
          "base_uri": "https://localhost:8080/"
        },
        "id": "eXpxiZLD21lS",
        "outputId": "8a4558a6-729a-45a5-d4c4-7f6935c23f87"
      },
      "execution_count": null,
      "outputs": [
        {
          "output_type": "execute_result",
          "data": {
            "text/plain": [
              "(2, 4.53)"
            ]
          },
          "metadata": {},
          "execution_count": 54
        }
      ]
    },
    {
      "cell_type": "code",
      "source": [
        "random_tuple = (1,5,6,2)"
      ],
      "metadata": {
        "id": "U9waNX3u3LYi"
      },
      "execution_count": null,
      "outputs": []
    },
    {
      "cell_type": "code",
      "source": [
        "sorted(random_tuple)"
      ],
      "metadata": {
        "colab": {
          "base_uri": "https://localhost:8080/"
        },
        "id": "SefC___T3Maq",
        "outputId": "c4e57f07-77ef-458b-9f93-1f94f4379cb2"
      },
      "execution_count": null,
      "outputs": [
        {
          "output_type": "execute_result",
          "data": {
            "text/plain": [
              "[1, 2, 5, 6]"
            ]
          },
          "metadata": {},
          "execution_count": 56
        }
      ]
    },
    {
      "cell_type": "code",
      "source": [
        "# Tuple Methods\n",
        "# Tuples have built-in methods, but not as many as lists do.\n",
        "\n",
        "my_tuple =(1,2,3,4,5,6,1,1,2)\n",
        "\n",
        "# Use .index to enter a value and return the index\n",
        "my_tuple.index(2)\n",
        "\n"
      ],
      "metadata": {
        "colab": {
          "base_uri": "https://localhost:8080/"
        },
        "id": "GKGrQg_W3ROg",
        "outputId": "7ea0308e-19a8-44fb-e81f-49e42f9261fa"
      },
      "execution_count": null,
      "outputs": [
        {
          "output_type": "execute_result",
          "data": {
            "text/plain": [
              "1"
            ]
          },
          "metadata": {},
          "execution_count": 58
        }
      ]
    },
    {
      "cell_type": "code",
      "source": [
        "# The count() method returns the total occurrence of a specified element in a tuple\n",
        "\n",
        "# Use .count to count the number of times a value appears\n",
        "my_tuple.count(2)"
      ],
      "metadata": {
        "colab": {
          "base_uri": "https://localhost:8080/"
        },
        "id": "77soGvx43haQ",
        "outputId": "d92074dd-93fb-42d5-e796-c2f67a4f16f9"
      },
      "execution_count": null,
      "outputs": [
        {
          "output_type": "execute_result",
          "data": {
            "text/plain": [
              "2"
            ]
          },
          "metadata": {},
          "execution_count": 59
        }
      ]
    },
    {
      "cell_type": "markdown",
      "source": [
        "Tuple does not support methods such as append(), extend(), remove(), pop()"
      ],
      "metadata": {
        "id": "0T5IcapV32OG"
      }
    },
    {
      "cell_type": "markdown",
      "source": [
        ""
      ],
      "metadata": {
        "id": "j2okcVSA39fa"
      }
    },
    {
      "cell_type": "markdown",
      "source": [
        "zip()\n",
        "\n",
        "zip() function takes multiple lists as arguments and zips them together\n",
        "This function returns a list of n-paired tuples where n is the number of lists being zipped"
      ],
      "metadata": {
        "id": "Pp9kUooV39Nd"
      }
    },
    {
      "cell_type": "code",
      "source": [
        "city_list = ['Delhi','Patna','Cuttack','Guwahati']\n",
        "river_list = ['Yamuna','Ganga','Mahanadi','Brahmaputra']"
      ],
      "metadata": {
        "id": "9E8twm4P21ic"
      },
      "execution_count": null,
      "outputs": []
    },
    {
      "cell_type": "code",
      "source": [
        "zip(city_list, river_list)"
      ],
      "metadata": {
        "colab": {
          "base_uri": "https://localhost:8080/"
        },
        "id": "OyojCJ5076Rz",
        "outputId": "a7d87733-ebbf-4665-eeec-207630bb5273"
      },
      "execution_count": null,
      "outputs": [
        {
          "output_type": "execute_result",
          "data": {
            "text/plain": [
              "<zip at 0x7f012b0b7870>"
            ]
          },
          "metadata": {},
          "execution_count": 61
        }
      ]
    },
    {
      "cell_type": "code",
      "source": [
        "city_and_their_rivers = list(zip(city_list,river_list))"
      ],
      "metadata": {
        "id": "DKC71DYD8AX5"
      },
      "execution_count": null,
      "outputs": []
    },
    {
      "cell_type": "code",
      "source": [
        "city_and_their_rivers"
      ],
      "metadata": {
        "colab": {
          "base_uri": "https://localhost:8080/"
        },
        "id": "WUbhXYBs8bFg",
        "outputId": "33383bd4-b01d-4ad9-889e-06f91caf39d9"
      },
      "execution_count": null,
      "outputs": [
        {
          "output_type": "execute_result",
          "data": {
            "text/plain": [
              "[('Delhi', 'Yamuna'),\n",
              " ('Patna', 'Ganga'),\n",
              " ('Cuttack', 'Mahanadi'),\n",
              " ('Guwahati', 'Brahmaputra')]"
            ]
          },
          "metadata": {},
          "execution_count": 63
        }
      ]
    },
    {
      "cell_type": "markdown",
      "source": [
        "When to use Tuples\n",
        "You may be wondering, \"Why bother using tuples when they have fewer available methods?\" To be honest, tuples are not used as often as lists in programming, but are used when immutability is necessary. If in your program you are passing around an object and need to make sure it does not get changed, then a tuple becomes your solution. It provides a convenient source of data integrity.\n",
        "You will find them often in functions when you are returning some values\n",
        "You should now be able to create and use tuples in your programming as well as have an understanding of their immutability."
      ],
      "metadata": {
        "id": "xWnSXdzMBECX"
      }
    },
    {
      "cell_type": "markdown",
      "source": [
        "Sets\n",
        "\n",
        "Sets are an unordered collection of unique elements. We can construct them by using the set() function.\n",
        "Sets cannot have duplicates.\n",
        "Sets are mutable just like lists.\n",
        "You can create a non-empty set with curly braces by specifying elements separated by a comma."
      ],
      "metadata": {
        "id": "ZioSzpLbBJ-F"
      }
    },
    {
      "cell_type": "code",
      "source": [
        "# Create an empty set \n",
        "empty_set = set()"
      ],
      "metadata": {
        "id": "D0QLyCCj4AND"
      },
      "execution_count": null,
      "outputs": []
    },
    {
      "cell_type": "code",
      "source": [
        "type(empty_set)"
      ],
      "metadata": {
        "colab": {
          "base_uri": "https://localhost:8080/"
        },
        "id": "AI_GuVXYBnlK",
        "outputId": "681874fd-1795-42d8-e595-4d65f9836393"
      },
      "execution_count": null,
      "outputs": [
        {
          "output_type": "execute_result",
          "data": {
            "text/plain": [
              "set"
            ]
          },
          "metadata": {},
          "execution_count": 65
        }
      ]
    },
    {
      "cell_type": "code",
      "source": [
        "# Create a non-empty set within curly braces\n",
        "non_empty_set = {1,6,4,'abc'}"
      ],
      "metadata": {
        "id": "WqP6hKtWCZa1"
      },
      "execution_count": null,
      "outputs": []
    },
    {
      "cell_type": "markdown",
      "source": [
        "A Time for Caution\n",
        "An empty set cannot be represented as {}, which is reserved for an empty dictionary which we will get to know in a short while"
      ],
      "metadata": {
        "id": "ziBWoL1cCxwv"
      }
    },
    {
      "cell_type": "code",
      "source": [
        "my_object = {}"
      ],
      "metadata": {
        "id": "NTZ1vst6CvsD"
      },
      "execution_count": null,
      "outputs": []
    },
    {
      "cell_type": "code",
      "source": [
        "my_set = set()"
      ],
      "metadata": {
        "id": "IUKOcaV4FIsH"
      },
      "execution_count": null,
      "outputs": []
    },
    {
      "cell_type": "code",
      "source": [
        "# Create a list with repeats\n",
        "my_list = [1,1,2,2,3,4,5,6,1,1]"
      ],
      "metadata": {
        "id": "wqGfsAMDFNr4"
      },
      "execution_count": null,
      "outputs": []
    },
    {
      "cell_type": "code",
      "source": [
        "# Cast as set to get unique values\n",
        "my_set = set(my_list)"
      ],
      "metadata": {
        "id": "RCxNng-oFReY"
      },
      "execution_count": null,
      "outputs": []
    },
    {
      "cell_type": "code",
      "source": [
        "my_set"
      ],
      "metadata": {
        "colab": {
          "base_uri": "https://localhost:8080/"
        },
        "id": "UCfs2R1jCZXy",
        "outputId": "77950ee5-c15b-4089-e9ca-faaed415fa8e"
      },
      "execution_count": null,
      "outputs": [
        {
          "output_type": "execute_result",
          "data": {
            "text/plain": [
              "{1, 2, 3, 4, 5, 6}"
            ]
          },
          "metadata": {},
          "execution_count": 71
        }
      ]
    },
    {
      "cell_type": "code",
      "source": [
        "# A set cannot have mutable items\n",
        "my_set = {1, 2, (3, 4)}"
      ],
      "metadata": {
        "id": "4g52AatLGlF0"
      },
      "execution_count": null,
      "outputs": []
    },
    {
      "cell_type": "markdown",
      "source": [
        "We cannot create a set whose any of the elements is a list"
      ],
      "metadata": {
        "id": "HAHXKW6OGqM7"
      }
    },
    {
      "cell_type": "code",
      "source": [
        "# Write a Python program to test whether a passed letter is a vowel or not\n",
        "def is_vowel(char):\n",
        "    all_vowels = 'aeiou'\n",
        "    return char in all_vowels\n",
        "print(is_vowel('c'))\n",
        "print(is_vowel(\"f\"))"
      ],
      "metadata": {
        "id": "zOtJL2RNGrhS",
        "colab": {
          "base_uri": "https://localhost:8080/"
        },
        "outputId": "e1086264-e86b-4356-fcc6-334daa4ab209"
      },
      "execution_count": null,
      "outputs": [
        {
          "output_type": "stream",
          "name": "stdout",
          "text": [
            "False\n",
            "False\n"
          ]
        }
      ]
    },
    {
      "cell_type": "code",
      "source": [
        "# Write a Python program to check whether a specified value is contained in a group of values.\n",
        "def is_group_member(group_data, n):\n",
        "   for value in group_data:\n",
        "       if n == value:\n",
        "           return True\n",
        "   return False\n",
        "print(is_group_member([1, 5, 8, 3], 3))\n",
        "print(is_group_member([5, 8, 3], -1))"
      ],
      "metadata": {
        "id": "D9wAkiC7tURJ"
      },
      "execution_count": null,
      "outputs": []
    },
    {
      "cell_type": "code",
      "source": [
        "nm1 = input(\"Entern your number: \")\n",
        "nm2 = input(\"enter your number: \")\n",
        "\n",
        "sum = float(nm1)+float(nm2)\n",
        "print('sum of {0} and {1} is {2}'.format (nm1,nm1,sum))"
      ],
      "metadata": {
        "id": "WCloCZQQpm-Q",
        "colab": {
          "base_uri": "https://localhost:8080/"
        },
        "outputId": "fe56ba28-6a6f-4730-e71d-2f4b0525202a"
      },
      "execution_count": null,
      "outputs": [
        {
          "output_type": "stream",
          "name": "stdout",
          "text": [
            "Entern your number: 7\n",
            "enter your number: 1\n",
            "sum of 7 and 7 is 8.0\n"
          ]
        }
      ]
    },
    {
      "cell_type": "code",
      "source": [
        "num = float(input('enter your number here: '))\n",
        "nmsqrt = num**0.5\n",
        "\n",
        "print(nmsqrt)\n",
        "print('sqrt of num {} is {}'.format(num,nmsqrt))"
      ],
      "metadata": {
        "id": "X9zOtfTeGrXt",
        "colab": {
          "base_uri": "https://localhost:8080/"
        },
        "outputId": "66e12493-8bc0-47b5-cd86-a302b8259a89"
      },
      "execution_count": null,
      "outputs": [
        {
          "output_type": "stream",
          "name": "stdout",
          "text": [
            "enter your number here: 25\n",
            "5.0\n",
            "sqrt of num 25.0 is 5.0\n"
          ]
        }
      ]
    },
    {
      "cell_type": "code",
      "source": [
        "# Find square root of real or complex numbers\n",
        "# Importing the complex math module\n",
        "import cmath\n",
        "\n",
        "num = 1+2j\n",
        "\n",
        "# To take input from the user\n",
        "num = eval(input('Enter a number: '))\n",
        "\n",
        "num_sqrt = cmath.sqrt(num)\n",
        "print('The square root of {0} is {1:0.3f}+{2:0.3f}j'.format(num ,num_sqrt.real,num_sqrt.imag))"
      ],
      "metadata": {
        "colab": {
          "base_uri": "https://localhost:8080/"
        },
        "id": "dVSU1h3Equuk",
        "outputId": "a02111a7-7b94-4369-ae3a-ec16b139dad7"
      },
      "execution_count": null,
      "outputs": [
        {
          "output_type": "stream",
          "name": "stdout",
          "text": [
            "Enter a number: 23+66\n",
            "The square root of 89 is 9.434+0.000j\n"
          ]
        }
      ]
    },
    {
      "cell_type": "code",
      "source": [
        "# Python Program to find the area of triangle\n",
        "\n",
        "a = 5\n",
        "b = 6\n",
        "c = 7\n",
        "\n",
        "# Uncomment below to take inputs from the user\n",
        "5\n",
        "a = float(input('Enter first side: '))\n",
        "b = float(input('Enter second side: '))\n",
        "c = float(input('Enter third side: '))\n",
        "\n",
        "# calculate the semi-perimeter\n",
        "s = (a + b + c) / 2\n",
        "\n",
        "# calculate the area\n",
        "area = (s*(s-a)*(s-b)*(s-c)) ** 0.5\n",
        "print('The area of the triangle is %0.2f' %area)"
      ],
      "metadata": {
        "id": "MVF1ErFgrnH8",
        "colab": {
          "base_uri": "https://localhost:8080/"
        },
        "outputId": "5e5c3b0f-45bb-4fd5-826e-14f41008b089"
      },
      "execution_count": null,
      "outputs": [
        {
          "output_type": "stream",
          "name": "stdout",
          "text": [
            "Enter first side: 6\n",
            "Enter second side: 5\n",
            "Enter third side: 4\n",
            "The area of the triangle is 9.92\n"
          ]
        }
      ]
    },
    {
      "cell_type": "code",
      "source": [
        ""
      ],
      "metadata": {
        "id": "5woIncHxqCWJ"
      },
      "execution_count": null,
      "outputs": []
    },
    {
      "cell_type": "code",
      "source": [
        "## Solve the quadratic equation ax**2 + bx + c = 0\n",
        "\n",
        "# import complex math module\n",
        "import cmath\n",
        "\n",
        "a = float(input('Enter first side: '))\n",
        "b = float(input('Enter second side: '))\n",
        "c = float(input('Enter third side: '))\n",
        "\n",
        "# calculate the discriminant\n",
        "d = (b**2) - (4*a*c)\n",
        "\n",
        "# find two solutions\n",
        "sol1 = (-b-cmath.sqrt(d))/(2*a)\n",
        "sol2 = (-b+cmath.sqrt(d))/(2*a)\n",
        "\n",
        "print('The solution are {0} and {1}'.format(sol1,sol2))"
      ],
      "metadata": {
        "colab": {
          "base_uri": "https://localhost:8080/"
        },
        "id": "lPGyX37j6ySN",
        "outputId": "f54358d6-a53a-41e5-a280-242d249f7fd4"
      },
      "execution_count": null,
      "outputs": [
        {
          "output_type": "stream",
          "name": "stdout",
          "text": [
            "Enter first side: 3\n",
            "Enter second side: 5\n",
            "Enter third side: 8\n",
            "The solution are (-0.8333333333333334-1.4043582955293932j) and (-0.8333333333333334+1.4043582955293932j)\n"
          ]
        }
      ]
    },
    {
      "cell_type": "code",
      "source": [
        "## Python Program to Swap Two Variables\n",
        "x = input('enter value of x:, ')\n",
        "y = input('enter value of y:, ')\n",
        "temp=x\n",
        "x=y\n",
        "y=temp\n",
        "\n",
        "print('the value of x after swapping: {} '.format(x))\n",
        "print('the value of y after swapping: {}'.format(y))\n"
      ],
      "metadata": {
        "colab": {
          "base_uri": "https://localhost:8080/"
        },
        "id": "GriLMgEE9Nmv",
        "outputId": "ab4c4699-4942-42f7-9ac4-f6e38142fe6a"
      },
      "execution_count": null,
      "outputs": [
        {
          "output_type": "stream",
          "name": "stdout",
          "text": [
            "enter value of x:, 2\n",
            "enter value of y:, 3\n",
            "the value of x after swapping: 3 \n",
            "the value of y after swapping: 2\n"
          ]
        }
      ]
    },
    {
      "cell_type": "code",
      "source": [
        ""
      ],
      "metadata": {
        "id": "teIJteVz9Ncu"
      },
      "execution_count": null,
      "outputs": []
    },
    {
      "cell_type": "code",
      "source": [
        "# Python Program to Generate a Random Number\n",
        "# Program to generate a random number between 0 and 9\n",
        "\n",
        "# importing the random module\n",
        "import random\n",
        "\n",
        "print(random.randint(0,9))\n"
      ],
      "metadata": {
        "colab": {
          "base_uri": "https://localhost:8080/"
        },
        "id": "taXNJc0K-zQy",
        "outputId": "a105b8c1-8d72-4513-f0e2-ca33ee474757"
      },
      "execution_count": null,
      "outputs": [
        {
          "output_type": "stream",
          "name": "stdout",
          "text": [
            "6\n"
          ]
        }
      ]
    },
    {
      "cell_type": "code",
      "source": [
        "# Taking kilometers input from the user\n",
        "kilometers = float(input(\"Enter value in kilometers: \"))\n",
        "\n",
        "# conversion factor\n",
        "conv_fac = 0.621371\n",
        "\n",
        "# calculate miles\n",
        "miles = kilometers * conv_fac\n",
        "print('%0.2f kilometers is equal to %0.2f miles' %(kilometers,miles))\n"
      ],
      "metadata": {
        "colab": {
          "base_uri": "https://localhost:8080/"
        },
        "id": "MLM0-qE7_GCA",
        "outputId": "85467549-b901-46be-a631-900f0fbd9ad3"
      },
      "execution_count": null,
      "outputs": [
        {
          "output_type": "stream",
          "name": "stdout",
          "text": [
            "Enter value in kilometers: 2\n",
            "2.00 kilometers is equal to 1.24 miles\n"
          ]
        }
      ]
    },
    {
      "cell_type": "code",
      "source": [
        "# Consider a list of strings \n",
        "\n",
        "got_houses = ['Stark', 'Arryn', 'Baratheon', 'Tully', 'Greyjoy', 'Lannister', 'Tyrell', 'Martell', 'Targaryen']\n",
        "\n",
        "for house in got_houses[:-1]:\n",
        "  print(f'house {house}')\n"
      ],
      "metadata": {
        "id": "h3UoPzGV_F3m",
        "colab": {
          "base_uri": "https://localhost:8080/"
        },
        "outputId": "7973e063-86ac-4b43-80df-45d758e3eab5"
      },
      "execution_count": 6,
      "outputs": [
        {
          "output_type": "stream",
          "name": "stdout",
          "text": [
            "house Stark\n",
            "house Arryn\n",
            "house Baratheon\n",
            "house Tully\n",
            "house Greyjoy\n",
            "house Lannister\n",
            "house Tyrell\n",
            "house Martell\n"
          ]
        }
      ]
    },
    {
      "cell_type": "code",
      "source": [
        "# Using enumerate function to loop through the elements of a list\n",
        "for number,house in enumerate(got_houses):\n",
        "  print(f\"The house no of house {house} is {number + 1}\")"
      ],
      "metadata": {
        "colab": {
          "base_uri": "https://localhost:8080/"
        },
        "id": "QK8sSpPhfSLa",
        "outputId": "6c5a1da1-cb5e-4193-fc06-6bb8b2c51c55"
      },
      "execution_count": 7,
      "outputs": [
        {
          "output_type": "stream",
          "name": "stdout",
          "text": [
            "The house no of house Stark is 1\n",
            "The house no of house Arryn is 2\n",
            "The house no of house Baratheon is 3\n",
            "The house no of house Tully is 4\n",
            "The house no of house Greyjoy is 5\n",
            "The house no of house Lannister is 6\n",
            "The house no of house Tyrell is 7\n",
            "The house no of house Martell is 8\n",
            "The house no of house Targaryen is 9\n"
          ]
        }
      ]
    },
    {
      "cell_type": "code",
      "source": [
        "list (enumerate(got_houses))"
      ],
      "metadata": {
        "colab": {
          "base_uri": "https://localhost:8080/"
        },
        "id": "QfPfwYu3lPD0",
        "outputId": "972e0401-4875-4f0b-e412-74c31736d7e8"
      },
      "execution_count": 9,
      "outputs": [
        {
          "output_type": "execute_result",
          "data": {
            "text/plain": [
              "[(0, 'Stark'),\n",
              " (1, 'Arryn'),\n",
              " (2, 'Baratheon'),\n",
              " (3, 'Tully'),\n",
              " (4, 'Greyjoy'),\n",
              " (5, 'Lannister'),\n",
              " (6, 'Tyrell'),\n",
              " (7, 'Martell'),\n",
              " (8, 'Targaryen')]"
            ]
          },
          "metadata": {},
          "execution_count": 9
        }
      ]
    },
    {
      "cell_type": "code",
      "source": [
        "# The list of numbers\n",
        "list_of_numbers = [1, 2, 4, 6, 11, 14, 17, 20]\n",
        "\n",
        "# Let us first print the squares\n",
        "for number in list_of_numbers:\n",
        "  squared_number = number**2\n",
        "  print(f\"square of the {number} is {squared_number}\")"
      ],
      "metadata": {
        "colab": {
          "base_uri": "https://localhost:8080/"
        },
        "id": "9RK5nv5nm8-a",
        "outputId": "b5fcaeb3-8bf6-4862-8d90-239e38e73125"
      },
      "execution_count": 11,
      "outputs": [
        {
          "output_type": "stream",
          "name": "stdout",
          "text": [
            "square of the 1 is 1\n",
            "square of the 2 is 4\n",
            "square of the 4 is 16\n",
            "square of the 6 is 36\n",
            "square of the 11 is 121\n",
            "square of the 14 is 196\n",
            "square of the 17 is 289\n",
            "square of the 20 is 400\n"
          ]
        }
      ]
    },
    {
      "cell_type": "code",
      "source": [
        "squared_numbers= []\n",
        "\n",
        "for number in list_of_numbers:\n",
        "  square=number**2\n",
        "\n",
        "  squared_numbers.append(square)\n",
        "print(f\"list of squared number is {squared_numbers}\")"
      ],
      "metadata": {
        "colab": {
          "base_uri": "https://localhost:8080/"
        },
        "id": "7Myr196NrLkY",
        "outputId": "0c691e5f-8131-49f0-bf77-8eed25eede5f"
      },
      "execution_count": 14,
      "outputs": [
        {
          "output_type": "stream",
          "name": "stdout",
          "text": [
            "list of squared number is [1, 4, 16, 36, 121, 196, 289, 400]\n"
          ]
        }
      ]
    },
    {
      "cell_type": "code",
      "source": [
        "# Let us first initialize a list where we will be appending the squares in each iteration\n",
        "\n",
        "squared_numbers = []\n",
        "\n",
        "for number in list_of_numbers:\n",
        "  square = number**2\n",
        "  # Use the append method to add the numbers one by one to our list\n",
        "  squared_numbers.append(square)\n",
        "  # print(squared_numbers)\n",
        "\n",
        "print(f\"The list of squared numbers is {squared_numbers}\")"
      ],
      "metadata": {
        "colab": {
          "base_uri": "https://localhost:8080/"
        },
        "id": "UIwbLEiIsFN9",
        "outputId": "b4301f23-b0a9-4efa-d546-d54fce7c9f69"
      },
      "execution_count": 13,
      "outputs": [
        {
          "output_type": "stream",
          "name": "stdout",
          "text": [
            "The list of squared numbers is [1, 4, 16, 36, 121, 196, 289, 400]\n"
          ]
        }
      ]
    }
  ]
}