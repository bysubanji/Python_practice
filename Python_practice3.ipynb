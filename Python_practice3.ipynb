{
  "nbformat": 4,
  "nbformat_minor": 0,
  "metadata": {
    "colab": {
      "name": "Python_practice3.ipynb",
      "provenance": [],
      "authorship_tag": "ABX9TyNdadGls7ZPFQ4q7SchECoA",
      "include_colab_link": true
    },
    "kernelspec": {
      "name": "python3",
      "display_name": "Python 3"
    },
    "language_info": {
      "name": "python"
    }
  },
  "cells": [
    {
      "cell_type": "markdown",
      "metadata": {
        "id": "view-in-github",
        "colab_type": "text"
      },
      "source": [
        "<a href=\"https://colab.research.google.com/github/bysubanji/Python_practice/blob/main/Python_practice3.ipynb\" target=\"_parent\"><img src=\"https://colab.research.google.com/assets/colab-badge.svg\" alt=\"Open In Colab\"/></a>"
      ]
    },
    {
      "cell_type": "markdown",
      "source": [
        "Practising "
      ],
      "metadata": {
        "id": "ri21xaZybBzf"
      }
    },
    {
      "cell_type": "code",
      "execution_count": 1,
      "metadata": {
        "id": "-FHIrtHRauqW"
      },
      "outputs": [],
      "source": [
        "## Given two integer numbers return their product only if the product is greater than 1000, else return their sum.\n",
        "def mul_sum(num1,num2):\n",
        "  product= num1*num2\n",
        "  if product <=1000:\n",
        "    return product\n",
        "  else:\n",
        "    return num1+num2\n"
      ]
    },
    {
      "cell_type": "code",
      "source": [
        "r=mul_sum(30,50)\n",
        "r"
      ],
      "metadata": {
        "colab": {
          "base_uri": "https://localhost:8080/"
        },
        "id": "jOGGX74_cjf6",
        "outputId": "f3c3a7e6-5f4f-4b4e-8e57-7d0e596181df"
      },
      "execution_count": 3,
      "outputs": [
        {
          "output_type": "execute_result",
          "data": {
            "text/plain": [
              "80"
            ]
          },
          "metadata": {},
          "execution_count": 3
        }
      ]
    },
    {
      "cell_type": "code",
      "source": [
        "#Write a program to iterate the first 10 numbers and in each iteration, print the sum of the current and previous number.\n",
        "prv_num=0\n",
        "for i in range(1,11):\n",
        "  sum= prv_num+i\n",
        "  print(\"current number\",i, \"previous number\",prv_num,\"sum\",sum)\n",
        "  prv_num=i"
      ],
      "metadata": {
        "colab": {
          "base_uri": "https://localhost:8080/"
        },
        "id": "9UGtwqyXdKh-",
        "outputId": "ff728bd2-d098-4662-f80b-d59bca29f680"
      },
      "execution_count": 9,
      "outputs": [
        {
          "output_type": "stream",
          "name": "stdout",
          "text": [
            "current number 1 previous number 1 sum 1\n",
            "current number 2 previous number 2 sum 3\n",
            "current number 3 previous number 3 sum 5\n",
            "current number 4 previous number 4 sum 7\n",
            "current number 5 previous number 5 sum 9\n",
            "current number 6 previous number 6 sum 11\n",
            "current number 7 previous number 7 sum 13\n",
            "current number 8 previous number 8 sum 15\n",
            "current number 9 previous number 9 sum 17\n",
            "current number 10 previous number 10 sum 19\n"
          ]
        }
      ]
    },
    {
      "cell_type": "code",
      "source": [
        "#Write a program to accept a string from the user and display characters that are present at an even index number.\n",
        "word = input(\"Enter a word\", )\n",
        "print(\"Original string\",word)\n",
        "\n",
        "size = len(word)\n",
        "\n",
        "for i in range(1,size,2):\n",
        "  print(\"index[\",i,\"]\", word[i])\n"
      ],
      "metadata": {
        "colab": {
          "base_uri": "https://localhost:8080/"
        },
        "id": "-76wYB9zftRP",
        "outputId": "5a1d2898-50f5-41ee-e07d-cfdc728db32c"
      },
      "execution_count": 18,
      "outputs": [
        {
          "output_type": "stream",
          "name": "stdout",
          "text": [
            "Enter a wordthis is not\n",
            "Original string this is not\n",
            "index[ 1 ] h\n",
            "index[ 3 ] s\n",
            "index[ 5 ] i\n",
            "index[ 7 ]  \n",
            "index[ 9 ] o\n"
          ]
        }
      ]
    },
    {
      "cell_type": "code",
      "source": [
        "# accept input string from a user\n",
        "word = input('Enter word ')\n",
        "print(\"Original String:\", word)\n",
        "\n",
        "# using list slicing\n",
        "# convert string to list\n",
        "# pick only even index chars\n",
        "x = list(word)\n",
        "for i in x[1::2]:\n",
        "    print(i)\n"
      ],
      "metadata": {
        "colab": {
          "base_uri": "https://localhost:8080/"
        },
        "id": "dHWq6WUPh_WK",
        "outputId": "e813bdfd-c7a1-4df2-e314-09da9bd92b92"
      },
      "execution_count": 20,
      "outputs": [
        {
          "output_type": "stream",
          "name": "stdout",
          "text": [
            "Enter word this is not\n",
            "Original String: this is not\n",
            "h\n",
            "s\n",
            "i\n",
            " \n",
            "o\n"
          ]
        }
      ]
    },
    {
      "cell_type": "code",
      "source": [
        "def remove_chars(word, n):\n",
        "    print('Original string:', word)\n",
        "    x = word[n:]\n",
        "    return x\n",
        "\n",
        "print(\"Removing characters from a string\")\n",
        "print(remove_chars(\"pynative\", 4))\n",
        "print(remove_chars(\"pynative\", 2))\n"
      ],
      "metadata": {
        "colab": {
          "base_uri": "https://localhost:8080/"
        },
        "id": "G6WWk6aRiMuX",
        "outputId": "2f7402ff-6ba4-402c-90fd-55eee32adad4"
      },
      "execution_count": 21,
      "outputs": [
        {
          "output_type": "stream",
          "name": "stdout",
          "text": [
            "Removing characters from a string\n",
            "Original string: pynative\n",
            "tive\n",
            "Original string: pynative\n",
            "native\n"
          ]
        }
      ]
    },
    {
      "cell_type": "code",
      "source": [
        ""
      ],
      "metadata": {
        "id": "2PMW_Jq8mS3w"
      },
      "execution_count": null,
      "outputs": []
    }
  ]
}