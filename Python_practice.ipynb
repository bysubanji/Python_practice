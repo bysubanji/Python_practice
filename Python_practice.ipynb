{
  "nbformat": 4,
  "nbformat_minor": 0,
  "metadata": {
    "colab": {
      "name": "Python practice.ipynb",
      "provenance": [],
      "authorship_tag": "ABX9TyNMgv39W9tm5MiZiKQ1r9O5",
      "include_colab_link": true
    },
    "kernelspec": {
      "name": "python3",
      "display_name": "Python 3"
    },
    "language_info": {
      "name": "python"
    }
  },
  "cells": [
    {
      "cell_type": "markdown",
      "metadata": {
        "id": "view-in-github",
        "colab_type": "text"
      },
      "source": [
        "<a href=\"https://colab.research.google.com/github/bysubanji/Python_practice/blob/main/Python_practice.ipynb\" target=\"_parent\"><img src=\"https://colab.research.google.com/assets/colab-badge.svg\" alt=\"Open In Colab\"/></a>"
      ]
    },
    {
      "cell_type": "code",
      "execution_count": null,
      "metadata": {
        "colab": {
          "base_uri": "https://localhost:8080/"
        },
        "id": "PjbWu61nlAWn",
        "outputId": "d68a29c1-0bc5-4132-f100-8bbdec2631af"
      },
      "outputs": [
        {
          "output_type": "stream",
          "name": "stdout",
          "text": [
            "hello, python?\n"
          ]
        }
      ],
      "source": [
        "print(\"hello, python?\")"
      ]
    },
    {
      "cell_type": "code",
      "source": [
        "var1 = 1\n",
        "var2 = 10\n",
        "print (\"var1, var2\")"
      ],
      "metadata": {
        "colab": {
          "base_uri": "https://localhost:8080/"
        },
        "id": "_grITq1Tl1sl",
        "outputId": "3fd3804d-0afb-46a3-fed8-d683c0362824"
      },
      "execution_count": null,
      "outputs": [
        {
          "output_type": "stream",
          "name": "stdout",
          "text": [
            "var1, var2\n"
          ]
        }
      ]
    },
    {
      "cell_type": "code",
      "source": [
        "str = \"hello world\"\n",
        "print(str)\n",
        "print(str[:-4])\n",
        "print(\"str\" + \"fun\") #cncat"
      ],
      "metadata": {
        "colab": {
          "base_uri": "https://localhost:8080/"
        },
        "id": "HF_U7DC4sbWP",
        "outputId": "4df0393e-8f5f-4d90-fa17-533dff9264d7"
      },
      "execution_count": null,
      "outputs": [
        {
          "output_type": "stream",
          "name": "stdout",
          "text": [
            "hello world\n",
            "hello w\n",
            "strfun\n"
          ]
        }
      ]
    },
    {
      "cell_type": "code",
      "source": [
        "dict = {}\n",
        "dict[1] = [\"this is 10\"]\n",
        "dict[2] = [\"this is 2\"]\n",
        "tinydict = {'name': 'Bhaskar' , 'employee':'53', 'dept':'sale'}\n",
        "\n"
      ],
      "metadata": {
        "id": "yG7d2t3VwBuJ"
      },
      "execution_count": 5,
      "outputs": []
    },
    {
      "cell_type": "code",
      "source": [
        "print(tinydict)"
      ],
      "metadata": {
        "id": "oo1BQdY-wBkw",
        "colab": {
          "base_uri": "https://localhost:8080/"
        },
        "outputId": "fced4a02-10a3-4624-853e-8fe625cf6713"
      },
      "execution_count": 6,
      "outputs": [
        {
          "output_type": "stream",
          "name": "stdout",
          "text": [
            "{'name': 'Bhaskar', 'employee': '53', 'dept': 'sale'}\n"
          ]
        }
      ]
    },
    {
      "cell_type": "code",
      "source": [
        "print(tinydict.keys())"
      ],
      "metadata": {
        "colab": {
          "base_uri": "https://localhost:8080/"
        },
        "id": "XPDeY7gXwTT-",
        "outputId": "632594e8-efb5-49ea-cb39-5d0102101cb9"
      },
      "execution_count": 7,
      "outputs": [
        {
          "output_type": "stream",
          "name": "stdout",
          "text": [
            "dict_keys(['name', 'employee', 'dept'])\n"
          ]
        }
      ]
    },
    {
      "cell_type": "code",
      "source": [
        "print(tinydict.values())"
      ],
      "metadata": {
        "colab": {
          "base_uri": "https://localhost:8080/"
        },
        "id": "v1Jhg4RCwXJ0",
        "outputId": "34639030-475a-46aa-bbc4-ecf9da87f1c3"
      },
      "execution_count": 9,
      "outputs": [
        {
          "output_type": "stream",
          "name": "stdout",
          "text": [
            "dict_values(['Bhaskar', '53', 'sale'])\n"
          ]
        }
      ]
    },
    {
      "cell_type": "code",
      "source": [
        "print(dict[1])"
      ],
      "metadata": {
        "colab": {
          "base_uri": "https://localhost:8080/"
        },
        "id": "nvnjqrncwbfY",
        "outputId": "df1c320e-543c-49b8-ce72-6668fcf7c820"
      },
      "execution_count": 10,
      "outputs": [
        {
          "output_type": "stream",
          "name": "stdout",
          "text": [
            "['this is 10']\n"
          ]
        }
      ]
    },
    {
      "cell_type": "code",
      "source": [
        ""
      ],
      "metadata": {
        "id": "JHnOitnkwhpx"
      },
      "execution_count": null,
      "outputs": []
    }
  ]
}