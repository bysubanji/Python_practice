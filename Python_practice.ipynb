{
  "nbformat": 4,
  "nbformat_minor": 0,
  "metadata": {
    "colab": {
      "name": "Python practice.ipynb",
      "provenance": [],
      "collapsed_sections": [],
      "authorship_tag": "ABX9TyN2rh/boZrX/F9vL5NICjzp",
      "include_colab_link": true
    },
    "kernelspec": {
      "name": "python3",
      "display_name": "Python 3"
    },
    "language_info": {
      "name": "python"
    }
  },
  "cells": [
    {
      "cell_type": "markdown",
      "metadata": {
        "id": "view-in-github",
        "colab_type": "text"
      },
      "source": [
        "<a href=\"https://colab.research.google.com/github/bysubanji/Python_practice/blob/main/Python_practice.ipynb\" target=\"_parent\"><img src=\"https://colab.research.google.com/assets/colab-badge.svg\" alt=\"Open In Colab\"/></a>"
      ]
    },
    {
      "cell_type": "code",
      "execution_count": null,
      "metadata": {
        "colab": {
          "base_uri": "https://localhost:8080/"
        },
        "id": "PjbWu61nlAWn",
        "outputId": "d68a29c1-0bc5-4132-f100-8bbdec2631af"
      },
      "outputs": [
        {
          "output_type": "stream",
          "name": "stdout",
          "text": [
            "hello, python?\n"
          ]
        }
      ],
      "source": [
        "print(\"hello, python?\")"
      ]
    },
    {
      "cell_type": "code",
      "source": [
        "var1 = 1\n",
        "var2 = 10\n",
        "print (\"var1, var2\")"
      ],
      "metadata": {
        "colab": {
          "base_uri": "https://localhost:8080/"
        },
        "id": "_grITq1Tl1sl",
        "outputId": "3fd3804d-0afb-46a3-fed8-d683c0362824"
      },
      "execution_count": null,
      "outputs": [
        {
          "output_type": "stream",
          "name": "stdout",
          "text": [
            "var1, var2\n"
          ]
        }
      ]
    },
    {
      "cell_type": "code",
      "source": [
        "str = \"hello world\"\n",
        "print(str)\n",
        "print(str[:-4])\n",
        "print(\"str\" + \"fun\") #cncat"
      ],
      "metadata": {
        "colab": {
          "base_uri": "https://localhost:8080/"
        },
        "id": "HF_U7DC4sbWP",
        "outputId": "4df0393e-8f5f-4d90-fa17-533dff9264d7"
      },
      "execution_count": null,
      "outputs": [
        {
          "output_type": "stream",
          "name": "stdout",
          "text": [
            "hello world\n",
            "hello w\n",
            "strfun\n"
          ]
        }
      ]
    },
    {
      "cell_type": "code",
      "source": [
        "dict = {}\n",
        "dict[1] = [\"this is 10\"]\n",
        "dict[2] = [\"this is 2\"]\n",
        "tinydict = {'name': 'Bhaskar' , 'employee':'53', 'dept':'sale'}\n",
        "\n"
      ],
      "metadata": {
        "id": "yG7d2t3VwBuJ"
      },
      "execution_count": null,
      "outputs": []
    },
    {
      "cell_type": "code",
      "source": [
        "print(tinydict)"
      ],
      "metadata": {
        "id": "oo1BQdY-wBkw",
        "colab": {
          "base_uri": "https://localhost:8080/"
        },
        "outputId": "fced4a02-10a3-4624-853e-8fe625cf6713"
      },
      "execution_count": null,
      "outputs": [
        {
          "output_type": "stream",
          "name": "stdout",
          "text": [
            "{'name': 'Bhaskar', 'employee': '53', 'dept': 'sale'}\n"
          ]
        }
      ]
    },
    {
      "cell_type": "code",
      "source": [
        "print(tinydict.keys())"
      ],
      "metadata": {
        "colab": {
          "base_uri": "https://localhost:8080/"
        },
        "id": "XPDeY7gXwTT-",
        "outputId": "632594e8-efb5-49ea-cb39-5d0102101cb9"
      },
      "execution_count": null,
      "outputs": [
        {
          "output_type": "stream",
          "name": "stdout",
          "text": [
            "dict_keys(['name', 'employee', 'dept'])\n"
          ]
        }
      ]
    },
    {
      "cell_type": "code",
      "source": [
        "print(tinydict.values())"
      ],
      "metadata": {
        "colab": {
          "base_uri": "https://localhost:8080/"
        },
        "id": "v1Jhg4RCwXJ0",
        "outputId": "34639030-475a-46aa-bbc4-ecf9da87f1c3"
      },
      "execution_count": null,
      "outputs": [
        {
          "output_type": "stream",
          "name": "stdout",
          "text": [
            "dict_values(['Bhaskar', '53', 'sale'])\n"
          ]
        }
      ]
    },
    {
      "cell_type": "code",
      "source": [
        "print(dict[1])"
      ],
      "metadata": {
        "colab": {
          "base_uri": "https://localhost:8080/"
        },
        "id": "nvnjqrncwbfY",
        "outputId": "df1c320e-543c-49b8-ce72-6668fcf7c820"
      },
      "execution_count": null,
      "outputs": [
        {
          "output_type": "stream",
          "name": "stdout",
          "text": [
            "['this is 10']\n"
          ]
        }
      ]
    },
    {
      "cell_type": "code",
      "source": [
        ""
      ],
      "metadata": {
        "id": "JHnOitnkwhpx"
      },
      "execution_count": null,
      "outputs": []
    },
    {
      "cell_type": "markdown",
      "source": [
        "## Operators"
      ],
      "metadata": {
        "id": "BPH0d4qn9BZn"
      }
    },
    {
      "cell_type": "markdown",
      "source": [
        "Operators are the constructs, which can manipulate the value of operands. Consider the\n",
        "expression 4 + 5 = 9. Here, 4 and 5 are called operands and + is called the operator.\n",
        "\n",
        "\n",
        "Python language supports the following types of operators-\n",
        "\n",
        " Arithmetic Operators\n",
        "\n",
        " Comparison (Relational) Operators\n",
        "\n",
        " Assignment Operators\n",
        "\n",
        " Logical Operators\n",
        "\n",
        " Bitwise Operators\n",
        "\n",
        " Membership Operators\n",
        "\n",
        " Identity Operators"
      ],
      "metadata": {
        "id": "2Fuc0lV186ge"
      }
    },
    {
      "cell_type": "code",
      "source": [
        "a = 2\n",
        "b =34\n",
        "d = 34\n",
        "print(\"value of d is\" ,d)"
      ],
      "metadata": {
        "colab": {
          "base_uri": "https://localhost:8080/"
        },
        "id": "EynXjF23BVpl",
        "outputId": "5156605d-d9ab-4e48-a50a-95c8c59ef53a"
      },
      "execution_count": null,
      "outputs": [
        {
          "output_type": "stream",
          "name": "stdout",
          "text": [
            "value of d is 34\n"
          ]
        }
      ]
    },
    {
      "cell_type": "code",
      "source": [
        "d = a+d\n",
        "print(\"value of d is\" ,d)"
      ],
      "metadata": {
        "colab": {
          "base_uri": "https://localhost:8080/"
        },
        "id": "2_pDotlEBuTH",
        "outputId": "f7635357-1d01-449d-beec-82cd61fccde9"
      },
      "execution_count": null,
      "outputs": [
        {
          "output_type": "stream",
          "name": "stdout",
          "text": [
            "value of d is 36\n"
          ]
        }
      ]
    },
    {
      "cell_type": "code",
      "source": [
        "d = b*a\n",
        "print(\"value of d is\" ,d)"
      ],
      "metadata": {
        "colab": {
          "base_uri": "https://localhost:8080/"
        },
        "id": "7A0eTKScB3pD",
        "outputId": "b3ad9858-cb64-465f-ff56-836ec2284141"
      },
      "execution_count": null,
      "outputs": [
        {
          "output_type": "stream",
          "name": "stdout",
          "text": [
            "value of d is 68\n"
          ]
        }
      ]
    },
    {
      "cell_type": "code",
      "source": [
        "d = b % a\n",
        "print(\"value of d is\" ,d)"
      ],
      "metadata": {
        "colab": {
          "base_uri": "https://localhost:8080/"
        },
        "id": "ZyqUioUhB9xn",
        "outputId": "d4cf05b5-3da3-474f-827d-726e5e458fee"
      },
      "execution_count": null,
      "outputs": [
        {
          "output_type": "stream",
          "name": "stdout",
          "text": [
            "value of d is 0\n"
          ]
        }
      ]
    },
    {
      "cell_type": "code",
      "source": [
        "d = a-b\n",
        "print(\"value of d is\" ,d)"
      ],
      "metadata": {
        "colab": {
          "base_uri": "https://localhost:8080/"
        },
        "id": "mEQT__AxCO79",
        "outputId": "4d6ee992-7069-4548-dda4-9c2fb10e3823"
      },
      "execution_count": null,
      "outputs": [
        {
          "output_type": "stream",
          "name": "stdout",
          "text": [
            "value of d is -32\n"
          ]
        }
      ]
    },
    {
      "cell_type": "code",
      "source": [
        "a=3\n",
        "b=3\n",
        "a==b"
      ],
      "metadata": {
        "colab": {
          "base_uri": "https://localhost:8080/"
        },
        "id": "C8ti43O2CBCu",
        "outputId": "0e47d6ac-78e7-4916-e897-c082b42ec7b7"
      },
      "execution_count": null,
      "outputs": [
        {
          "output_type": "execute_result",
          "data": {
            "text/plain": [
              "True"
            ]
          },
          "metadata": {},
          "execution_count": 18
        }
      ]
    },
    {
      "cell_type": "code",
      "source": [
        "a=4\n",
        "b=5\n",
        "a==b"
      ],
      "metadata": {
        "colab": {
          "base_uri": "https://localhost:8080/"
        },
        "id": "HI4qRtQtFSCf",
        "outputId": "82a2194f-8413-4493-a595-ff653208b32c"
      },
      "execution_count": null,
      "outputs": [
        {
          "output_type": "execute_result",
          "data": {
            "text/plain": [
              "False"
            ]
          },
          "metadata": {},
          "execution_count": 19
        }
      ]
    },
    {
      "cell_type": "code",
      "source": [
        "a=3\n",
        "b=4\n",
        "a!=b"
      ],
      "metadata": {
        "colab": {
          "base_uri": "https://localhost:8080/"
        },
        "id": "GrAG06pAFVi2",
        "outputId": "ef1503ce-7e28-4407-da31-f035844d1bfd"
      },
      "execution_count": null,
      "outputs": [
        {
          "output_type": "execute_result",
          "data": {
            "text/plain": [
              "True"
            ]
          },
          "metadata": {},
          "execution_count": 20
        }
      ]
    },
    {
      "cell_type": "code",
      "source": [
        "a=3\n",
        "b=3\n",
        "a!=b"
      ],
      "metadata": {
        "colab": {
          "base_uri": "https://localhost:8080/"
        },
        "id": "HA86nwlfFc7h",
        "outputId": "ebd3a4d5-e341-4c85-803d-5ddeb93e581b"
      },
      "execution_count": null,
      "outputs": [
        {
          "output_type": "execute_result",
          "data": {
            "text/plain": [
              "False"
            ]
          },
          "metadata": {},
          "execution_count": 21
        }
      ]
    },
    {
      "cell_type": "code",
      "source": [
        "a=3\n",
        "b=4\n",
        "a<=b"
      ],
      "metadata": {
        "colab": {
          "base_uri": "https://localhost:8080/"
        },
        "id": "-LqaJXlrFxng",
        "outputId": "e109572a-f3b9-4d2a-b7c8-75da14415c38"
      },
      "execution_count": null,
      "outputs": [
        {
          "output_type": "execute_result",
          "data": {
            "text/plain": [
              "True"
            ]
          },
          "metadata": {},
          "execution_count": 22
        }
      ]
    },
    {
      "cell_type": "code",
      "source": [
        "a=3\n",
        "b=4\n",
        "a>=b"
      ],
      "metadata": {
        "colab": {
          "base_uri": "https://localhost:8080/"
        },
        "id": "nnq77T-4F6WN",
        "outputId": "725e0f80-8f36-4c3f-9cc0-78e9fc350800"
      },
      "execution_count": null,
      "outputs": [
        {
          "output_type": "execute_result",
          "data": {
            "text/plain": [
              "False"
            ]
          },
          "metadata": {},
          "execution_count": 24
        }
      ]
    },
    {
      "cell_type": "code",
      "source": [
        "a = 21\n",
        "b = 10\n",
        "if (a==b):\n",
        "  print(\"a is equal to b\")\n",
        "else:\n",
        "  print(\"a is N-equal to b\")"
      ],
      "metadata": {
        "colab": {
          "base_uri": "https://localhost:8080/"
        },
        "id": "19PvGXfqF_0T",
        "outputId": "f946aad7-95c0-442a-9a1e-7a7acbf4494a"
      },
      "execution_count": null,
      "outputs": [
        {
          "output_type": "stream",
          "name": "stdout",
          "text": [
            "a is N-equal to b\n"
          ]
        }
      ]
    },
    {
      "cell_type": "code",
      "source": [
        "c= a+b\n",
        "print(c)"
      ],
      "metadata": {
        "colab": {
          "base_uri": "https://localhost:8080/"
        },
        "id": "6dcgQa1CJhVT",
        "outputId": "307af378-baa3-4863-8c61-0b759b6a05f0"
      },
      "execution_count": null,
      "outputs": [
        {
          "output_type": "stream",
          "name": "stdout",
          "text": [
            "31\n"
          ]
        }
      ]
    },
    {
      "cell_type": "code",
      "source": [
        "print(\"Twinkle, twinkle, little star, \\n\\tHow I wonder what you are! \\n\\t\\tUp above the world so high, \\n\\t\\tLike a diamond in the sky. \\nTwinkle, twinkle, little star, \\n\\tHow I wonder what you are!\")\n"
      ],
      "metadata": {
        "id": "bOKpUxfjKenE",
        "colab": {
          "base_uri": "https://localhost:8080/"
        },
        "outputId": "dcbad403-977b-4c6b-b2c1-e93f0b25af84"
      },
      "execution_count": null,
      "outputs": [
        {
          "output_type": "stream",
          "name": "stdout",
          "text": [
            "Twinkle, twinkle, little star, \n",
            "\tHow I wonder what you are! \n",
            "\t\tUp above the world so high, \n",
            "\t\tLike a diamond in the sky. \n",
            "Twinkle, twinkle, little star, \n",
            "\tHow I wonder what you are!\n"
          ]
        }
      ]
    },
    {
      "cell_type": "code",
      "source": [
        "#Write a Python program to get the Python version you are using\n",
        "import sys\n",
        "print(\"Python version\")\n",
        "print (sys.version)\n",
        "print(\"Version info.\")\n",
        "print (sys.version_info)\n"
      ],
      "metadata": {
        "colab": {
          "base_uri": "https://localhost:8080/"
        },
        "id": "xfiiUei7Pt6A",
        "outputId": "1de41ed1-98b3-4a81-9e47-c6e28bb2d62e"
      },
      "execution_count": null,
      "outputs": [
        {
          "output_type": "stream",
          "name": "stdout",
          "text": [
            "Python version\n",
            "3.7.12 (default, Sep 10 2021, 00:21:48) \n",
            "[GCC 7.5.0]\n",
            "Version info.\n",
            "sys.version_info(major=3, minor=7, micro=12, releaselevel='final', serial=0)\n"
          ]
        }
      ]
    },
    {
      "cell_type": "code",
      "source": [
        "#  Write a Python program to display the current date and time.\n",
        "import datetime\n",
        "now = datetime.datetime.now()\n",
        "print(\"current date and time: \")\n",
        "print(now)\n",
        "print(now.strftime('%y-%d-%m , %H:%M:%S'))"
      ],
      "metadata": {
        "colab": {
          "base_uri": "https://localhost:8080/"
        },
        "id": "qOed-eKcQC45",
        "outputId": "a93143ad-9156-430f-b6bf-6f4d86877158"
      },
      "execution_count": null,
      "outputs": [
        {
          "output_type": "stream",
          "name": "stdout",
          "text": [
            "current date and time: \n",
            "2022-01-09 09:57:01.193546\n",
            "22-09-01 , 09:57:01\n"
          ]
        }
      ]
    },
    {
      "cell_type": "code",
      "source": [
        "# Write a Python program which accepts the radius of a circle from the user and compute the area\n",
        "from math import pi\n",
        "r = float(input(\"input the radius of circle: \"))\n",
        "print (\"The area of the circle with radius \" + str(r) + \" is: \" + str(pi * r**2))"
      ],
      "metadata": {
        "colab": {
          "base_uri": "https://localhost:8080/"
        },
        "id": "xdtqDxsKRT1v",
        "outputId": "2f03f020-0150-4a94-ffb1-0e0c90e38687"
      },
      "execution_count": null,
      "outputs": [
        {
          "output_type": "stream",
          "name": "stdout",
          "text": [
            "input the radius of circle: 2\n",
            "The area of the circle with radius 2.0 is: 12.566370614359172\n"
          ]
        }
      ]
    },
    {
      "cell_type": "code",
      "source": [
        "#  Write a Python program which accepts the user's first and last name and print them in reverse order with a space between them\n",
        "fname = input(\"Input your First Name : \")\n",
        "lname = input(\"Input your Last Name : \")\n",
        "print (\"Hello  \" + lname + \" \" + fname)"
      ],
      "metadata": {
        "id": "YgB7odlFhpbw",
        "colab": {
          "base_uri": "https://localhost:8080/"
        },
        "outputId": "5a1dadc5-672a-48fc-a4a4-d6a2ef09e717"
      },
      "execution_count": null,
      "outputs": [
        {
          "output_type": "stream",
          "name": "stdout",
          "text": [
            "Input your First Name : jhjjh\n",
            "Input your Last Name : lklkl\n",
            "Hello  lklkl jhjjh\n"
          ]
        }
      ]
    },
    {
      "cell_type": "code",
      "source": [
        "# 6 Write a Python program which accepts a sequence of comma-separated numbers from user and generate a list and a tuple with those numbers.\n",
        "value = input(\"Input some comma seperated number: \")\n",
        "list = value.split(\",\")\n",
        "tuple = tuple(list)\n",
        "print(\"List\", list)\n",
        "print(\"Tuple\", tuple)"
      ],
      "metadata": {
        "id": "c1qUKwtcCTMN",
        "colab": {
          "base_uri": "https://localhost:8080/"
        },
        "outputId": "3e9275cb-235e-4d69-a0d4-417accbe7ef2"
      },
      "execution_count": null,
      "outputs": [
        {
          "output_type": "stream",
          "name": "stdout",
          "text": [
            "Input some comma seperated number: 4,5,6,7,8,9,\n",
            "List ['4', '5', '6', '7', '8', '9', '']\n",
            "Tuple ('4', '5', '6', '7', '8', '9', '')\n"
          ]
        }
      ]
    },
    {
      "cell_type": "code",
      "source": [
        "# 7 Write a Python program to accept a filename from the user and print the extension of that\n",
        "filename = input(\"Filename\")\n",
        "fextn= filename.split(\".\")\n",
        "print('The filename extension is : ' + repr(fextn[-1]))"
      ],
      "metadata": {
        "id": "H_VHn-2XPYET",
        "colab": {
          "base_uri": "https://localhost:8080/"
        },
        "outputId": "d9cc9fa6-9937-4f0c-f057-be46192e2b5b"
      },
      "execution_count": null,
      "outputs": [
        {
          "output_type": "stream",
          "name": "stdout",
          "text": [
            "Filenameklm.jpg\n",
            "The filename extension is : 'jpg'\n"
          ]
        }
      ]
    },
    {
      "cell_type": "code",
      "source": [
        "# 8. Write a Python program to display the first and last colors from the following list.\n",
        "color_list = [\"Red\",\"Green\",\"White\" ,\"Black\"]\n",
        "print(\"%s,%s\"%(color_list[0],color_list[-1]))"
      ],
      "metadata": {
        "colab": {
          "base_uri": "https://localhost:8080/"
        },
        "id": "MWwThO6_65MV",
        "outputId": "bcf20918-ff0d-47f7-e759-fbfdbe51c615"
      },
      "execution_count": null,
      "outputs": [
        {
          "output_type": "stream",
          "name": "stdout",
          "text": [
            "Red,Black\n"
          ]
        }
      ]
    },
    {
      "cell_type": "code",
      "source": [
        "# 9 Write a Python program to display the examination schedule. (extract the date from exam_st_date).\n",
        "exam_st_date = (11, 12, 2014)\n",
        "print(\"the exam will start form : %i / %i / %i\"%exam_st_date)"
      ],
      "metadata": {
        "colab": {
          "base_uri": "https://localhost:8080/"
        },
        "id": "37j_iwyu8UvT",
        "outputId": "2edc2eb8-4c40-4bc4-fd82-df3a8334f40a"
      },
      "execution_count": null,
      "outputs": [
        {
          "output_type": "stream",
          "name": "stdout",
          "text": [
            "the exam will start form : 11 / 12 / 2014\n"
          ]
        }
      ]
    },
    {
      "cell_type": "code",
      "source": [
        "# 10. Write a Python program that accepts an integer (n) and computes the value of n+nn+nnn\n",
        "a = int(input(\"input an integer : \"))\n",
        "n1 = int(\"%s\"% a)\n",
        "n2 = int(\"%s%s\" % (a,a))\n",
        "n3 = int(\"%s%s%s\" % (a,a,a))\n",
        "print(n1+n2+n3)"
      ],
      "metadata": {
        "colab": {
          "base_uri": "https://localhost:8080/"
        },
        "id": "PD-zL9WZAIf3",
        "outputId": "bf109a2d-4ea1-4e94-a976-fde72c8ee7e5"
      },
      "execution_count": null,
      "outputs": [
        {
          "output_type": "stream",
          "name": "stdout",
          "text": [
            "input an integer : 1\n",
            "123\n"
          ]
        }
      ]
    },
    {
      "cell_type": "code",
      "source": [
        "# 11. Write a Python program to print the documents (syntax, description etc.) of Python built-in function(s).\n",
        "\n",
        "print(abs.__doc__)"
      ],
      "metadata": {
        "colab": {
          "base_uri": "https://localhost:8080/"
        },
        "id": "Y3DD21sUBVxS",
        "outputId": "f892aa82-2c00-476b-ec76-3dada8cb0298"
      },
      "execution_count": null,
      "outputs": [
        {
          "output_type": "stream",
          "name": "stdout",
          "text": [
            "Return the absolute value of the argument.\n"
          ]
        }
      ]
    },
    {
      "cell_type": "code",
      "source": [
        "#12. Write a Python program to print the calendar of a given month and year.\n",
        "import calendar\n",
        "y = int(input(\"Input the year : \"))\n",
        "x = int(input(\"input the month: \"))\n",
        "print(calendar.month(y,x))\n"
      ],
      "metadata": {
        "colab": {
          "base_uri": "https://localhost:8080/"
        },
        "id": "mO-4gyNTFz3N",
        "outputId": "ada63e7a-cead-4edd-8214-12ee35a56398"
      },
      "execution_count": null,
      "outputs": [
        {
          "output_type": "stream",
          "name": "stdout",
          "text": [
            "Input the year : 1993\n",
            "input the month: 06\n",
            "     June 1993\n",
            "Mo Tu We Th Fr Sa Su\n",
            "    1  2  3  4  5  6\n",
            " 7  8  9 10 11 12 13\n",
            "14 15 16 17 18 19 20\n",
            "21 22 23 24 25 26 27\n",
            "28 29 30\n",
            "\n"
          ]
        }
      ]
    },
    {
      "cell_type": "code",
      "source": [
        "print(\"\"\"\n",
        "a string that you \"don't\" have to escape\n",
        "This\n",
        "is a  ....... multi-line\n",
        "heredoc string --------> example\n",
        "\"\"\")"
      ],
      "metadata": {
        "colab": {
          "base_uri": "https://localhost:8080/"
        },
        "id": "jVUxcP7VU2mB",
        "outputId": "2e6939ed-44d1-4487-dbd1-cf7d44f22d0d"
      },
      "execution_count": null,
      "outputs": [
        {
          "output_type": "stream",
          "name": "stdout",
          "text": [
            "\n",
            "a string that you \"don't\" have to escape\n",
            "This\n",
            "is a  ....... multi-line\n",
            "heredoc string --------> example\n",
            "\n"
          ]
        }
      ]
    },
    {
      "cell_type": "code",
      "source": [
        "# 14. Write a Python program to calculate number of days between two dates.\n",
        "from datetime import date\n",
        "f_date = date(2014, 7, 2)\n",
        "l_date = date(2014, 7, 11)\n",
        "delta = l_date - f_date\n",
        "print(delta.days)"
      ],
      "metadata": {
        "colab": {
          "base_uri": "https://localhost:8080/"
        },
        "id": "pnS_Yq1hVkg7",
        "outputId": "2504b121-6b57-416b-824a-9aac7a89ab41"
      },
      "execution_count": null,
      "outputs": [
        {
          "output_type": "stream",
          "name": "stdout",
          "text": [
            "9\n"
          ]
        }
      ]
    },
    {
      "cell_type": "code",
      "source": [
        "# 15. Write a Python program to get the volume of a sphere with radius 6.\n",
        "pi = 3.1415926535897931\n",
        "r= 6.0\n",
        "V= 4.0/3.0*pi* r**3\n",
        "print('The volume of the sphere is: ',V)"
      ],
      "metadata": {
        "colab": {
          "base_uri": "https://localhost:8080/"
        },
        "id": "H7R8WDwtWT8l",
        "outputId": "2ad4ce4e-7e9b-4c4f-9617-eb01ab0c47ff"
      },
      "execution_count": null,
      "outputs": [
        {
          "output_type": "stream",
          "name": "stdout",
          "text": [
            "The volume of the sphere is:  904.7786842338603\n"
          ]
        }
      ]
    },
    {
      "cell_type": "code",
      "source": [
        "# 16. Write a Python program to get the difference between a given number and 17, if the number is greater than 17 return double the absolute difference\n",
        "def difference(n):\n",
        "  if n<= 17:\n",
        "    return 17-n\n",
        "  else:\n",
        "    return (n-17)*2\n",
        "\n",
        "print(difference(22))\n",
        "print(difference(14))\n",
        "\n"
      ],
      "metadata": {
        "colab": {
          "base_uri": "https://localhost:8080/"
        },
        "id": "2THRyNsSXcoc",
        "outputId": "fcf28665-e34e-4cdd-be2e-17d4c2844aa2"
      },
      "execution_count": null,
      "outputs": [
        {
          "output_type": "stream",
          "name": "stdout",
          "text": [
            "10\n",
            "3\n"
          ]
        }
      ]
    },
    {
      "cell_type": "code",
      "source": [
        "# Write a Python program to test whether a number is within 100 of 1000 or 2000\n",
        "def near_thousand(n):\n",
        "      return ((abs(1000 - n) <= 100) or (abs(2000 - n) <= 100))\n",
        "print(near_thousand(1000))\n",
        "print(near_thousand(900))\n",
        "print(near_thousand(800))   \n",
        "print(near_thousand(2200))"
      ],
      "metadata": {
        "colab": {
          "base_uri": "https://localhost:8080/"
        },
        "id": "fpPxo_P3aqBv",
        "outputId": "95571b38-39f7-42a4-8c15-d81903e51f02"
      },
      "execution_count": null,
      "outputs": [
        {
          "output_type": "stream",
          "name": "stdout",
          "text": [
            "True\n",
            "True\n",
            "False\n",
            "False\n"
          ]
        }
      ]
    },
    {
      "cell_type": "code",
      "source": [
        "# 18. Write a Python program to calculate the sum of three given numbers, if the values are equal then return three times of their sum\n",
        "def sum_thrice (x,y,z):\n",
        "    sum = x+y+z\n",
        "    if x==y==z:\n",
        "      sum = sum*3\n",
        "      return sum\n",
        "\n",
        "print(sum_thrice(1, 2, 3))\n",
        "print(sum_thrice(3, 3, 3))\n",
        "\n",
        "  \n"
      ],
      "metadata": {
        "id": "FLREaXJXIvsX",
        "colab": {
          "base_uri": "https://localhost:8080/"
        },
        "outputId": "be7ba6cb-92dc-45fc-d976-f6509e8bb095"
      },
      "execution_count": null,
      "outputs": [
        {
          "output_type": "stream",
          "name": "stdout",
          "text": [
            "None\n",
            "27\n"
          ]
        }
      ]
    },
    {
      "cell_type": "code",
      "source": [
        "# . Write a Python program to get a new string from a given string where \"Is\" has been added to the front. If the given string already begins with \"Is\" then return the string unchanged.\n",
        "def new_string(str):\n",
        "  if len(str) >= 2 and str[:2] == \"Is\":\n",
        "    return str\n",
        "  return \"Is\" + str\n",
        "\n",
        "print(new_string(\"Array\"))\n",
        "print(new_string(\"IsEmpty\"))"
      ],
      "metadata": {
        "colab": {
          "base_uri": "https://localhost:8080/"
        },
        "id": "2rgAljpeeYy-",
        "outputId": "dd0ff29f-e281-44e3-9f8f-4670ff39b4e6"
      },
      "execution_count": null,
      "outputs": [
        {
          "output_type": "stream",
          "name": "stdout",
          "text": [
            "IsArray\n",
            "IsEmpty\n"
          ]
        }
      ]
    },
    {
      "cell_type": "code",
      "source": [
        "# 20. Write a Python program to get a string which is n (non-negative integer) copies of a given string\n",
        "def larger_string(str, n):\n",
        "   result = \"\"\n",
        "   for i in range(n):\n",
        "      result = result + str\n",
        "   return result\n",
        "\n",
        "print(larger_string('abc', 2))\n",
        "print(larger_string('.py', 8))"
      ],
      "metadata": {
        "colab": {
          "base_uri": "https://localhost:8080/"
        },
        "id": "L00rKgZDfPRM",
        "outputId": "a52088aa-20f6-45f8-bcd4-beb92b46db3e"
      },
      "execution_count": null,
      "outputs": [
        {
          "output_type": "stream",
          "name": "stdout",
          "text": [
            "abcabc\n",
            ".py.py.py.py.py.py.py.py\n"
          ]
        }
      ]
    },
    {
      "cell_type": "code",
      "source": [
        "#  Write a Python program to find whether a given number (accept from the user) is even or odd, print out an appropriate message to the user\n",
        "\n",
        "num = int(input(\"Enter a Numbr: \"))\n",
        "mod = num % 2\n",
        "if mod >0:\n",
        "  print(\"this is an ODd number \")\n",
        "else :\n",
        "  print(\"this is an Even number \")\n"
      ],
      "metadata": {
        "colab": {
          "base_uri": "https://localhost:8080/"
        },
        "id": "dNOuiv1Z0Cn_",
        "outputId": "75d46187-3c3e-4333-a676-d1315ee266bc"
      },
      "execution_count": null,
      "outputs": [
        {
          "output_type": "stream",
          "name": "stdout",
          "text": [
            "Enter a Numbr: 5\n",
            "this is an ODd number \n"
          ]
        }
      ]
    },
    {
      "cell_type": "code",
      "source": [
        "#  Write a Python program to count the number 4 in a given list.\n",
        "def list_count_4(nums):\n",
        "  count = 0\n",
        "  for num in nums:\n",
        "    if num == 4:\n",
        "      count= count + 1\n",
        "  return count\n",
        "\n",
        "print(list_count_4([1, 3, 6, 7, 5,4,4,4,4,4,4,4,4,4,4,4,4,4,4,4,4,4,]))\n",
        "print(list_count_4([1, 4, 6, 4, 7, 4]))"
      ],
      "metadata": {
        "colab": {
          "base_uri": "https://localhost:8080/"
        },
        "id": "kwEYK4q-0_Fz",
        "outputId": "95e22c31-abc9-4de8-e6ca-d3859d4df1fc"
      },
      "execution_count": null,
      "outputs": [
        {
          "output_type": "stream",
          "name": "stdout",
          "text": [
            "17\n",
            "3\n"
          ]
        }
      ]
    },
    {
      "cell_type": "code",
      "source": [
        "# Write a Python program to get the n (non-negative integer) copies of the first 2 characters of a given string. Return the n copies of the whole string if the length is less than 2.\n",
        "\n",
        "def substring_copy(str, n):\n",
        "  flen = 2\n",
        "  if flen > len(str):\n",
        "    flen = len(str)\n",
        "  substr = str[:flen]\n",
        "  \n",
        "  result = \"\"\n",
        "  for i in range(n):\n",
        "    result = result + substr\n",
        "  return result\n",
        "print(substring_copy('abcdef', 2))\n",
        "print(substring_copy('p', 3));"
      ],
      "metadata": {
        "id": "PEaU3Zcg_qUh",
        "colab": {
          "base_uri": "https://localhost:8080/"
        },
        "outputId": "1f1b1094-b1e1-46a4-c079-ca2f0a8e3b48"
      },
      "execution_count": null,
      "outputs": [
        {
          "output_type": "stream",
          "name": "stdout",
          "text": [
            "abab\n",
            "ppp\n"
          ]
        }
      ]
    },
    {
      "cell_type": "code",
      "source": [
        "# min()\n",
        "#min() function returns the minimum element of the list\n",
        "#min() function only works with lists of similar data types\n",
        "\n",
        "new_list = [6, 9, 1, 3, 5.5]\n",
        "min(new_list)"
      ],
      "metadata": {
        "id": "1JFvz1b9L4jx",
        "colab": {
          "base_uri": "https://localhost:8080/"
        },
        "outputId": "cac6e726-53d9-481b-c99b-a48416329f11"
      },
      "execution_count": 1,
      "outputs": [
        {
          "output_type": "execute_result",
          "data": {
            "text/plain": [
              "1"
            ]
          },
          "metadata": {},
          "execution_count": 1
        }
      ]
    },
    {
      "cell_type": "code",
      "source": [
        "my_new_list = ['a','b', 'z' ,'y' , 'm']"
      ],
      "metadata": {
        "id": "BMWpIiomkJ7H"
      },
      "execution_count": 2,
      "outputs": []
    },
    {
      "cell_type": "code",
      "source": [
        "min(my_new_list)"
      ],
      "metadata": {
        "colab": {
          "base_uri": "https://localhost:8080/",
          "height": 35
        },
        "id": "OnY0ebdXkLBz",
        "outputId": "dd2c55bc-0a34-49c9-abc9-09d5f0319c55"
      },
      "execution_count": 3,
      "outputs": [
        {
          "output_type": "execute_result",
          "data": {
            "application/vnd.google.colaboratory.intrinsic+json": {
              "type": "string"
            },
            "text/plain": [
              "'a'"
            ]
          },
          "metadata": {},
          "execution_count": 3
        }
      ]
    },
    {
      "cell_type": "code",
      "source": [
        "# max()\n",
        "#max() function returns the maximum element of the list\n",
        "#max() function only works with lists of similar data types"
      ],
      "metadata": {
        "id": "RbIbPbwZkQoq"
      },
      "execution_count": null,
      "outputs": []
    },
    {
      "cell_type": "code",
      "source": [
        "new_list = ['Argue','Burglar','Parent','Linear','shape']"
      ],
      "metadata": {
        "id": "PsDeq6AzkUAI"
      },
      "execution_count": 4,
      "outputs": []
    },
    {
      "cell_type": "code",
      "source": [
        "max(new_list)"
      ],
      "metadata": {
        "colab": {
          "base_uri": "https://localhost:8080/",
          "height": 35
        },
        "id": "OUmf2j07kX34",
        "outputId": "4d30524a-e4d4-4024-b0e1-a64ee3c61995"
      },
      "execution_count": 5,
      "outputs": [
        {
          "output_type": "execute_result",
          "data": {
            "application/vnd.google.colaboratory.intrinsic+json": {
              "type": "string"
            },
            "text/plain": [
              "'shape'"
            ]
          },
          "metadata": {},
          "execution_count": 5
        }
      ]
    },
    {
      "cell_type": "code",
      "source": [
        "# sum()\n",
        "#sum() function returns the sum of the elements of the list\n",
        "#sum() function only works with lists of numeric data types"
      ],
      "metadata": {
        "id": "K0TVdvzDkgqG"
      },
      "execution_count": null,
      "outputs": []
    },
    {
      "cell_type": "code",
      "source": [
        "new_list = [6, 9, 1, 3, 5.5]\n",
        "sum(new_list)"
      ],
      "metadata": {
        "colab": {
          "base_uri": "https://localhost:8080/"
        },
        "id": "UVPbF_wcki0u",
        "outputId": "774887fe-8c28-466d-d32c-8f6807210946"
      },
      "execution_count": 6,
      "outputs": [
        {
          "output_type": "execute_result",
          "data": {
            "text/plain": [
              "24.5"
            ]
          },
          "metadata": {},
          "execution_count": 6
        }
      ]
    },
    {
      "cell_type": "code",
      "source": [
        "# sorted()\n",
        "#sorted() function returns the sorted list\n",
        "#sorted() function takes reverse boolean as an argument\n",
        "#sorted() function only works on a list with similar data types"
      ],
      "metadata": {
        "id": "ZL-nveTCksDU"
      },
      "execution_count": null,
      "outputs": []
    },
    {
      "cell_type": "code",
      "source": [
        "new_list"
      ],
      "metadata": {
        "colab": {
          "base_uri": "https://localhost:8080/"
        },
        "id": "lCauvv5Zkv0a",
        "outputId": "6b688e7e-b9db-43f5-a940-b559887d67e3"
      },
      "execution_count": 7,
      "outputs": [
        {
          "output_type": "execute_result",
          "data": {
            "text/plain": [
              "[6, 9, 1, 3, 5.5]"
            ]
          },
          "metadata": {},
          "execution_count": 7
        }
      ]
    },
    {
      "cell_type": "code",
      "source": [
        "sorted(new_list)"
      ],
      "metadata": {
        "colab": {
          "base_uri": "https://localhost:8080/"
        },
        "id": "ol5fCTGUk-Xr",
        "outputId": "159f2cce-fddb-45e9-fb7e-3b10f18fdc55"
      },
      "execution_count": 8,
      "outputs": [
        {
          "output_type": "execute_result",
          "data": {
            "text/plain": [
              "[1, 3, 5.5, 6, 9]"
            ]
          },
          "metadata": {},
          "execution_count": 8
        }
      ]
    },
    {
      "cell_type": "code",
      "source": [
        "print(new_list)"
      ],
      "metadata": {
        "colab": {
          "base_uri": "https://localhost:8080/"
        },
        "id": "ZgbW8HvdlAxg",
        "outputId": "09b949fd-a45c-4b1f-fa07-d7d7e4ba6319"
      },
      "execution_count": 9,
      "outputs": [
        {
          "output_type": "stream",
          "name": "stdout",
          "text": [
            "[6, 9, 1, 3, 5.5]\n"
          ]
        }
      ]
    },
    {
      "cell_type": "code",
      "source": [
        "sorted(new_list,reverse=True)"
      ],
      "metadata": {
        "colab": {
          "base_uri": "https://localhost:8080/"
        },
        "id": "vyssufIWlK55",
        "outputId": "aa0feff4-442b-4cf4-f9de-b9476bc2845d"
      },
      "execution_count": 10,
      "outputs": [
        {
          "output_type": "execute_result",
          "data": {
            "text/plain": [
              "[9, 6, 5.5, 3, 1]"
            ]
          },
          "metadata": {},
          "execution_count": 10
        }
      ]
    },
    {
      "cell_type": "markdown",
      "source": [
        "### List Methods"
      ],
      "metadata": {
        "id": "6vEFcyOplqzY"
      }
    },
    {
      "cell_type": "code",
      "source": [
        "# Create a new list\n",
        "my_list = [1,2,3,1,1,1,3,10,5,8]"
      ],
      "metadata": {
        "id": "m5PqVJQElN49"
      },
      "execution_count": 11,
      "outputs": []
    },
    {
      "cell_type": "code",
      "source": [
        "# #append()\n",
        "# Use the append() method to permanently add an item to the end of a list.\n",
        "# append() method takes the element which you want to add to the list as an argument"
      ],
      "metadata": {
        "id": "Ez-S3yhslwO_"
      },
      "execution_count": null,
      "outputs": []
    },
    {
      "cell_type": "code",
      "source": [
        "# Print the list\n",
        "my_list"
      ],
      "metadata": {
        "colab": {
          "base_uri": "https://localhost:8080/"
        },
        "id": "vozfb2BHl4d8",
        "outputId": "9089bfad-f89f-4909-87ac-85e2e0afec78"
      },
      "execution_count": 12,
      "outputs": [
        {
          "output_type": "execute_result",
          "data": {
            "text/plain": [
              "[1, 2, 3, 1, 1, 1, 3, 10, 5, 8]"
            ]
          },
          "metadata": {},
          "execution_count": 12
        }
      ]
    },
    {
      "cell_type": "code",
      "source": [
        "# Append to the end of the list\n",
        "my_list.append('hit u')"
      ],
      "metadata": {
        "id": "_SHS5gs8l_tN"
      },
      "execution_count": 13,
      "outputs": []
    },
    {
      "cell_type": "code",
      "source": [
        "print(my_list)                           #the append() method changes your original list!"
      ],
      "metadata": {
        "colab": {
          "base_uri": "https://localhost:8080/"
        },
        "id": "QGE214fMmN97",
        "outputId": "a1b59053-1866-45ba-b71e-bd00f384580c"
      },
      "execution_count": 14,
      "outputs": [
        {
          "output_type": "stream",
          "name": "stdout",
          "text": [
            "[1, 2, 3, 1, 1, 1, 3, 10, 5, 8, 'hit u']\n"
          ]
        }
      ]
    },
    {
      "cell_type": "code",
      "source": [
        "my_list.append([1,2,3])"
      ],
      "metadata": {
        "id": "POZN0p4dmYKR"
      },
      "execution_count": 15,
      "outputs": []
    },
    {
      "cell_type": "code",
      "source": [
        "print(my_list) "
      ],
      "metadata": {
        "id": "D3XIklAKmhOc",
        "outputId": "70c553df-6c83-4698-b880-7a34585b591b",
        "colab": {
          "base_uri": "https://localhost:8080/"
        }
      },
      "execution_count": 16,
      "outputs": [
        {
          "output_type": "stream",
          "name": "stdout",
          "text": [
            "[1, 2, 3, 1, 1, 1, 3, 10, 5, 8, 'hit u', [1, 2, 3]]\n"
          ]
        }
      ]
    }
  ]
}